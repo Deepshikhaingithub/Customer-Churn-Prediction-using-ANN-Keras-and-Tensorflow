{
 "cells": [
  {
   "cell_type": "markdown",
   "id": "3bc56165",
   "metadata": {},
   "source": [
    "### Customer Churn Prediction"
   ]
  },
  {
   "cell_type": "markdown",
   "id": "5b0feb56",
   "metadata": {},
   "source": [
    "### Project Overview:\n",
    "This project aims to develop a predictive model that can effectively identify customers who are likely to exit a multinational bank operating in France, Spain, and Germany. Customer churn, the act of customers leaving the bank, is a critical concern for financial institutions. Understanding and predicting churn can help the bank take proactive measures to retain valuable customers, thereby reducing revenue loss and maintaining a competitive edge in the market."
   ]
  },
  {
   "cell_type": "markdown",
   "id": "74e2c190",
   "metadata": {},
   "source": [
    "##### Data Description:\n",
    "The dataset contains the following columns:\n",
    "\n",
    "RowNumber: A unique identifier for each row.\n",
    "\n",
    "CustomerId: A unique identifier for each customer.\n",
    "\n",
    "Surname: The surname of the customer.\n",
    "\n",
    "CreditScore: The credit score of the customer.\n",
    "\n",
    "Geography: The country in which the customer resides (France, Spain, or Germany).\n",
    "\n",
    "Gender: The gender of the customer (Male or Female).\n",
    "\n",
    "Age: The age of the customer.\n",
    "\n",
    "Tenure: The number of years the customer has been with the bank.\n",
    "\n",
    "Balance: The account balance of the customer.\n",
    "\n",
    "NumOfProducts: The number of bank products the customer uses.\n",
    "\n",
    "HasCrCard: Whether the customer has a credit card (1 for yes, 0 for no).\n",
    "\n",
    "IsActiveMember: Whether the customer is an active member (1 for yes, 0 for no).\n",
    "\n",
    "EstimatedSalary: The estimated salary of the customer.\n",
    "\n",
    "Exited: The target variable, indicating whether the customer has exited the bank (1 for yes, 0 for no).mm"
   ]
  },
  {
   "cell_type": "code",
   "execution_count": 1,
   "id": "432da320",
   "metadata": {},
   "outputs": [],
   "source": [
    "import pandas as pd\n",
    "import numpy as np\n",
    "import matplotlib.pyplot as plt\n",
    "%matplotlib inline\n",
    "import seaborn as sns"
   ]
  },
  {
   "cell_type": "code",
   "execution_count": 2,
   "id": "0813a3e3",
   "metadata": {},
   "outputs": [],
   "source": [
    "# Importing the dataset\n",
    "\n",
    "df=pd.read_csv(\"Churn_Modelling.csv\")"
   ]
  },
  {
   "cell_type": "code",
   "execution_count": 3,
   "id": "05706bfc",
   "metadata": {},
   "outputs": [
    {
     "data": {
      "text/html": [
       "<div>\n",
       "<style scoped>\n",
       "    .dataframe tbody tr th:only-of-type {\n",
       "        vertical-align: middle;\n",
       "    }\n",
       "\n",
       "    .dataframe tbody tr th {\n",
       "        vertical-align: top;\n",
       "    }\n",
       "\n",
       "    .dataframe thead th {\n",
       "        text-align: right;\n",
       "    }\n",
       "</style>\n",
       "<table border=\"1\" class=\"dataframe\">\n",
       "  <thead>\n",
       "    <tr style=\"text-align: right;\">\n",
       "      <th></th>\n",
       "      <th>RowNumber</th>\n",
       "      <th>CustomerId</th>\n",
       "      <th>Surname</th>\n",
       "      <th>CreditScore</th>\n",
       "      <th>Geography</th>\n",
       "      <th>Gender</th>\n",
       "      <th>Age</th>\n",
       "      <th>Tenure</th>\n",
       "      <th>Balance</th>\n",
       "      <th>NumOfProducts</th>\n",
       "      <th>HasCrCard</th>\n",
       "      <th>IsActiveMember</th>\n",
       "      <th>EstimatedSalary</th>\n",
       "      <th>Exited</th>\n",
       "    </tr>\n",
       "  </thead>\n",
       "  <tbody>\n",
       "    <tr>\n",
       "      <th>0</th>\n",
       "      <td>1</td>\n",
       "      <td>15634602</td>\n",
       "      <td>Hargrave</td>\n",
       "      <td>619</td>\n",
       "      <td>France</td>\n",
       "      <td>Female</td>\n",
       "      <td>42</td>\n",
       "      <td>2</td>\n",
       "      <td>0.00</td>\n",
       "      <td>1</td>\n",
       "      <td>1</td>\n",
       "      <td>1</td>\n",
       "      <td>101348.88</td>\n",
       "      <td>1</td>\n",
       "    </tr>\n",
       "    <tr>\n",
       "      <th>1</th>\n",
       "      <td>2</td>\n",
       "      <td>15647311</td>\n",
       "      <td>Hill</td>\n",
       "      <td>608</td>\n",
       "      <td>Spain</td>\n",
       "      <td>Female</td>\n",
       "      <td>41</td>\n",
       "      <td>1</td>\n",
       "      <td>83807.86</td>\n",
       "      <td>1</td>\n",
       "      <td>0</td>\n",
       "      <td>1</td>\n",
       "      <td>112542.58</td>\n",
       "      <td>0</td>\n",
       "    </tr>\n",
       "    <tr>\n",
       "      <th>2</th>\n",
       "      <td>3</td>\n",
       "      <td>15619304</td>\n",
       "      <td>Onio</td>\n",
       "      <td>502</td>\n",
       "      <td>France</td>\n",
       "      <td>Female</td>\n",
       "      <td>42</td>\n",
       "      <td>8</td>\n",
       "      <td>159660.80</td>\n",
       "      <td>3</td>\n",
       "      <td>1</td>\n",
       "      <td>0</td>\n",
       "      <td>113931.57</td>\n",
       "      <td>1</td>\n",
       "    </tr>\n",
       "    <tr>\n",
       "      <th>3</th>\n",
       "      <td>4</td>\n",
       "      <td>15701354</td>\n",
       "      <td>Boni</td>\n",
       "      <td>699</td>\n",
       "      <td>France</td>\n",
       "      <td>Female</td>\n",
       "      <td>39</td>\n",
       "      <td>1</td>\n",
       "      <td>0.00</td>\n",
       "      <td>2</td>\n",
       "      <td>0</td>\n",
       "      <td>0</td>\n",
       "      <td>93826.63</td>\n",
       "      <td>0</td>\n",
       "    </tr>\n",
       "    <tr>\n",
       "      <th>4</th>\n",
       "      <td>5</td>\n",
       "      <td>15737888</td>\n",
       "      <td>Mitchell</td>\n",
       "      <td>850</td>\n",
       "      <td>Spain</td>\n",
       "      <td>Female</td>\n",
       "      <td>43</td>\n",
       "      <td>2</td>\n",
       "      <td>125510.82</td>\n",
       "      <td>1</td>\n",
       "      <td>1</td>\n",
       "      <td>1</td>\n",
       "      <td>79084.10</td>\n",
       "      <td>0</td>\n",
       "    </tr>\n",
       "  </tbody>\n",
       "</table>\n",
       "</div>"
      ],
      "text/plain": [
       "   RowNumber  CustomerId   Surname  CreditScore Geography  Gender  Age  \\\n",
       "0          1    15634602  Hargrave          619    France  Female   42   \n",
       "1          2    15647311      Hill          608     Spain  Female   41   \n",
       "2          3    15619304      Onio          502    France  Female   42   \n",
       "3          4    15701354      Boni          699    France  Female   39   \n",
       "4          5    15737888  Mitchell          850     Spain  Female   43   \n",
       "\n",
       "   Tenure    Balance  NumOfProducts  HasCrCard  IsActiveMember  \\\n",
       "0       2       0.00              1          1               1   \n",
       "1       1   83807.86              1          0               1   \n",
       "2       8  159660.80              3          1               0   \n",
       "3       1       0.00              2          0               0   \n",
       "4       2  125510.82              1          1               1   \n",
       "\n",
       "   EstimatedSalary  Exited  \n",
       "0        101348.88       1  \n",
       "1        112542.58       0  \n",
       "2        113931.57       1  \n",
       "3         93826.63       0  \n",
       "4         79084.10       0  "
      ]
     },
     "execution_count": 3,
     "metadata": {},
     "output_type": "execute_result"
    }
   ],
   "source": [
    "df.head()"
   ]
  },
  {
   "cell_type": "code",
   "execution_count": 4,
   "id": "26f813cd",
   "metadata": {},
   "outputs": [
    {
     "data": {
      "text/plain": [
       "(10000, 14)"
      ]
     },
     "execution_count": 4,
     "metadata": {},
     "output_type": "execute_result"
    }
   ],
   "source": [
    "df.shape"
   ]
  },
  {
   "cell_type": "code",
   "execution_count": 5,
   "id": "a66b879f",
   "metadata": {},
   "outputs": [
    {
     "name": "stdout",
     "output_type": "stream",
     "text": [
      "<class 'pandas.core.frame.DataFrame'>\n",
      "RangeIndex: 10000 entries, 0 to 9999\n",
      "Data columns (total 14 columns):\n",
      " #   Column           Non-Null Count  Dtype  \n",
      "---  ------           --------------  -----  \n",
      " 0   RowNumber        10000 non-null  int64  \n",
      " 1   CustomerId       10000 non-null  int64  \n",
      " 2   Surname          10000 non-null  object \n",
      " 3   CreditScore      10000 non-null  int64  \n",
      " 4   Geography        10000 non-null  object \n",
      " 5   Gender           10000 non-null  object \n",
      " 6   Age              10000 non-null  int64  \n",
      " 7   Tenure           10000 non-null  int64  \n",
      " 8   Balance          10000 non-null  float64\n",
      " 9   NumOfProducts    10000 non-null  int64  \n",
      " 10  HasCrCard        10000 non-null  int64  \n",
      " 11  IsActiveMember   10000 non-null  int64  \n",
      " 12  EstimatedSalary  10000 non-null  float64\n",
      " 13  Exited           10000 non-null  int64  \n",
      "dtypes: float64(2), int64(9), object(3)\n",
      "memory usage: 1.1+ MB\n"
     ]
    }
   ],
   "source": [
    "df.info()"
   ]
  },
  {
   "cell_type": "code",
   "execution_count": 6,
   "id": "afdbacb3",
   "metadata": {},
   "outputs": [],
   "source": [
    "# From above, it can be seen tat there are no missing value in the dataset"
   ]
  },
  {
   "cell_type": "code",
   "execution_count": 7,
   "id": "ac06def9",
   "metadata": {},
   "outputs": [
    {
     "data": {
      "text/html": [
       "<div>\n",
       "<style scoped>\n",
       "    .dataframe tbody tr th:only-of-type {\n",
       "        vertical-align: middle;\n",
       "    }\n",
       "\n",
       "    .dataframe tbody tr th {\n",
       "        vertical-align: top;\n",
       "    }\n",
       "\n",
       "    .dataframe thead th {\n",
       "        text-align: right;\n",
       "    }\n",
       "</style>\n",
       "<table border=\"1\" class=\"dataframe\">\n",
       "  <thead>\n",
       "    <tr style=\"text-align: right;\">\n",
       "      <th></th>\n",
       "      <th>RowNumber</th>\n",
       "      <th>CustomerId</th>\n",
       "      <th>CreditScore</th>\n",
       "      <th>Age</th>\n",
       "      <th>Tenure</th>\n",
       "      <th>Balance</th>\n",
       "      <th>NumOfProducts</th>\n",
       "      <th>HasCrCard</th>\n",
       "      <th>IsActiveMember</th>\n",
       "      <th>EstimatedSalary</th>\n",
       "      <th>Exited</th>\n",
       "    </tr>\n",
       "  </thead>\n",
       "  <tbody>\n",
       "    <tr>\n",
       "      <th>count</th>\n",
       "      <td>10000.00000</td>\n",
       "      <td>1.000000e+04</td>\n",
       "      <td>10000.000000</td>\n",
       "      <td>10000.000000</td>\n",
       "      <td>10000.000000</td>\n",
       "      <td>10000.000000</td>\n",
       "      <td>10000.000000</td>\n",
       "      <td>10000.00000</td>\n",
       "      <td>10000.000000</td>\n",
       "      <td>10000.000000</td>\n",
       "      <td>10000.000000</td>\n",
       "    </tr>\n",
       "    <tr>\n",
       "      <th>mean</th>\n",
       "      <td>5000.50000</td>\n",
       "      <td>1.569094e+07</td>\n",
       "      <td>650.528800</td>\n",
       "      <td>38.921800</td>\n",
       "      <td>5.012800</td>\n",
       "      <td>76485.889288</td>\n",
       "      <td>1.530200</td>\n",
       "      <td>0.70550</td>\n",
       "      <td>0.515100</td>\n",
       "      <td>100090.239881</td>\n",
       "      <td>0.203700</td>\n",
       "    </tr>\n",
       "    <tr>\n",
       "      <th>std</th>\n",
       "      <td>2886.89568</td>\n",
       "      <td>7.193619e+04</td>\n",
       "      <td>96.653299</td>\n",
       "      <td>10.487806</td>\n",
       "      <td>2.892174</td>\n",
       "      <td>62397.405202</td>\n",
       "      <td>0.581654</td>\n",
       "      <td>0.45584</td>\n",
       "      <td>0.499797</td>\n",
       "      <td>57510.492818</td>\n",
       "      <td>0.402769</td>\n",
       "    </tr>\n",
       "    <tr>\n",
       "      <th>min</th>\n",
       "      <td>1.00000</td>\n",
       "      <td>1.556570e+07</td>\n",
       "      <td>350.000000</td>\n",
       "      <td>18.000000</td>\n",
       "      <td>0.000000</td>\n",
       "      <td>0.000000</td>\n",
       "      <td>1.000000</td>\n",
       "      <td>0.00000</td>\n",
       "      <td>0.000000</td>\n",
       "      <td>11.580000</td>\n",
       "      <td>0.000000</td>\n",
       "    </tr>\n",
       "    <tr>\n",
       "      <th>25%</th>\n",
       "      <td>2500.75000</td>\n",
       "      <td>1.562853e+07</td>\n",
       "      <td>584.000000</td>\n",
       "      <td>32.000000</td>\n",
       "      <td>3.000000</td>\n",
       "      <td>0.000000</td>\n",
       "      <td>1.000000</td>\n",
       "      <td>0.00000</td>\n",
       "      <td>0.000000</td>\n",
       "      <td>51002.110000</td>\n",
       "      <td>0.000000</td>\n",
       "    </tr>\n",
       "    <tr>\n",
       "      <th>50%</th>\n",
       "      <td>5000.50000</td>\n",
       "      <td>1.569074e+07</td>\n",
       "      <td>652.000000</td>\n",
       "      <td>37.000000</td>\n",
       "      <td>5.000000</td>\n",
       "      <td>97198.540000</td>\n",
       "      <td>1.000000</td>\n",
       "      <td>1.00000</td>\n",
       "      <td>1.000000</td>\n",
       "      <td>100193.915000</td>\n",
       "      <td>0.000000</td>\n",
       "    </tr>\n",
       "    <tr>\n",
       "      <th>75%</th>\n",
       "      <td>7500.25000</td>\n",
       "      <td>1.575323e+07</td>\n",
       "      <td>718.000000</td>\n",
       "      <td>44.000000</td>\n",
       "      <td>7.000000</td>\n",
       "      <td>127644.240000</td>\n",
       "      <td>2.000000</td>\n",
       "      <td>1.00000</td>\n",
       "      <td>1.000000</td>\n",
       "      <td>149388.247500</td>\n",
       "      <td>0.000000</td>\n",
       "    </tr>\n",
       "    <tr>\n",
       "      <th>max</th>\n",
       "      <td>10000.00000</td>\n",
       "      <td>1.581569e+07</td>\n",
       "      <td>850.000000</td>\n",
       "      <td>92.000000</td>\n",
       "      <td>10.000000</td>\n",
       "      <td>250898.090000</td>\n",
       "      <td>4.000000</td>\n",
       "      <td>1.00000</td>\n",
       "      <td>1.000000</td>\n",
       "      <td>199992.480000</td>\n",
       "      <td>1.000000</td>\n",
       "    </tr>\n",
       "  </tbody>\n",
       "</table>\n",
       "</div>"
      ],
      "text/plain": [
       "         RowNumber    CustomerId   CreditScore           Age        Tenure  \\\n",
       "count  10000.00000  1.000000e+04  10000.000000  10000.000000  10000.000000   \n",
       "mean    5000.50000  1.569094e+07    650.528800     38.921800      5.012800   \n",
       "std     2886.89568  7.193619e+04     96.653299     10.487806      2.892174   \n",
       "min        1.00000  1.556570e+07    350.000000     18.000000      0.000000   \n",
       "25%     2500.75000  1.562853e+07    584.000000     32.000000      3.000000   \n",
       "50%     5000.50000  1.569074e+07    652.000000     37.000000      5.000000   \n",
       "75%     7500.25000  1.575323e+07    718.000000     44.000000      7.000000   \n",
       "max    10000.00000  1.581569e+07    850.000000     92.000000     10.000000   \n",
       "\n",
       "             Balance  NumOfProducts    HasCrCard  IsActiveMember  \\\n",
       "count   10000.000000   10000.000000  10000.00000    10000.000000   \n",
       "mean    76485.889288       1.530200      0.70550        0.515100   \n",
       "std     62397.405202       0.581654      0.45584        0.499797   \n",
       "min         0.000000       1.000000      0.00000        0.000000   \n",
       "25%         0.000000       1.000000      0.00000        0.000000   \n",
       "50%     97198.540000       1.000000      1.00000        1.000000   \n",
       "75%    127644.240000       2.000000      1.00000        1.000000   \n",
       "max    250898.090000       4.000000      1.00000        1.000000   \n",
       "\n",
       "       EstimatedSalary        Exited  \n",
       "count     10000.000000  10000.000000  \n",
       "mean     100090.239881      0.203700  \n",
       "std       57510.492818      0.402769  \n",
       "min          11.580000      0.000000  \n",
       "25%       51002.110000      0.000000  \n",
       "50%      100193.915000      0.000000  \n",
       "75%      149388.247500      0.000000  \n",
       "max      199992.480000      1.000000  "
      ]
     },
     "execution_count": 7,
     "metadata": {},
     "output_type": "execute_result"
    }
   ],
   "source": [
    "df.describe()"
   ]
  },
  {
   "cell_type": "code",
   "execution_count": 8,
   "id": "143cd835",
   "metadata": {},
   "outputs": [
    {
     "data": {
      "text/plain": [
       "0"
      ]
     },
     "execution_count": 8,
     "metadata": {},
     "output_type": "execute_result"
    }
   ],
   "source": [
    "# Lets check if there is any duplicated row\n",
    "\n",
    "df.duplicated().sum()"
   ]
  },
  {
   "cell_type": "code",
   "execution_count": 9,
   "id": "84202c7b",
   "metadata": {},
   "outputs": [],
   "source": [
    "# from above, it can be seen that there are no duplicate rows"
   ]
  },
  {
   "cell_type": "code",
   "execution_count": 10,
   "id": "e57ea534",
   "metadata": {},
   "outputs": [],
   "source": [
    "# lets check the distribution of the output column. i.e how many customers has exited the bank and how many are still continuing their services with the bank"
   ]
  },
  {
   "cell_type": "code",
   "execution_count": 11,
   "id": "c34514a4",
   "metadata": {},
   "outputs": [
    {
     "data": {
      "text/plain": [
       "0    7963\n",
       "1    2037\n",
       "Name: Exited, dtype: int64"
      ]
     },
     "execution_count": 11,
     "metadata": {},
     "output_type": "execute_result"
    }
   ],
   "source": [
    "df['Exited'].value_counts()"
   ]
  },
  {
   "cell_type": "code",
   "execution_count": 12,
   "id": "515eef43",
   "metadata": {},
   "outputs": [
    {
     "data": {
      "text/plain": [
       "<AxesSubplot:>"
      ]
     },
     "execution_count": 12,
     "metadata": {},
     "output_type": "execute_result"
    },
    {
     "data": {
      "image/png": "[encoded data removed]",
      "text/plain": [
       "<Figure size 640x480 with 1 Axes>"
      ]
     },
     "metadata": {},
     "output_type": "display_data"
    }
   ],
   "source": [
    "# lets plot it \n",
    "df['Exited'].value_counts().plot(kind='bar')"
   ]
  },
  {
   "cell_type": "code",
   "execution_count": 13,
   "id": "e07ce0fa",
   "metadata": {},
   "outputs": [],
   "source": [
    "# From the above, it can be clearly seen that this dataset is highly imbalanced. So, lets balance it using SMOTE.\n",
    "# I shall do it in later stage"
   ]
  },
  {
   "cell_type": "code",
   "execution_count": 14,
   "id": "ec06d2ee",
   "metadata": {},
   "outputs": [
    {
     "data": {
      "text/plain": [
       "France     5014\n",
       "Germany    2509\n",
       "Spain      2477\n",
       "Name: Geography, dtype: int64"
      ]
     },
     "execution_count": 14,
     "metadata": {},
     "output_type": "execute_result"
    }
   ],
   "source": [
    "# Lets check the distribution of Geography and Gender also\n",
    "\n",
    "df['Geography'].value_counts()"
   ]
  },
  {
   "cell_type": "code",
   "execution_count": 15,
   "id": "5f4e2d6e",
   "metadata": {},
   "outputs": [
    {
     "data": {
      "text/plain": [
       "<AxesSubplot:>"
      ]
     },
     "execution_count": 15,
     "metadata": {},
     "output_type": "execute_result"
    },
    {
     "data": {
      "image/png": "[encoded data removed]",
      "text/plain": [
       "<Figure size 640x480 with 1 Axes>"
      ]
     },
     "metadata": {},
     "output_type": "display_data"
    }
   ],
   "source": [
    "df['Geography'].value_counts().plot(kind='bar')"
   ]
  },
  {
   "cell_type": "code",
   "execution_count": 16,
   "id": "3b786555",
   "metadata": {},
   "outputs": [
    {
     "data": {
      "text/plain": [
       "Male      5457\n",
       "Female    4543\n",
       "Name: Gender, dtype: int64"
      ]
     },
     "execution_count": 16,
     "metadata": {},
     "output_type": "execute_result"
    }
   ],
   "source": [
    "df['Gender'].value_counts()"
   ]
  },
  {
   "cell_type": "code",
   "execution_count": 17,
   "id": "1272cf49",
   "metadata": {},
   "outputs": [
    {
     "data": {
      "text/plain": [
       "<AxesSubplot:>"
      ]
     },
     "execution_count": 17,
     "metadata": {},
     "output_type": "execute_result"
    },
    {
     "data": {
      "image/png": "[encoded data removed]",
      "text/plain": [
       "<Figure size 640x480 with 1 Axes>"
      ]
     },
     "metadata": {},
     "output_type": "display_data"
    }
   ],
   "source": [
    "df['Gender'].value_counts().plot(kind='bar')"
   ]
  },
  {
   "cell_type": "code",
   "execution_count": 18,
   "id": "69c80154",
   "metadata": {},
   "outputs": [],
   "source": [
    "# Gender distribution is more or less equal"
   ]
  },
  {
   "cell_type": "code",
   "execution_count": 19,
   "id": "508a0fc1",
   "metadata": {},
   "outputs": [],
   "source": [
    "# now lets take only the required column \n",
    "\n",
    "df.drop(columns=['RowNumber','CustomerId','Surname'],inplace=True)"
   ]
  },
  {
   "cell_type": "code",
   "execution_count": 20,
   "id": "a3756a24",
   "metadata": {},
   "outputs": [
    {
     "data": {
      "text/html": [
       "<div>\n",
       "<style scoped>\n",
       "    .dataframe tbody tr th:only-of-type {\n",
       "        vertical-align: middle;\n",
       "    }\n",
       "\n",
       "    .dataframe tbody tr th {\n",
       "        vertical-align: top;\n",
       "    }\n",
       "\n",
       "    .dataframe thead th {\n",
       "        text-align: right;\n",
       "    }\n",
       "</style>\n",
       "<table border=\"1\" class=\"dataframe\">\n",
       "  <thead>\n",
       "    <tr style=\"text-align: right;\">\n",
       "      <th></th>\n",
       "      <th>CreditScore</th>\n",
       "      <th>Geography</th>\n",
       "      <th>Gender</th>\n",
       "      <th>Age</th>\n",
       "      <th>Tenure</th>\n",
       "      <th>Balance</th>\n",
       "      <th>NumOfProducts</th>\n",
       "      <th>HasCrCard</th>\n",
       "      <th>IsActiveMember</th>\n",
       "      <th>EstimatedSalary</th>\n",
       "      <th>Exited</th>\n",
       "    </tr>\n",
       "  </thead>\n",
       "  <tbody>\n",
       "    <tr>\n",
       "      <th>0</th>\n",
       "      <td>619</td>\n",
       "      <td>France</td>\n",
       "      <td>Female</td>\n",
       "      <td>42</td>\n",
       "      <td>2</td>\n",
       "      <td>0.00</td>\n",
       "      <td>1</td>\n",
       "      <td>1</td>\n",
       "      <td>1</td>\n",
       "      <td>101348.88</td>\n",
       "      <td>1</td>\n",
       "    </tr>\n",
       "    <tr>\n",
       "      <th>1</th>\n",
       "      <td>608</td>\n",
       "      <td>Spain</td>\n",
       "      <td>Female</td>\n",
       "      <td>41</td>\n",
       "      <td>1</td>\n",
       "      <td>83807.86</td>\n",
       "      <td>1</td>\n",
       "      <td>0</td>\n",
       "      <td>1</td>\n",
       "      <td>112542.58</td>\n",
       "      <td>0</td>\n",
       "    </tr>\n",
       "    <tr>\n",
       "      <th>2</th>\n",
       "      <td>502</td>\n",
       "      <td>France</td>\n",
       "      <td>Female</td>\n",
       "      <td>42</td>\n",
       "      <td>8</td>\n",
       "      <td>159660.80</td>\n",
       "      <td>3</td>\n",
       "      <td>1</td>\n",
       "      <td>0</td>\n",
       "      <td>113931.57</td>\n",
       "      <td>1</td>\n",
       "    </tr>\n",
       "    <tr>\n",
       "      <th>3</th>\n",
       "      <td>699</td>\n",
       "      <td>France</td>\n",
       "      <td>Female</td>\n",
       "      <td>39</td>\n",
       "      <td>1</td>\n",
       "      <td>0.00</td>\n",
       "      <td>2</td>\n",
       "      <td>0</td>\n",
       "      <td>0</td>\n",
       "      <td>93826.63</td>\n",
       "      <td>0</td>\n",
       "    </tr>\n",
       "    <tr>\n",
       "      <th>4</th>\n",
       "      <td>850</td>\n",
       "      <td>Spain</td>\n",
       "      <td>Female</td>\n",
       "      <td>43</td>\n",
       "      <td>2</td>\n",
       "      <td>125510.82</td>\n",
       "      <td>1</td>\n",
       "      <td>1</td>\n",
       "      <td>1</td>\n",
       "      <td>79084.10</td>\n",
       "      <td>0</td>\n",
       "    </tr>\n",
       "  </tbody>\n",
       "</table>\n",
       "</div>"
      ],
      "text/plain": [
       "   CreditScore Geography  Gender  Age  Tenure    Balance  NumOfProducts  \\\n",
       "0          619    France  Female   42       2       0.00              1   \n",
       "1          608     Spain  Female   41       1   83807.86              1   \n",
       "2          502    France  Female   42       8  159660.80              3   \n",
       "3          699    France  Female   39       1       0.00              2   \n",
       "4          850     Spain  Female   43       2  125510.82              1   \n",
       "\n",
       "   HasCrCard  IsActiveMember  EstimatedSalary  Exited  \n",
       "0          1               1        101348.88       1  \n",
       "1          0               1        112542.58       0  \n",
       "2          1               0        113931.57       1  \n",
       "3          0               0         93826.63       0  \n",
       "4          1               1         79084.10       0  "
      ]
     },
     "execution_count": 20,
     "metadata": {},
     "output_type": "execute_result"
    }
   ],
   "source": [
    "df.head()"
   ]
  },
  {
   "cell_type": "code",
   "execution_count": 21,
   "id": "1eeba303",
   "metadata": {},
   "outputs": [],
   "source": [
    "# Lets convert the categorical column to numerical\n",
    "\n",
    "df['Geography']=pd.factorize(df['Geography'])[0]"
   ]
  },
  {
   "cell_type": "code",
   "execution_count": 22,
   "id": "6bf57ad8",
   "metadata": {},
   "outputs": [],
   "source": [
    "df['Gender']=pd.factorize(df['Gender'])[0]"
   ]
  },
  {
   "cell_type": "code",
   "execution_count": 23,
   "id": "0e6e9d9c",
   "metadata": {},
   "outputs": [
    {
     "name": "stdout",
     "output_type": "stream",
     "text": [
      "<class 'pandas.core.frame.DataFrame'>\n",
      "RangeIndex: 10000 entries, 0 to 9999\n",
      "Data columns (total 11 columns):\n",
      " #   Column           Non-Null Count  Dtype  \n",
      "---  ------           --------------  -----  \n",
      " 0   CreditScore      10000 non-null  int64  \n",
      " 1   Geography        10000 non-null  int64  \n",
      " 2   Gender           10000 non-null  int64  \n",
      " 3   Age              10000 non-null  int64  \n",
      " 4   Tenure           10000 non-null  int64  \n",
      " 5   Balance          10000 non-null  float64\n",
      " 6   NumOfProducts    10000 non-null  int64  \n",
      " 7   HasCrCard        10000 non-null  int64  \n",
      " 8   IsActiveMember   10000 non-null  int64  \n",
      " 9   EstimatedSalary  10000 non-null  float64\n",
      " 10  Exited           10000 non-null  int64  \n",
      "dtypes: float64(2), int64(9)\n",
      "memory usage: 859.5 KB\n"
     ]
    }
   ],
   "source": [
    "df.info()"
   ]
  },
  {
   "cell_type": "code",
   "execution_count": 24,
   "id": "eea0d12b",
   "metadata": {},
   "outputs": [
    {
     "data": {
      "text/plain": [
       "(10000, 11)"
      ]
     },
     "execution_count": 24,
     "metadata": {},
     "output_type": "execute_result"
    }
   ],
   "source": [
    "df.shape"
   ]
  },
  {
   "cell_type": "code",
   "execution_count": 25,
   "id": "25c3ecd5",
   "metadata": {},
   "outputs": [],
   "source": [
    "X=df.iloc[:, 0:-1]\n",
    "y=df.iloc[:, -1]"
   ]
  },
  {
   "cell_type": "code",
   "execution_count": 26,
   "id": "ba7a6356",
   "metadata": {},
   "outputs": [
    {
     "data": {
      "text/html": [
       "<div>\n",
       "<style scoped>\n",
       "    .dataframe tbody tr th:only-of-type {\n",
       "        vertical-align: middle;\n",
       "    }\n",
       "\n",
       "    .dataframe tbody tr th {\n",
       "        vertical-align: top;\n",
       "    }\n",
       "\n",
       "    .dataframe thead th {\n",
       "        text-align: right;\n",
       "    }\n",
       "</style>\n",
       "<table border=\"1\" class=\"dataframe\">\n",
       "  <thead>\n",
       "    <tr style=\"text-align: right;\">\n",
       "      <th></th>\n",
       "      <th>CreditScore</th>\n",
       "      <th>Geography</th>\n",
       "      <th>Gender</th>\n",
       "      <th>Age</th>\n",
       "      <th>Tenure</th>\n",
       "      <th>Balance</th>\n",
       "      <th>NumOfProducts</th>\n",
       "      <th>HasCrCard</th>\n",
       "      <th>IsActiveMember</th>\n",
       "      <th>EstimatedSalary</th>\n",
       "    </tr>\n",
       "  </thead>\n",
       "  <tbody>\n",
       "    <tr>\n",
       "      <th>0</th>\n",
       "      <td>619</td>\n",
       "      <td>0</td>\n",
       "      <td>0</td>\n",
       "      <td>42</td>\n",
       "      <td>2</td>\n",
       "      <td>0.00</td>\n",
       "      <td>1</td>\n",
       "      <td>1</td>\n",
       "      <td>1</td>\n",
       "      <td>101348.88</td>\n",
       "    </tr>\n",
       "    <tr>\n",
       "      <th>1</th>\n",
       "      <td>608</td>\n",
       "      <td>1</td>\n",
       "      <td>0</td>\n",
       "      <td>41</td>\n",
       "      <td>1</td>\n",
       "      <td>83807.86</td>\n",
       "      <td>1</td>\n",
       "      <td>0</td>\n",
       "      <td>1</td>\n",
       "      <td>112542.58</td>\n",
       "    </tr>\n",
       "    <tr>\n",
       "      <th>2</th>\n",
       "      <td>502</td>\n",
       "      <td>0</td>\n",
       "      <td>0</td>\n",
       "      <td>42</td>\n",
       "      <td>8</td>\n",
       "      <td>159660.80</td>\n",
       "      <td>3</td>\n",
       "      <td>1</td>\n",
       "      <td>0</td>\n",
       "      <td>113931.57</td>\n",
       "    </tr>\n",
       "    <tr>\n",
       "      <th>3</th>\n",
       "      <td>699</td>\n",
       "      <td>0</td>\n",
       "      <td>0</td>\n",
       "      <td>39</td>\n",
       "      <td>1</td>\n",
       "      <td>0.00</td>\n",
       "      <td>2</td>\n",
       "      <td>0</td>\n",
       "      <td>0</td>\n",
       "      <td>93826.63</td>\n",
       "    </tr>\n",
       "    <tr>\n",
       "      <th>4</th>\n",
       "      <td>850</td>\n",
       "      <td>1</td>\n",
       "      <td>0</td>\n",
       "      <td>43</td>\n",
       "      <td>2</td>\n",
       "      <td>125510.82</td>\n",
       "      <td>1</td>\n",
       "      <td>1</td>\n",
       "      <td>1</td>\n",
       "      <td>79084.10</td>\n",
       "    </tr>\n",
       "    <tr>\n",
       "      <th>...</th>\n",
       "      <td>...</td>\n",
       "      <td>...</td>\n",
       "      <td>...</td>\n",
       "      <td>...</td>\n",
       "      <td>...</td>\n",
       "      <td>...</td>\n",
       "      <td>...</td>\n",
       "      <td>...</td>\n",
       "      <td>...</td>\n",
       "      <td>...</td>\n",
       "    </tr>\n",
       "    <tr>\n",
       "      <th>9995</th>\n",
       "      <td>771</td>\n",
       "      <td>0</td>\n",
       "      <td>1</td>\n",
       "      <td>39</td>\n",
       "      <td>5</td>\n",
       "      <td>0.00</td>\n",
       "      <td>2</td>\n",
       "      <td>1</td>\n",
       "      <td>0</td>\n",
       "      <td>96270.64</td>\n",
       "    </tr>\n",
       "    <tr>\n",
       "      <th>9996</th>\n",
       "      <td>516</td>\n",
       "      <td>0</td>\n",
       "      <td>1</td>\n",
       "      <td>35</td>\n",
       "      <td>10</td>\n",
       "      <td>57369.61</td>\n",
       "      <td>1</td>\n",
       "      <td>1</td>\n",
       "      <td>1</td>\n",
       "      <td>101699.77</td>\n",
       "    </tr>\n",
       "    <tr>\n",
       "      <th>9997</th>\n",
       "      <td>709</td>\n",
       "      <td>0</td>\n",
       "      <td>0</td>\n",
       "      <td>36</td>\n",
       "      <td>7</td>\n",
       "      <td>0.00</td>\n",
       "      <td>1</td>\n",
       "      <td>0</td>\n",
       "      <td>1</td>\n",
       "      <td>42085.58</td>\n",
       "    </tr>\n",
       "    <tr>\n",
       "      <th>9998</th>\n",
       "      <td>772</td>\n",
       "      <td>2</td>\n",
       "      <td>1</td>\n",
       "      <td>42</td>\n",
       "      <td>3</td>\n",
       "      <td>75075.31</td>\n",
       "      <td>2</td>\n",
       "      <td>1</td>\n",
       "      <td>0</td>\n",
       "      <td>92888.52</td>\n",
       "    </tr>\n",
       "    <tr>\n",
       "      <th>9999</th>\n",
       "      <td>792</td>\n",
       "      <td>0</td>\n",
       "      <td>0</td>\n",
       "      <td>28</td>\n",
       "      <td>4</td>\n",
       "      <td>130142.79</td>\n",
       "      <td>1</td>\n",
       "      <td>1</td>\n",
       "      <td>0</td>\n",
       "      <td>38190.78</td>\n",
       "    </tr>\n",
       "  </tbody>\n",
       "</table>\n",
       "<p>10000 rows × 10 columns</p>\n",
       "</div>"
      ],
      "text/plain": [
       "      CreditScore  Geography  Gender  Age  Tenure    Balance  NumOfProducts  \\\n",
       "0             619          0       0   42       2       0.00              1   \n",
       "1             608          1       0   41       1   83807.86              1   \n",
       "2             502          0       0   42       8  159660.80              3   \n",
       "3             699          0       0   39       1       0.00              2   \n",
       "4             850          1       0   43       2  125510.82              1   \n",
       "...           ...        ...     ...  ...     ...        ...            ...   \n",
       "9995          771          0       1   39       5       0.00              2   \n",
       "9996          516          0       1   35      10   57369.61              1   \n",
       "9997          709          0       0   36       7       0.00              1   \n",
       "9998          772          2       1   42       3   75075.31              2   \n",
       "9999          792          0       0   28       4  130142.79              1   \n",
       "\n",
       "      HasCrCard  IsActiveMember  EstimatedSalary  \n",
       "0             1               1        101348.88  \n",
       "1             0               1        112542.58  \n",
       "2             1               0        113931.57  \n",
       "3             0               0         93826.63  \n",
       "4             1               1         79084.10  \n",
       "...         ...             ...              ...  \n",
       "9995          1               0         96270.64  \n",
       "9996          1               1        101699.77  \n",
       "9997          0               1         42085.58  \n",
       "9998          1               0         92888.52  \n",
       "9999          1               0         38190.78  \n",
       "\n",
       "[10000 rows x 10 columns]"
      ]
     },
     "execution_count": 26,
     "metadata": {},
     "output_type": "execute_result"
    }
   ],
   "source": [
    "X"
   ]
  },
  {
   "cell_type": "code",
   "execution_count": 27,
   "id": "7b08d41a",
   "metadata": {},
   "outputs": [
    {
     "data": {
      "text/plain": [
       "0       1\n",
       "1       0\n",
       "2       1\n",
       "3       0\n",
       "4       0\n",
       "       ..\n",
       "9995    0\n",
       "9996    0\n",
       "9997    1\n",
       "9998    1\n",
       "9999    0\n",
       "Name: Exited, Length: 10000, dtype: int64"
      ]
     },
     "execution_count": 27,
     "metadata": {},
     "output_type": "execute_result"
    }
   ],
   "source": [
    "y"
   ]
  },
  {
   "cell_type": "code",
   "execution_count": 28,
   "id": "19b8c33a",
   "metadata": {},
   "outputs": [],
   "source": [
    "# Now lets balance the dataset using SMOTE"
   ]
  },
  {
   "cell_type": "code",
   "execution_count": 29,
   "id": "d5b5b3a9",
   "metadata": {},
   "outputs": [],
   "source": [
    "from imblearn.over_sampling import SMOTE"
   ]
  },
  {
   "cell_type": "code",
   "execution_count": 30,
   "id": "d975fbd1",
   "metadata": {},
   "outputs": [],
   "source": [
    "smote=SMOTE()"
   ]
  },
  {
   "cell_type": "code",
   "execution_count": 31,
   "id": "c18730a4",
   "metadata": {},
   "outputs": [],
   "source": [
    "X_resampled,y_resampled=smote.fit_resample(X,y)"
   ]
  },
  {
   "cell_type": "code",
   "execution_count": 32,
   "id": "70002fb2",
   "metadata": {},
   "outputs": [
    {
     "data": {
      "text/plain": [
       "<AxesSubplot:>"
      ]
     },
     "execution_count": 32,
     "metadata": {},
     "output_type": "execute_result"
    },
    {
     "data": {
      "image/png": "[encoded data removed]",
      "text/plain": [
       "<Figure size 640x480 with 1 Axes>"
      ]
     },
     "metadata": {},
     "output_type": "display_data"
    }
   ],
   "source": [
    "y_resampled.value_counts().plot(kind='bar')"
   ]
  },
  {
   "cell_type": "code",
   "execution_count": 33,
   "id": "6b5c061b",
   "metadata": {},
   "outputs": [],
   "source": [
    "# I have resamled and balanced the dataset."
   ]
  },
  {
   "cell_type": "code",
   "execution_count": 34,
   "id": "ad4b9174",
   "metadata": {},
   "outputs": [],
   "source": [
    "# Lets split the data for training and building model using ANN"
   ]
  },
  {
   "cell_type": "code",
   "execution_count": 35,
   "id": "449b44aa",
   "metadata": {},
   "outputs": [],
   "source": [
    "from sklearn.model_selection import train_test_split"
   ]
  },
  {
   "cell_type": "code",
   "execution_count": 36,
   "id": "cda3fa4b",
   "metadata": {},
   "outputs": [],
   "source": [
    "X_resampled_train,X_resampled_test,y_resampled_train,y_resampled_test=train_test_split(X_resampled,y_resampled,test_size=0.2,random_state=1)"
   ]
  },
  {
   "cell_type": "code",
   "execution_count": 37,
   "id": "a15bf18e",
   "metadata": {},
   "outputs": [
    {
     "name": "stdout",
     "output_type": "stream",
     "text": [
      "(12740, 10) (12740,)\n",
      "(3186, 10) (3186,)\n"
     ]
    }
   ],
   "source": [
    "print(X_resampled_train.shape, y_resampled_train.shape)\n",
    "print(X_resampled_test.shape, y_resampled_test.shape)"
   ]
  },
  {
   "cell_type": "code",
   "execution_count": 38,
   "id": "90cff0b7",
   "metadata": {},
   "outputs": [],
   "source": [
    "# Since it is recommended to scale the values before building model using ANN (since if values are very far apart, the weights will not get converged easily)"
   ]
  },
  {
   "cell_type": "code",
   "execution_count": 39,
   "id": "6a0f9eb3",
   "metadata": {},
   "outputs": [],
   "source": [
    "from sklearn.preprocessing import StandardScaler"
   ]
  },
  {
   "cell_type": "code",
   "execution_count": 40,
   "id": "aa407aa7",
   "metadata": {},
   "outputs": [],
   "source": [
    "scaler=StandardScaler()"
   ]
  },
  {
   "cell_type": "code",
   "execution_count": 41,
   "id": "c0f6999e",
   "metadata": {},
   "outputs": [],
   "source": [
    "X_resampled_train_scaled=scaler.fit_transform(X_resampled_train)"
   ]
  },
  {
   "cell_type": "code",
   "execution_count": 42,
   "id": "b295d9ab",
   "metadata": {},
   "outputs": [],
   "source": [
    "X_resampled_test_scaled=scaler.fit_transform(X_resampled_test)"
   ]
  },
  {
   "cell_type": "code",
   "execution_count": 43,
   "id": "ec9b80ae",
   "metadata": {},
   "outputs": [
    {
     "data": {
      "text/plain": [
       "array([[ 0.40665966,  0.30421768,  1.17737617, ...,  0.77245797,\n",
       "         1.28399714, -0.42748541],\n",
       "       [-1.92443126,  1.51161123, -0.84934622, ...,  0.77245797,\n",
       "         1.28399714, -0.48177231],\n",
       "       [ 0.74592641,  0.30421768,  1.17737617, ..., -1.29456882,\n",
       "        -0.77881794,  1.28467826],\n",
       "       ...,\n",
       "       [-0.46886744, -0.90317587, -0.84934622, ...,  0.77245797,\n",
       "        -0.77881794, -0.47377704],\n",
       "       [ 1.2493545 ,  1.51161123,  1.17737617, ...,  0.77245797,\n",
       "        -0.77881794, -1.1667494 ],\n",
       "       [-0.69869331,  0.30421768, -0.84934622, ...,  0.77245797,\n",
       "        -0.77881794,  0.75087555]])"
      ]
     },
     "execution_count": 43,
     "metadata": {},
     "output_type": "execute_result"
    }
   ],
   "source": [
    "X_resampled_train_scaled"
   ]
  },
  {
   "cell_type": "code",
   "execution_count": 44,
   "id": "1985342c",
   "metadata": {},
   "outputs": [
    {
     "name": "stdout",
     "output_type": "stream",
     "text": [
      "Requirement already satisfied: tensorflow in c:\\users\\asus\\appdata\\local\\programs\\python\\python310\\lib\\site-packages (2.13.0)\n",
      "Requirement already satisfied: tensorflow-intel==2.13.0 in c:\\users\\asus\\appdata\\local\\programs\\python\\python310\\lib\\site-packages (from tensorflow) (2.13.0)\n",
      "Requirement already satisfied: absl-py>=1.0.0 in c:\\users\\asus\\appdata\\local\\programs\\python\\python310\\lib\\site-packages (from tensorflow-intel==2.13.0->tensorflow) (1.4.0)\n",
      "Requirement already satisfied: astunparse>=1.6.0 in c:\\users\\asus\\appdata\\local\\programs\\python\\python310\\lib\\site-packages (from tensorflow-intel==2.13.0->tensorflow) (1.6.3)\n",
      "Requirement already satisfied: flatbuffers>=23.1.21 in c:\\users\\asus\\appdata\\local\\programs\\python\\python310\\lib\\site-packages (from tensorflow-intel==2.13.0->tensorflow) (23.5.26)\n",
      "Requirement already satisfied: gast<=0.4.0,>=0.2.1 in c:\\users\\asus\\appdata\\local\\programs\\python\\python310\\lib\\site-packages (from tensorflow-intel==2.13.0->tensorflow) (0.4.0)\n",
      "Requirement already satisfied: google-pasta>=0.1.1 in c:\\users\\asus\\appdata\\local\\programs\\python\\python310\\lib\\site-packages (from tensorflow-intel==2.13.0->tensorflow) (0.2.0)\n",
      "Requirement already satisfied: h5py>=2.9.0 in c:\\users\\asus\\appdata\\local\\programs\\python\\python310\\lib\\site-packages (from tensorflow-intel==2.13.0->tensorflow) (3.9.0)\n",
      "Requirement already satisfied: libclang>=13.0.0 in c:\\users\\asus\\appdata\\local\\programs\\python\\python310\\lib\\site-packages (from tensorflow-intel==2.13.0->tensorflow) (16.0.6)\n",
      "Requirement already satisfied: numpy<=1.24.3,>=1.22 in c:\\users\\asus\\appdata\\local\\programs\\python\\python310\\lib\\site-packages (from tensorflow-intel==2.13.0->tensorflow) (1.24.2)\n",
      "Requirement already satisfied: opt-einsum>=2.3.2 in c:\\users\\asus\\appdata\\local\\programs\\python\\python310\\lib\\site-packages (from tensorflow-intel==2.13.0->tensorflow) (3.3.0)\n",
      "Requirement already satisfied: packaging in c:\\users\\asus\\appdata\\local\\programs\\python\\python310\\lib\\site-packages (from tensorflow-intel==2.13.0->tensorflow) (21.3)\n",
      "Requirement already satisfied: protobuf!=4.21.0,!=4.21.1,!=4.21.2,!=4.21.3,!=4.21.4,!=4.21.5,<5.0.0dev,>=3.20.3 in c:\\users\\asus\\appdata\\local\\programs\\python\\python310\\lib\\site-packages (from tensorflow-intel==2.13.0->tensorflow) (4.23.4)\n",
      "Requirement already satisfied: setuptools in c:\\users\\asus\\appdata\\local\\programs\\python\\python310\\lib\\site-packages (from tensorflow-intel==2.13.0->tensorflow) (57.4.0)\n",
      "Requirement already satisfied: six>=1.12.0 in c:\\users\\asus\\appdata\\local\\programs\\python\\python310\\lib\\site-packages (from tensorflow-intel==2.13.0->tensorflow) (1.16.0)\n",
      "Requirement already satisfied: termcolor>=1.1.0 in c:\\users\\asus\\appdata\\local\\programs\\python\\python310\\lib\\site-packages (from tensorflow-intel==2.13.0->tensorflow) (2.3.0)\n",
      "Requirement already satisfied: typing-extensions<4.6.0,>=3.6.6 in c:\\users\\asus\\appdata\\local\\programs\\python\\python310\\lib\\site-packages (from tensorflow-intel==2.13.0->tensorflow) (4.5.0)\n",
      "Requirement already satisfied: wrapt>=1.11.0 in c:\\users\\asus\\appdata\\local\\programs\\python\\python310\\lib\\site-packages (from tensorflow-intel==2.13.0->tensorflow) (1.15.0)\n",
      "Requirement already satisfied: grpcio<2.0,>=1.24.3 in c:\\users\\asus\\appdata\\local\\programs\\python\\python310\\lib\\site-packages (from tensorflow-intel==2.13.0->tensorflow) (1.56.2)\n",
      "Requirement already satisfied: tensorboard<2.14,>=2.13 in c:\\users\\asus\\appdata\\local\\programs\\python\\python310\\lib\\site-packages (from tensorflow-intel==2.13.0->tensorflow) (2.13.0)\n",
      "Requirement already satisfied: tensorflow-estimator<2.14,>=2.13.0 in c:\\users\\asus\\appdata\\local\\programs\\python\\python310\\lib\\site-packages (from tensorflow-intel==2.13.0->tensorflow) (2.13.0)\n",
      "Requirement already satisfied: keras<2.14,>=2.13.1 in c:\\users\\asus\\appdata\\local\\programs\\python\\python310\\lib\\site-packages (from tensorflow-intel==2.13.0->tensorflow) (2.13.1)\n",
      "Requirement already satisfied: tensorflow-io-gcs-filesystem>=0.23.1 in c:\\users\\asus\\appdata\\local\\programs\\python\\python310\\lib\\site-packages (from tensorflow-intel==2.13.0->tensorflow) (0.31.0)\n",
      "Requirement already satisfied: wheel<1.0,>=0.23.0 in c:\\users\\asus\\appdata\\local\\programs\\python\\python310\\lib\\site-packages (from astunparse>=1.6.0->tensorflow-intel==2.13.0->tensorflow) (0.41.0)\n",
      "Requirement already satisfied: google-auth<3,>=1.6.3 in c:\\users\\asus\\appdata\\local\\programs\\python\\python310\\lib\\site-packages (from tensorboard<2.14,>=2.13->tensorflow-intel==2.13.0->tensorflow) (2.22.0)\n",
      "Requirement already satisfied: google-auth-oauthlib<1.1,>=0.5 in c:\\users\\asus\\appdata\\local\\programs\\python\\python310\\lib\\site-packages (from tensorboard<2.14,>=2.13->tensorflow-intel==2.13.0->tensorflow) (1.0.0)\n",
      "Requirement already satisfied: markdown>=2.6.8 in c:\\users\\asus\\appdata\\local\\programs\\python\\python310\\lib\\site-packages (from tensorboard<2.14,>=2.13->tensorflow-intel==2.13.0->tensorflow) (3.4.4)\n",
      "Requirement already satisfied: requests<3,>=2.21.0 in c:\\users\\asus\\appdata\\local\\programs\\python\\python310\\lib\\site-packages (from tensorboard<2.14,>=2.13->tensorflow-intel==2.13.0->tensorflow) (2.27.1)\n",
      "Requirement already satisfied: tensorboard-data-server<0.8.0,>=0.7.0 in c:\\users\\asus\\appdata\\local\\programs\\python\\python310\\lib\\site-packages (from tensorboard<2.14,>=2.13->tensorflow-intel==2.13.0->tensorflow) (0.7.1)\n",
      "Requirement already satisfied: werkzeug>=1.0.1 in c:\\users\\asus\\appdata\\local\\programs\\python\\python310\\lib\\site-packages (from tensorboard<2.14,>=2.13->tensorflow-intel==2.13.0->tensorflow) (2.0.2)\n",
      "Requirement already satisfied: pyparsing!=3.0.5,>=2.0.2 in c:\\users\\asus\\appdata\\local\\programs\\python\\python310\\lib\\site-packages (from packaging->tensorflow-intel==2.13.0->tensorflow) (3.0.7)\n",
      "Requirement already satisfied: cachetools<6.0,>=2.0.0 in c:\\users\\asus\\appdata\\local\\programs\\python\\python310\\lib\\site-packages (from google-auth<3,>=1.6.3->tensorboard<2.14,>=2.13->tensorflow-intel==2.13.0->tensorflow) (5.3.1)\n",
      "Requirement already satisfied: pyasn1-modules>=0.2.1 in c:\\users\\asus\\appdata\\local\\programs\\python\\python310\\lib\\site-packages (from google-auth<3,>=1.6.3->tensorboard<2.14,>=2.13->tensorflow-intel==2.13.0->tensorflow) (0.3.0)\n",
      "Requirement already satisfied: rsa<5,>=3.1.4 in c:\\users\\asus\\appdata\\local\\programs\\python\\python310\\lib\\site-packages (from google-auth<3,>=1.6.3->tensorboard<2.14,>=2.13->tensorflow-intel==2.13.0->tensorflow) (4.9)\n",
      "Requirement already satisfied: urllib3<2.0 in c:\\users\\asus\\appdata\\local\\programs\\python\\python310\\lib\\site-packages (from google-auth<3,>=1.6.3->tensorboard<2.14,>=2.13->tensorflow-intel==2.13.0->tensorflow) (1.26.8)\n",
      "Requirement already satisfied: requests-oauthlib>=0.7.0 in c:\\users\\asus\\appdata\\local\\programs\\python\\python310\\lib\\site-packages (from google-auth-oauthlib<1.1,>=0.5->tensorboard<2.14,>=2.13->tensorflow-intel==2.13.0->tensorflow) (1.3.1)\n",
      "Requirement already satisfied: certifi>=2017.4.17 in c:\\users\\asus\\appdata\\local\\programs\\python\\python310\\lib\\site-packages (from requests<3,>=2.21.0->tensorboard<2.14,>=2.13->tensorflow-intel==2.13.0->tensorflow) (2021.10.8)\n",
      "Requirement already satisfied: charset-normalizer~=2.0.0 in c:\\users\\asus\\appdata\\local\\programs\\python\\python310\\lib\\site-packages (from requests<3,>=2.21.0->tensorboard<2.14,>=2.13->tensorflow-intel==2.13.0->tensorflow) (2.0.12)\n",
      "Requirement already satisfied: idna<4,>=2.5 in c:\\users\\asus\\appdata\\local\\programs\\python\\python310\\lib\\site-packages (from requests<3,>=2.21.0->tensorboard<2.14,>=2.13->tensorflow-intel==2.13.0->tensorflow) (3.3)\n",
      "Requirement already satisfied: pyasn1<0.6.0,>=0.4.6 in c:\\users\\asus\\appdata\\local\\programs\\python\\python310\\lib\\site-packages (from pyasn1-modules>=0.2.1->google-auth<3,>=1.6.3->tensorboard<2.14,>=2.13->tensorflow-intel==2.13.0->tensorflow) (0.5.0)\n",
      "Requirement already satisfied: oauthlib>=3.0.0 in c:\\users\\asus\\appdata\\local\\programs\\python\\python310\\lib\\site-packages (from requests-oauthlib>=0.7.0->google-auth-oauthlib<1.1,>=0.5->tensorboard<2.14,>=2.13->tensorflow-intel==2.13.0->tensorflow) (3.2.2)\n"
     ]
    },
    {
     "name": "stderr",
     "output_type": "stream",
     "text": [
      "WARNING: Ignoring invalid distribution -atplotlib (c:\\users\\asus\\appdata\\local\\programs\\python\\python310\\lib\\site-packages)\n",
      "WARNING: Ignoring invalid distribution -atplotlib (c:\\users\\asus\\appdata\\local\\programs\\python\\python310\\lib\\site-packages)\n",
      "\n",
      "[notice] A new release of pip is available: 23.1.2 -> 23.2.1\n",
      "[notice] To update, run: python.exe -m pip install --upgrade pip\n"
     ]
    }
   ],
   "source": [
    "# !pip install tensorflow"
   ]
  },
  {
   "cell_type": "code",
   "execution_count": 45,
   "id": "4d329f40",
   "metadata": {},
   "outputs": [],
   "source": [
    "import tensorflow"
   ]
  },
  {
   "cell_type": "code",
   "execution_count": 46,
   "id": "a8755c40",
   "metadata": {},
   "outputs": [],
   "source": [
    "from tensorflow import keras\n",
    "from tensorflow.keras import Sequential\n",
    "from tensorflow.keras.layers import Dense"
   ]
  },
  {
   "cell_type": "code",
   "execution_count": 52,
   "id": "d1ace696",
   "metadata": {},
   "outputs": [],
   "source": [
    "model=Sequential()\n",
    "\n",
    "model.add(Dense(12,input_dim=10,activation='relu'))      # 1st Hidden layer    \n",
    "model.add(Dense(10,activation='relu'))                    # 2nd Hidden layer\n",
    "model.add(Dense(1, activation='sigmoid'))                  # Output layer"
   ]
  },
  {
   "cell_type": "code",
   "execution_count": 53,
   "id": "f3537d3e",
   "metadata": {},
   "outputs": [
    {
     "name": "stdout",
     "output_type": "stream",
     "text": [
      "Model: \"sequential_1\"\n",
      "_________________________________________________________________\n",
      " Layer (type)                Output Shape              Param #   \n",
      "=================================================================\n",
      " dense_3 (Dense)             (None, 12)                132       \n",
      "                                                                 \n",
      " dense_4 (Dense)             (None, 10)                130       \n",
      "                                                                 \n",
      " dense_5 (Dense)             (None, 1)                 11        \n",
      "                                                                 \n",
      "=================================================================\n",
      "Total params: 273 (1.07 KB)\n",
      "Trainable params: 273 (1.07 KB)\n",
      "Non-trainable params: 0 (0.00 Byte)\n",
      "_________________________________________________________________\n"
     ]
    }
   ],
   "source": [
    "model.summary()"
   ]
  },
  {
   "cell_type": "code",
   "execution_count": 54,
   "id": "390b5b6b",
   "metadata": {},
   "outputs": [],
   "source": [
    "# From above it can be seen that there are total 53 parameters which consist of weights and biases.\n",
    "# So, when the Neural network model is trained, it will find the values of all 53 parameters for further prediction."
   ]
  },
  {
   "cell_type": "code",
   "execution_count": 55,
   "id": "b06f862f",
   "metadata": {},
   "outputs": [],
   "source": [
    "# Now lets compile the model\n",
    "\n",
    "model.compile(loss=\"binary_crossentropy\", optimizer='adam', metrics=['accuracy'])"
   ]
  },
  {
   "cell_type": "code",
   "execution_count": 56,
   "id": "ec25df32",
   "metadata": {},
   "outputs": [
    {
     "name": "stdout",
     "output_type": "stream",
     "text": [
      "Epoch 1/150\n",
      "319/319 [==============================] - 2s 3ms/step - loss: 0.5845 - accuracy: 0.7005 - val_loss: 0.5053 - val_accuracy: 0.7473\n",
      "Epoch 2/150\n",
      "319/319 [==============================] - 1s 2ms/step - loss: 0.4749 - accuracy: 0.7756 - val_loss: 0.4659 - val_accuracy: 0.7779\n",
      "Epoch 3/150\n",
      "319/319 [==============================] - 1s 2ms/step - loss: 0.4511 - accuracy: 0.7918 - val_loss: 0.4451 - val_accuracy: 0.7900\n",
      "Epoch 4/150\n",
      "319/319 [==============================] - 1s 2ms/step - loss: 0.4329 - accuracy: 0.8018 - val_loss: 0.4271 - val_accuracy: 0.7998\n",
      "Epoch 5/150\n",
      "319/319 [==============================] - 1s 2ms/step - loss: 0.4209 - accuracy: 0.8060 - val_loss: 0.4184 - val_accuracy: 0.7979\n",
      "Epoch 6/150\n",
      "319/319 [==============================] - 1s 2ms/step - loss: 0.4140 - accuracy: 0.8097 - val_loss: 0.4133 - val_accuracy: 0.8014\n",
      "Epoch 7/150\n",
      "319/319 [==============================] - 1s 2ms/step - loss: 0.4096 - accuracy: 0.8112 - val_loss: 0.4096 - val_accuracy: 0.8053\n",
      "Epoch 8/150\n",
      "319/319 [==============================] - 1s 2ms/step - loss: 0.4059 - accuracy: 0.8139 - val_loss: 0.4062 - val_accuracy: 0.8100\n",
      "Epoch 9/150\n",
      "319/319 [==============================] - 1s 2ms/step - loss: 0.4035 - accuracy: 0.8164 - val_loss: 0.4090 - val_accuracy: 0.8018\n",
      "Epoch 10/150\n",
      "319/319 [==============================] - 1s 2ms/step - loss: 0.4015 - accuracy: 0.8146 - val_loss: 0.4038 - val_accuracy: 0.8104\n",
      "Epoch 11/150\n",
      "319/319 [==============================] - 1s 2ms/step - loss: 0.3995 - accuracy: 0.8167 - val_loss: 0.4045 - val_accuracy: 0.8097\n",
      "Epoch 12/150\n",
      "319/319 [==============================] - 1s 2ms/step - loss: 0.3978 - accuracy: 0.8170 - val_loss: 0.4044 - val_accuracy: 0.8038\n",
      "Epoch 13/150\n",
      "319/319 [==============================] - 1s 2ms/step - loss: 0.3965 - accuracy: 0.8174 - val_loss: 0.4013 - val_accuracy: 0.8104\n",
      "Epoch 14/150\n",
      "319/319 [==============================] - 1s 2ms/step - loss: 0.3948 - accuracy: 0.8195 - val_loss: 0.4019 - val_accuracy: 0.8100\n",
      "Epoch 15/150\n",
      "319/319 [==============================] - 1s 2ms/step - loss: 0.3941 - accuracy: 0.8180 - val_loss: 0.4018 - val_accuracy: 0.8073\n",
      "Epoch 16/150\n",
      "319/319 [==============================] - 1s 2ms/step - loss: 0.3929 - accuracy: 0.8181 - val_loss: 0.3993 - val_accuracy: 0.8112\n",
      "Epoch 17/150\n",
      "319/319 [==============================] - 1s 2ms/step - loss: 0.3915 - accuracy: 0.8210 - val_loss: 0.3993 - val_accuracy: 0.8104\n",
      "Epoch 18/150\n",
      "319/319 [==============================] - 1s 3ms/step - loss: 0.3906 - accuracy: 0.8187 - val_loss: 0.3997 - val_accuracy: 0.8100\n",
      "Epoch 19/150\n",
      "319/319 [==============================] - 1s 2ms/step - loss: 0.3898 - accuracy: 0.8210 - val_loss: 0.3999 - val_accuracy: 0.8100\n",
      "Epoch 20/150\n",
      "319/319 [==============================] - 1s 2ms/step - loss: 0.3889 - accuracy: 0.8202 - val_loss: 0.3995 - val_accuracy: 0.8104\n",
      "Epoch 21/150\n",
      "319/319 [==============================] - 1s 2ms/step - loss: 0.3885 - accuracy: 0.8198 - val_loss: 0.3985 - val_accuracy: 0.8140\n",
      "Epoch 22/150\n",
      "319/319 [==============================] - 1s 2ms/step - loss: 0.3874 - accuracy: 0.8218 - val_loss: 0.4006 - val_accuracy: 0.8112\n",
      "Epoch 23/150\n",
      "319/319 [==============================] - 1s 2ms/step - loss: 0.3869 - accuracy: 0.8215 - val_loss: 0.3967 - val_accuracy: 0.8159\n",
      "Epoch 24/150\n",
      "319/319 [==============================] - 1s 2ms/step - loss: 0.3859 - accuracy: 0.8230 - val_loss: 0.3983 - val_accuracy: 0.8148\n",
      "Epoch 25/150\n",
      "319/319 [==============================] - 1s 2ms/step - loss: 0.3854 - accuracy: 0.8233 - val_loss: 0.3986 - val_accuracy: 0.8128\n",
      "Epoch 26/150\n",
      "319/319 [==============================] - 1s 2ms/step - loss: 0.3844 - accuracy: 0.8235 - val_loss: 0.4005 - val_accuracy: 0.8136\n",
      "Epoch 27/150\n",
      "319/319 [==============================] - 1s 2ms/step - loss: 0.3842 - accuracy: 0.8220 - val_loss: 0.3967 - val_accuracy: 0.8167\n",
      "Epoch 28/150\n",
      "319/319 [==============================] - 1s 2ms/step - loss: 0.3837 - accuracy: 0.8239 - val_loss: 0.3957 - val_accuracy: 0.8167\n",
      "Epoch 29/150\n",
      "319/319 [==============================] - 1s 2ms/step - loss: 0.3826 - accuracy: 0.8233 - val_loss: 0.3950 - val_accuracy: 0.8148\n",
      "Epoch 30/150\n",
      "319/319 [==============================] - 1s 2ms/step - loss: 0.3826 - accuracy: 0.8241 - val_loss: 0.3970 - val_accuracy: 0.8175\n",
      "Epoch 31/150\n",
      "319/319 [==============================] - 1s 2ms/step - loss: 0.3818 - accuracy: 0.8253 - val_loss: 0.3970 - val_accuracy: 0.8179\n",
      "Epoch 32/150\n",
      "319/319 [==============================] - 1s 2ms/step - loss: 0.3820 - accuracy: 0.8242 - val_loss: 0.3968 - val_accuracy: 0.8151\n",
      "Epoch 33/150\n",
      "319/319 [==============================] - 1s 2ms/step - loss: 0.3810 - accuracy: 0.8268 - val_loss: 0.3945 - val_accuracy: 0.8159\n",
      "Epoch 34/150\n",
      "319/319 [==============================] - 1s 2ms/step - loss: 0.3807 - accuracy: 0.8252 - val_loss: 0.3954 - val_accuracy: 0.8148\n",
      "Epoch 35/150\n",
      "319/319 [==============================] - 1s 2ms/step - loss: 0.3809 - accuracy: 0.8245 - val_loss: 0.3946 - val_accuracy: 0.8191\n",
      "Epoch 36/150\n",
      "319/319 [==============================] - 1s 2ms/step - loss: 0.3798 - accuracy: 0.8249 - val_loss: 0.3957 - val_accuracy: 0.8155\n",
      "Epoch 37/150\n",
      "319/319 [==============================] - 1s 2ms/step - loss: 0.3797 - accuracy: 0.8269 - val_loss: 0.3955 - val_accuracy: 0.8210\n",
      "Epoch 38/150\n",
      "319/319 [==============================] - 1s 2ms/step - loss: 0.3797 - accuracy: 0.8235 - val_loss: 0.3939 - val_accuracy: 0.8206\n",
      "Epoch 39/150\n",
      "319/319 [==============================] - 1s 2ms/step - loss: 0.3795 - accuracy: 0.8272 - val_loss: 0.3937 - val_accuracy: 0.8199\n",
      "Epoch 40/150\n",
      "319/319 [==============================] - 1s 2ms/step - loss: 0.3793 - accuracy: 0.8260 - val_loss: 0.3932 - val_accuracy: 0.8246\n",
      "Epoch 41/150\n",
      "319/319 [==============================] - 1s 2ms/step - loss: 0.3789 - accuracy: 0.8261 - val_loss: 0.3932 - val_accuracy: 0.8214\n",
      "Epoch 42/150\n",
      "319/319 [==============================] - 1s 2ms/step - loss: 0.3786 - accuracy: 0.8279 - val_loss: 0.3941 - val_accuracy: 0.8210\n",
      "Epoch 43/150\n",
      "319/319 [==============================] - 1s 2ms/step - loss: 0.3781 - accuracy: 0.8261 - val_loss: 0.3940 - val_accuracy: 0.8210\n",
      "Epoch 44/150\n",
      "319/319 [==============================] - 1s 2ms/step - loss: 0.3778 - accuracy: 0.8270 - val_loss: 0.3957 - val_accuracy: 0.8195\n",
      "Epoch 45/150\n",
      "319/319 [==============================] - 1s 2ms/step - loss: 0.3777 - accuracy: 0.8255 - val_loss: 0.3947 - val_accuracy: 0.8206\n",
      "Epoch 46/150\n",
      "319/319 [==============================] - 1s 2ms/step - loss: 0.3770 - accuracy: 0.8280 - val_loss: 0.3944 - val_accuracy: 0.8210\n",
      "Epoch 47/150\n",
      "319/319 [==============================] - 1s 2ms/step - loss: 0.3773 - accuracy: 0.8274 - val_loss: 0.3938 - val_accuracy: 0.8226\n",
      "Epoch 48/150\n",
      "319/319 [==============================] - 1s 2ms/step - loss: 0.3765 - accuracy: 0.8275 - val_loss: 0.3929 - val_accuracy: 0.8257\n",
      "Epoch 49/150\n",
      "319/319 [==============================] - 1s 2ms/step - loss: 0.3764 - accuracy: 0.8272 - val_loss: 0.3934 - val_accuracy: 0.8218\n",
      "Epoch 50/150\n",
      "319/319 [==============================] - 1s 2ms/step - loss: 0.3759 - accuracy: 0.8262 - val_loss: 0.3931 - val_accuracy: 0.8222\n",
      "Epoch 51/150\n",
      "319/319 [==============================] - 1s 2ms/step - loss: 0.3752 - accuracy: 0.8293 - val_loss: 0.3924 - val_accuracy: 0.8238\n",
      "Epoch 52/150\n",
      "319/319 [==============================] - 1s 2ms/step - loss: 0.3755 - accuracy: 0.8265 - val_loss: 0.3922 - val_accuracy: 0.8250\n",
      "Epoch 53/150\n",
      "319/319 [==============================] - 1s 2ms/step - loss: 0.3757 - accuracy: 0.8271 - val_loss: 0.3926 - val_accuracy: 0.8242\n",
      "Epoch 54/150\n",
      "319/319 [==============================] - 1s 2ms/step - loss: 0.3751 - accuracy: 0.8293 - val_loss: 0.3933 - val_accuracy: 0.8238\n",
      "Epoch 55/150\n",
      "319/319 [==============================] - 1s 2ms/step - loss: 0.3750 - accuracy: 0.8296 - val_loss: 0.3958 - val_accuracy: 0.8206\n",
      "Epoch 56/150\n",
      "319/319 [==============================] - 1s 2ms/step - loss: 0.3742 - accuracy: 0.8310 - val_loss: 0.3914 - val_accuracy: 0.8285\n",
      "Epoch 57/150\n",
      "319/319 [==============================] - 1s 2ms/step - loss: 0.3747 - accuracy: 0.8275 - val_loss: 0.3939 - val_accuracy: 0.8246\n"
     ]
    },
    {
     "name": "stdout",
     "output_type": "stream",
     "text": [
      "Epoch 58/150\n",
      "319/319 [==============================] - 1s 2ms/step - loss: 0.3738 - accuracy: 0.8297 - val_loss: 0.3950 - val_accuracy: 0.8234\n",
      "Epoch 59/150\n",
      "319/319 [==============================] - 1s 2ms/step - loss: 0.3737 - accuracy: 0.8295 - val_loss: 0.3932 - val_accuracy: 0.8254\n",
      "Epoch 60/150\n",
      "319/319 [==============================] - 1s 2ms/step - loss: 0.3735 - accuracy: 0.8309 - val_loss: 0.3920 - val_accuracy: 0.8285\n",
      "Epoch 61/150\n",
      "319/319 [==============================] - 1s 2ms/step - loss: 0.3731 - accuracy: 0.8307 - val_loss: 0.3922 - val_accuracy: 0.8293\n",
      "Epoch 62/150\n",
      "319/319 [==============================] - 1s 2ms/step - loss: 0.3731 - accuracy: 0.8300 - val_loss: 0.3915 - val_accuracy: 0.8277\n",
      "Epoch 63/150\n",
      "319/319 [==============================] - 1s 2ms/step - loss: 0.3731 - accuracy: 0.8287 - val_loss: 0.3922 - val_accuracy: 0.8250\n",
      "Epoch 64/150\n",
      "319/319 [==============================] - 1s 2ms/step - loss: 0.3724 - accuracy: 0.8300 - val_loss: 0.3929 - val_accuracy: 0.8273\n",
      "Epoch 65/150\n",
      "319/319 [==============================] - 1s 3ms/step - loss: 0.3724 - accuracy: 0.8305 - val_loss: 0.3919 - val_accuracy: 0.8269\n",
      "Epoch 66/150\n",
      "319/319 [==============================] - 1s 2ms/step - loss: 0.3720 - accuracy: 0.8277 - val_loss: 0.3905 - val_accuracy: 0.8273\n",
      "Epoch 67/150\n",
      "319/319 [==============================] - 1s 2ms/step - loss: 0.3719 - accuracy: 0.8331 - val_loss: 0.3917 - val_accuracy: 0.8250\n",
      "Epoch 68/150\n",
      "319/319 [==============================] - 1s 2ms/step - loss: 0.3713 - accuracy: 0.8314 - val_loss: 0.3919 - val_accuracy: 0.8281\n",
      "Epoch 69/150\n",
      "319/319 [==============================] - 1s 2ms/step - loss: 0.3717 - accuracy: 0.8313 - val_loss: 0.3921 - val_accuracy: 0.8273\n",
      "Epoch 70/150\n",
      "319/319 [==============================] - 1s 2ms/step - loss: 0.3712 - accuracy: 0.8329 - val_loss: 0.3937 - val_accuracy: 0.8226\n",
      "Epoch 71/150\n",
      "319/319 [==============================] - 1s 2ms/step - loss: 0.3712 - accuracy: 0.8307 - val_loss: 0.3909 - val_accuracy: 0.8265\n",
      "Epoch 72/150\n",
      "319/319 [==============================] - 1s 2ms/step - loss: 0.3711 - accuracy: 0.8311 - val_loss: 0.3929 - val_accuracy: 0.8254\n",
      "Epoch 73/150\n",
      "319/319 [==============================] - 1s 2ms/step - loss: 0.3707 - accuracy: 0.8325 - val_loss: 0.3925 - val_accuracy: 0.8277\n",
      "Epoch 74/150\n",
      "319/319 [==============================] - 1s 2ms/step - loss: 0.3705 - accuracy: 0.8310 - val_loss: 0.3919 - val_accuracy: 0.8301\n",
      "Epoch 75/150\n",
      "319/319 [==============================] - 1s 2ms/step - loss: 0.3700 - accuracy: 0.8328 - val_loss: 0.3925 - val_accuracy: 0.8277\n",
      "Epoch 76/150\n",
      "319/319 [==============================] - 1s 2ms/step - loss: 0.3696 - accuracy: 0.8327 - val_loss: 0.3936 - val_accuracy: 0.8242\n",
      "Epoch 77/150\n",
      "319/319 [==============================] - 1s 2ms/step - loss: 0.3698 - accuracy: 0.8305 - val_loss: 0.3900 - val_accuracy: 0.8281\n",
      "Epoch 78/150\n",
      "319/319 [==============================] - 1s 2ms/step - loss: 0.3696 - accuracy: 0.8321 - val_loss: 0.3914 - val_accuracy: 0.8261\n",
      "Epoch 79/150\n",
      "319/319 [==============================] - 1s 2ms/step - loss: 0.3695 - accuracy: 0.8313 - val_loss: 0.3911 - val_accuracy: 0.8289\n",
      "Epoch 80/150\n",
      "319/319 [==============================] - 1s 2ms/step - loss: 0.3687 - accuracy: 0.8328 - val_loss: 0.3916 - val_accuracy: 0.8254\n",
      "Epoch 81/150\n",
      "319/319 [==============================] - 1s 2ms/step - loss: 0.3689 - accuracy: 0.8334 - val_loss: 0.3911 - val_accuracy: 0.8269\n",
      "Epoch 82/150\n",
      "319/319 [==============================] - 1s 2ms/step - loss: 0.3687 - accuracy: 0.8317 - val_loss: 0.3933 - val_accuracy: 0.8316\n",
      "Epoch 83/150\n",
      "319/319 [==============================] - 1s 2ms/step - loss: 0.3689 - accuracy: 0.8334 - val_loss: 0.3908 - val_accuracy: 0.8293\n",
      "Epoch 84/150\n",
      "319/319 [==============================] - 1s 2ms/step - loss: 0.3678 - accuracy: 0.8326 - val_loss: 0.3922 - val_accuracy: 0.8261\n",
      "Epoch 85/150\n",
      "319/319 [==============================] - 1s 2ms/step - loss: 0.3680 - accuracy: 0.8326 - val_loss: 0.3921 - val_accuracy: 0.8285\n",
      "Epoch 86/150\n",
      "319/319 [==============================] - 1s 2ms/step - loss: 0.3684 - accuracy: 0.8338 - val_loss: 0.3896 - val_accuracy: 0.8312\n",
      "Epoch 87/150\n",
      "319/319 [==============================] - 1s 2ms/step - loss: 0.3678 - accuracy: 0.8323 - val_loss: 0.3905 - val_accuracy: 0.8230\n",
      "Epoch 88/150\n",
      "319/319 [==============================] - 1s 2ms/step - loss: 0.3675 - accuracy: 0.8350 - val_loss: 0.3904 - val_accuracy: 0.8257\n",
      "Epoch 89/150\n",
      "319/319 [==============================] - 1s 2ms/step - loss: 0.3674 - accuracy: 0.8340 - val_loss: 0.3901 - val_accuracy: 0.8293\n",
      "Epoch 90/150\n",
      "319/319 [==============================] - 1s 2ms/step - loss: 0.3667 - accuracy: 0.8354 - val_loss: 0.3919 - val_accuracy: 0.8257\n",
      "Epoch 91/150\n",
      "319/319 [==============================] - 1s 2ms/step - loss: 0.3668 - accuracy: 0.8319 - val_loss: 0.3923 - val_accuracy: 0.8254\n",
      "Epoch 92/150\n",
      "319/319 [==============================] - 1s 2ms/step - loss: 0.3668 - accuracy: 0.8326 - val_loss: 0.3906 - val_accuracy: 0.8316\n",
      "Epoch 93/150\n",
      "319/319 [==============================] - 1s 2ms/step - loss: 0.3662 - accuracy: 0.8351 - val_loss: 0.3907 - val_accuracy: 0.8273\n",
      "Epoch 94/150\n",
      "319/319 [==============================] - 1s 2ms/step - loss: 0.3659 - accuracy: 0.8363 - val_loss: 0.3891 - val_accuracy: 0.8324\n",
      "Epoch 95/150\n",
      "319/319 [==============================] - 1s 2ms/step - loss: 0.3660 - accuracy: 0.8352 - val_loss: 0.3916 - val_accuracy: 0.8269\n",
      "Epoch 96/150\n",
      "319/319 [==============================] - 1s 2ms/step - loss: 0.3663 - accuracy: 0.8337 - val_loss: 0.3910 - val_accuracy: 0.8312\n",
      "Epoch 97/150\n",
      "319/319 [==============================] - 1s 2ms/step - loss: 0.3658 - accuracy: 0.8338 - val_loss: 0.3906 - val_accuracy: 0.8285\n",
      "Epoch 98/150\n",
      "319/319 [==============================] - 1s 2ms/step - loss: 0.3658 - accuracy: 0.8363 - val_loss: 0.3905 - val_accuracy: 0.8285\n",
      "Epoch 99/150\n",
      "319/319 [==============================] - 1s 2ms/step - loss: 0.3651 - accuracy: 0.8350 - val_loss: 0.3897 - val_accuracy: 0.8328\n",
      "Epoch 100/150\n",
      "319/319 [==============================] - 1s 2ms/step - loss: 0.3653 - accuracy: 0.8347 - val_loss: 0.3893 - val_accuracy: 0.8305\n",
      "Epoch 101/150\n",
      "319/319 [==============================] - 1s 2ms/step - loss: 0.3649 - accuracy: 0.8361 - val_loss: 0.3926 - val_accuracy: 0.8285\n",
      "Epoch 102/150\n",
      "319/319 [==============================] - 1s 2ms/step - loss: 0.3646 - accuracy: 0.8370 - val_loss: 0.3910 - val_accuracy: 0.8254\n",
      "Epoch 103/150\n",
      "319/319 [==============================] - 1s 2ms/step - loss: 0.3642 - accuracy: 0.8352 - val_loss: 0.3917 - val_accuracy: 0.8293\n",
      "Epoch 104/150\n",
      "319/319 [==============================] - 1s 2ms/step - loss: 0.3647 - accuracy: 0.8367 - val_loss: 0.3902 - val_accuracy: 0.8305\n",
      "Epoch 105/150\n",
      "319/319 [==============================] - 1s 2ms/step - loss: 0.3642 - accuracy: 0.8356 - val_loss: 0.3915 - val_accuracy: 0.8285\n",
      "Epoch 106/150\n",
      "319/319 [==============================] - 1s 2ms/step - loss: 0.3641 - accuracy: 0.8366 - val_loss: 0.3872 - val_accuracy: 0.8308\n",
      "Epoch 107/150\n",
      "319/319 [==============================] - 1s 2ms/step - loss: 0.3633 - accuracy: 0.8355 - val_loss: 0.3897 - val_accuracy: 0.8273\n",
      "Epoch 108/150\n",
      "319/319 [==============================] - 1s 2ms/step - loss: 0.3636 - accuracy: 0.8378 - val_loss: 0.3908 - val_accuracy: 0.8285\n",
      "Epoch 109/150\n",
      "319/319 [==============================] - 1s 2ms/step - loss: 0.3632 - accuracy: 0.8371 - val_loss: 0.3893 - val_accuracy: 0.8308\n",
      "Epoch 110/150\n",
      "319/319 [==============================] - 1s 2ms/step - loss: 0.3638 - accuracy: 0.8364 - val_loss: 0.3897 - val_accuracy: 0.8305\n",
      "Epoch 111/150\n",
      "319/319 [==============================] - 1s 2ms/step - loss: 0.3631 - accuracy: 0.8378 - val_loss: 0.3886 - val_accuracy: 0.8246\n",
      "Epoch 112/150\n",
      "319/319 [==============================] - 1s 2ms/step - loss: 0.3627 - accuracy: 0.8378 - val_loss: 0.3897 - val_accuracy: 0.8257\n",
      "Epoch 113/150\n",
      "319/319 [==============================] - 1s 2ms/step - loss: 0.3630 - accuracy: 0.8381 - val_loss: 0.3896 - val_accuracy: 0.8281\n",
      "Epoch 114/150\n",
      "319/319 [==============================] - 1s 2ms/step - loss: 0.3627 - accuracy: 0.8372 - val_loss: 0.3952 - val_accuracy: 0.8265\n"
     ]
    },
    {
     "name": "stdout",
     "output_type": "stream",
     "text": [
      "Epoch 115/150\n",
      "319/319 [==============================] - 1s 2ms/step - loss: 0.3640 - accuracy: 0.8373 - val_loss: 0.3897 - val_accuracy: 0.8305\n",
      "Epoch 116/150\n",
      "319/319 [==============================] - 1s 2ms/step - loss: 0.3631 - accuracy: 0.8380 - val_loss: 0.3889 - val_accuracy: 0.8316\n",
      "Epoch 117/150\n",
      "319/319 [==============================] - 1s 2ms/step - loss: 0.3624 - accuracy: 0.8359 - val_loss: 0.3894 - val_accuracy: 0.8305\n",
      "Epoch 118/150\n",
      "319/319 [==============================] - 1s 2ms/step - loss: 0.3621 - accuracy: 0.8386 - val_loss: 0.3911 - val_accuracy: 0.8293\n",
      "Epoch 119/150\n",
      "319/319 [==============================] - 1s 2ms/step - loss: 0.3623 - accuracy: 0.8391 - val_loss: 0.3890 - val_accuracy: 0.8277\n",
      "Epoch 120/150\n",
      "319/319 [==============================] - 1s 2ms/step - loss: 0.3623 - accuracy: 0.8387 - val_loss: 0.3879 - val_accuracy: 0.8281\n",
      "Epoch 121/150\n",
      "319/319 [==============================] - 1s 2ms/step - loss: 0.3621 - accuracy: 0.8393 - val_loss: 0.3901 - val_accuracy: 0.8250\n",
      "Epoch 122/150\n",
      "319/319 [==============================] - 1s 2ms/step - loss: 0.3617 - accuracy: 0.8378 - val_loss: 0.3886 - val_accuracy: 0.8257\n",
      "Epoch 123/150\n",
      "319/319 [==============================] - 1s 2ms/step - loss: 0.3622 - accuracy: 0.8385 - val_loss: 0.3913 - val_accuracy: 0.8301\n",
      "Epoch 124/150\n",
      "319/319 [==============================] - 1s 2ms/step - loss: 0.3615 - accuracy: 0.8392 - val_loss: 0.3903 - val_accuracy: 0.8250\n",
      "Epoch 125/150\n",
      "319/319 [==============================] - 1s 2ms/step - loss: 0.3617 - accuracy: 0.8371 - val_loss: 0.3902 - val_accuracy: 0.8273\n",
      "Epoch 126/150\n",
      "319/319 [==============================] - 1s 2ms/step - loss: 0.3613 - accuracy: 0.8382 - val_loss: 0.3929 - val_accuracy: 0.8269\n",
      "Epoch 127/150\n",
      "319/319 [==============================] - 1s 2ms/step - loss: 0.3615 - accuracy: 0.8368 - val_loss: 0.3892 - val_accuracy: 0.8269\n",
      "Epoch 128/150\n",
      "319/319 [==============================] - 1s 2ms/step - loss: 0.3611 - accuracy: 0.8374 - val_loss: 0.3906 - val_accuracy: 0.8308\n",
      "Epoch 129/150\n",
      "319/319 [==============================] - 1s 2ms/step - loss: 0.3606 - accuracy: 0.8375 - val_loss: 0.3871 - val_accuracy: 0.8297\n",
      "Epoch 130/150\n",
      "319/319 [==============================] - 1s 2ms/step - loss: 0.3609 - accuracy: 0.8392 - val_loss: 0.3909 - val_accuracy: 0.8230\n",
      "Epoch 131/150\n",
      "319/319 [==============================] - 1s 2ms/step - loss: 0.3608 - accuracy: 0.8368 - val_loss: 0.3900 - val_accuracy: 0.8191\n",
      "Epoch 132/150\n",
      "319/319 [==============================] - 1s 2ms/step - loss: 0.3613 - accuracy: 0.8376 - val_loss: 0.3912 - val_accuracy: 0.8289\n",
      "Epoch 133/150\n",
      "319/319 [==============================] - 1s 2ms/step - loss: 0.3606 - accuracy: 0.8384 - val_loss: 0.3891 - val_accuracy: 0.8234\n",
      "Epoch 134/150\n",
      "319/319 [==============================] - 1s 2ms/step - loss: 0.3604 - accuracy: 0.8370 - val_loss: 0.3896 - val_accuracy: 0.8238\n",
      "Epoch 135/150\n",
      "319/319 [==============================] - 1s 2ms/step - loss: 0.3603 - accuracy: 0.8378 - val_loss: 0.3898 - val_accuracy: 0.8277\n",
      "Epoch 136/150\n",
      "319/319 [==============================] - 1s 2ms/step - loss: 0.3597 - accuracy: 0.8382 - val_loss: 0.3943 - val_accuracy: 0.8340\n",
      "Epoch 137/150\n",
      "319/319 [==============================] - 1s 2ms/step - loss: 0.3602 - accuracy: 0.8384 - val_loss: 0.3887 - val_accuracy: 0.8308\n",
      "Epoch 138/150\n",
      "319/319 [==============================] - 1s 2ms/step - loss: 0.3598 - accuracy: 0.8380 - val_loss: 0.3907 - val_accuracy: 0.8301\n",
      "Epoch 139/150\n",
      "319/319 [==============================] - 1s 2ms/step - loss: 0.3599 - accuracy: 0.8374 - val_loss: 0.3924 - val_accuracy: 0.8293\n",
      "Epoch 140/150\n",
      "319/319 [==============================] - 1s 2ms/step - loss: 0.3598 - accuracy: 0.8382 - val_loss: 0.3907 - val_accuracy: 0.8328\n",
      "Epoch 141/150\n",
      "319/319 [==============================] - 1s 2ms/step - loss: 0.3589 - accuracy: 0.8392 - val_loss: 0.3924 - val_accuracy: 0.8230\n",
      "Epoch 142/150\n",
      "319/319 [==============================] - 1s 2ms/step - loss: 0.3596 - accuracy: 0.8368 - val_loss: 0.3888 - val_accuracy: 0.8316\n",
      "Epoch 143/150\n",
      "319/319 [==============================] - 1s 2ms/step - loss: 0.3592 - accuracy: 0.8379 - val_loss: 0.3888 - val_accuracy: 0.8269\n",
      "Epoch 144/150\n",
      "319/319 [==============================] - 1s 2ms/step - loss: 0.3588 - accuracy: 0.8378 - val_loss: 0.3882 - val_accuracy: 0.8254\n",
      "Epoch 145/150\n",
      "319/319 [==============================] - 1s 2ms/step - loss: 0.3592 - accuracy: 0.8397 - val_loss: 0.3889 - val_accuracy: 0.8312\n",
      "Epoch 146/150\n",
      "319/319 [==============================] - 1s 2ms/step - loss: 0.3590 - accuracy: 0.8387 - val_loss: 0.3913 - val_accuracy: 0.8340\n",
      "Epoch 147/150\n",
      "319/319 [==============================] - 1s 2ms/step - loss: 0.3589 - accuracy: 0.8379 - val_loss: 0.3904 - val_accuracy: 0.8308\n",
      "Epoch 148/150\n",
      "319/319 [==============================] - 1s 2ms/step - loss: 0.3593 - accuracy: 0.8395 - val_loss: 0.3898 - val_accuracy: 0.8328\n",
      "Epoch 149/150\n",
      "319/319 [==============================] - 1s 2ms/step - loss: 0.3586 - accuracy: 0.8394 - val_loss: 0.3891 - val_accuracy: 0.8257\n",
      "Epoch 150/150\n",
      "319/319 [==============================] - 1s 2ms/step - loss: 0.3587 - accuracy: 0.8377 - val_loss: 0.3902 - val_accuracy: 0.8316\n"
     ]
    }
   ],
   "source": [
    "history=model.fit(X_resampled_train_scaled,y_resampled_train,epochs=150, validation_split=0.2)    # This is the stage where my neural network is getting trained"
   ]
  },
  {
   "cell_type": "code",
   "execution_count": 57,
   "id": "6b406933",
   "metadata": {},
   "outputs": [
    {
     "data": {
      "text/plain": [
       "[array([[ 1.15713544e-01, -8.12370237e-03,  7.05535829e-01,\n",
       "         -1.73387691e-01, -2.07286656e-01, -5.21927238e-01,\n",
       "          1.31162986e-01,  3.06810081e-01, -2.47093722e-01,\n",
       "          4.05915082e-01,  1.97036266e-01,  2.21993238e-01],\n",
       "        [ 8.65818143e-01,  5.79634190e-01,  9.55626816e-02,\n",
       "         -5.34372449e-01, -5.97183645e-01, -8.65959004e-02,\n",
       "          2.80351162e-01, -1.14683583e-01,  6.59072280e-01,\n",
       "         -4.52150553e-01,  5.71406722e-01,  1.08764432e-01],\n",
       "        [-1.65785313e-01, -4.13980372e-02,  8.61301497e-02,\n",
       "         -1.59838215e-01,  5.31705797e-01, -2.51155615e-01,\n",
       "          2.96937257e-01, -3.37815195e-01,  2.41873652e-01,\n",
       "         -9.12962928e-02, -1.06222004e-01,  2.07560837e-01],\n",
       "        [ 9.70145315e-02,  4.18629125e-02, -4.19463515e-01,\n",
       "          7.96287596e-01, -3.00518721e-01,  9.37505245e-01,\n",
       "          8.81838560e-01, -1.06165457e+00, -2.95067638e-01,\n",
       "         -7.73485184e-01,  2.70921528e-01,  1.03409851e+00],\n",
       "        [ 6.42190054e-02, -1.73982363e-02, -5.11083364e-01,\n",
       "          3.48024845e-01,  3.84305656e-01,  7.11185932e-01,\n",
       "         -1.07443132e-01,  1.00140595e+00,  3.33121479e-01,\n",
       "         -3.91127616e-01, -8.16915557e-02,  2.16011554e-01],\n",
       "        [ 2.68800016e-02,  1.49861002e+00,  1.57714903e-01,\n",
       "         -6.76546618e-03,  1.21135607e-01,  6.08648837e-01,\n",
       "         -5.44760525e-01, -3.91869873e-01, -8.88191581e-01,\n",
       "         -6.31692931e-02, -1.18497860e+00, -6.53489113e-01],\n",
       "        [-6.90992549e-02, -3.51088583e-01,  1.43249941e+00,\n",
       "         -6.05337083e-01, -4.53155860e-02,  1.11467755e+00,\n",
       "         -8.37540403e-02, -1.27448663e-01, -1.05961688e-01,\n",
       "         -6.56939983e-01, -5.76706529e-01,  9.06964898e-01],\n",
       "        [-7.14967325e-02, -1.26389667e-01, -9.77606326e-02,\n",
       "         -2.17798710e-01,  4.08915170e-02, -4.56629932e-01,\n",
       "          9.18390155e-02, -7.04481208e-04, -2.28552800e-02,\n",
       "          2.39305213e-01, -7.50762448e-02,  6.78872406e-01],\n",
       "        [ 8.78961146e-01, -1.57641117e-02,  3.05711597e-01,\n",
       "         -2.57993907e-01,  2.21949235e-01,  9.31637734e-02,\n",
       "          8.84950280e-01,  2.32751101e-01, -1.04250193e-01,\n",
       "          4.86466914e-01,  2.36672342e-01,  2.29946867e-01],\n",
       "        [ 1.25078246e-01,  1.76595021e-02, -4.43601003e-03,\n",
       "          2.74551893e-03, -1.15120277e-01, -1.23714082e-01,\n",
       "         -5.65741025e-02, -1.05058759e-01, -1.22966900e-01,\n",
       "          4.64002937e-01, -9.02045369e-02,  1.38569936e-01]], dtype=float32),\n",
       " array([ 0.20335998, -0.71206105,  0.14492063,  0.6317976 ,  0.70724106,\n",
       "         0.32432893, -1.088255  ,  0.22273035,  0.08465867,  0.22696501,\n",
       "         0.6666394 , -0.06218338], dtype=float32)]"
      ]
     },
     "execution_count": 57,
     "metadata": {},
     "output_type": "execute_result"
    }
   ],
   "source": [
    "# Now the model has been trained and the model has calculated all the weights and biases.\n",
    "# Lets check the weights assigned to the inputs\n",
    "\n",
    "model.layers[0].get_weights()         # This will show all the 44 weights and 4 biases"
   ]
  },
  {
   "cell_type": "code",
   "execution_count": 58,
   "id": "a458a3ab",
   "metadata": {},
   "outputs": [
    {
     "data": {
      "text/plain": [
       "[array([[-0.28517577,  0.33891177, -0.17430222, -0.8377728 ,  0.03467183,\n",
       "         -0.04223611, -0.23082954,  0.8040995 ,  0.28407222, -0.17378233],\n",
       "        [-0.15564589, -0.6904571 , -0.9460609 ,  0.4050482 ,  0.882264  ,\n",
       "          0.09811027, -1.3906124 ,  0.32884368, -0.00332195, -0.44588697],\n",
       "        [ 0.72398686,  0.32733297,  0.8307568 , -0.28768933,  0.21222338,\n",
       "         -0.27723062,  0.312058  , -0.6640985 ,  0.38762864,  0.3345008 ],\n",
       "        [ 0.7023816 ,  0.31196085, -0.5015186 ,  0.3748851 ,  0.22420007,\n",
       "          0.2416443 , -0.27292398,  0.7005207 , -0.3497935 , -0.68202007],\n",
       "        [ 0.1978392 ,  0.19917804, -0.5863452 , -0.22089082, -0.36832085,\n",
       "         -0.13497029, -0.33476338,  0.04884693,  0.8758747 ,  0.09217855],\n",
       "        [ 0.26790074,  0.8213269 ,  0.81144196,  0.14527683,  0.11219705,\n",
       "          0.05361156, -0.0306341 , -0.22994858, -0.50730723,  0.16677657],\n",
       "        [-0.33063138,  0.1721084 , -0.33872142, -0.462774  ,  0.79101205,\n",
       "         -1.4893878 , -0.5475399 ,  0.02133285, -1.4591055 , -0.3804998 ],\n",
       "        [-0.4590873 ,  0.66544294, -0.09158306, -0.29865462, -0.36326772,\n",
       "          0.1577692 , -0.41851526, -0.9812675 , -0.66282386, -1.0225569 ],\n",
       "        [ 0.22699915, -0.21720438, -0.66101164,  0.4253156 , -0.18476962,\n",
       "         -0.98976034,  0.5570052 , -0.38849145, -0.00333233,  0.03896588],\n",
       "        [-0.22784674, -0.1157078 , -0.20353355,  0.76757234,  0.51582813,\n",
       "         -0.3091349 ,  0.5814734 , -0.3200654 , -0.03301092, -0.05113823],\n",
       "        [-0.15203287, -0.49139878, -0.30879313,  0.59515995, -0.81025386,\n",
       "          0.5847855 ,  0.77554727,  0.17231798, -0.22643623, -0.3609624 ],\n",
       "        [-0.28050044,  0.56023747,  0.40282476, -0.23432656,  0.6494364 ,\n",
       "          0.4573902 , -0.05046624,  0.19996263,  0.01266573,  0.5585515 ]],\n",
       "       dtype=float32),\n",
       " array([-0.38776472, -0.02319788,  0.07815378,  0.1106258 , -0.2789203 ,\n",
       "         0.3008168 ,  0.5181141 ,  0.03926899,  0.9653744 , -0.13142493],\n",
       "       dtype=float32)]"
      ]
     },
     "execution_count": 58,
     "metadata": {},
     "output_type": "execute_result"
    }
   ],
   "source": [
    "# Similarly lets check the weights for next layer\n",
    "\n",
    "model.layers[1].get_weights()"
   ]
  },
  {
   "cell_type": "code",
   "execution_count": 59,
   "id": "c8ddde73",
   "metadata": {},
   "outputs": [
    {
     "name": "stdout",
     "output_type": "stream",
     "text": [
      "100/100 [==============================] - 0s 1ms/step\n"
     ]
    },
    {
     "data": {
      "text/plain": [
       "array([[0.08127175],\n",
       "       [0.5154519 ],\n",
       "       [0.97464645],\n",
       "       ...,\n",
       "       [0.78433067],\n",
       "       [0.20655423],\n",
       "       [0.12254305]], dtype=float32)"
      ]
     },
     "execution_count": 59,
     "metadata": {},
     "output_type": "execute_result"
    }
   ],
   "source": [
    "y_log=model.predict(X_resampled_test_scaled)\n",
    "y_log"
   ]
  },
  {
   "cell_type": "code",
   "execution_count": 60,
   "id": "b66c9654",
   "metadata": {},
   "outputs": [],
   "source": [
    "# Since the output is not in the form of 0 & 1. so lets convert it using a threshold of 0.5"
   ]
  },
  {
   "cell_type": "code",
   "execution_count": 61,
   "id": "b49041eb",
   "metadata": {},
   "outputs": [
    {
     "data": {
      "text/plain": [
       "array([[0],\n",
       "       [1],\n",
       "       [1],\n",
       "       ...,\n",
       "       [1],\n",
       "       [0],\n",
       "       [0]])"
      ]
     },
     "execution_count": 61,
     "metadata": {},
     "output_type": "execute_result"
    }
   ],
   "source": [
    "y_pred=np.where(y_log>0.5,1,0)\n",
    "y_pred"
   ]
  },
  {
   "cell_type": "code",
   "execution_count": 62,
   "id": "658a1d79",
   "metadata": {},
   "outputs": [],
   "source": [
    "from sklearn.metrics import accuracy_score"
   ]
  },
  {
   "cell_type": "code",
   "execution_count": 63,
   "id": "e7a5a40f",
   "metadata": {},
   "outputs": [
    {
     "name": "stdout",
     "output_type": "stream",
     "text": [
      "Accuracy of the model is :  0.8301946013810421\n"
     ]
    }
   ],
   "source": [
    "print(\"Accuracy of the model is : \", accuracy_score(y_resampled_test,y_pred))"
   ]
  },
  {
   "cell_type": "code",
   "execution_count": 64,
   "id": "3b4bb6d5",
   "metadata": {},
   "outputs": [
    {
     "data": {
      "text/plain": [
       "[<matplotlib.lines.Line2D at 0x1c296e2ffa0>]"
      ]
     },
     "execution_count": 64,
     "metadata": {},
     "output_type": "execute_result"
    },
    {
     "data": {
      "image/png": "[encoded data removed]",
      "text/plain": [
       "<Figure size 640x480 with 1 Axes>"
      ]
     },
     "metadata": {},
     "output_type": "display_data"
    }
   ],
   "source": [
    "plt.plot(history.history['loss'])    # History is a dictionary that stores loss, accuracy, val+loss, val_accuracy in key value pair\n",
    "plt.plot(history.history['val_loss'])"
   ]
  },
  {
   "cell_type": "code",
   "execution_count": 65,
   "id": "b50f10f5",
   "metadata": {},
   "outputs": [
    {
     "data": {
      "text/plain": [
       "[<matplotlib.lines.Line2D at 0x1c296ffd930>]"
      ]
     },
     "execution_count": 65,
     "metadata": {},
     "output_type": "execute_result"
    },
    {
     "data": {
      "image/png": "[encoded data removed]",
      "text/plain": [
       "<Figure size 640x480 with 1 Axes>"
      ]
     },
     "metadata": {},
     "output_type": "display_data"
    }
   ],
   "source": [
    "plt.plot(history.history['accuracy'])    \n",
    "plt.plot(history.history['val_accuracy'])"
   ]
  },
  {
   "cell_type": "code",
   "execution_count": 66,
   "id": "06b2ce8d",
   "metadata": {},
   "outputs": [],
   "source": [
    "#Since the loss and accuracy curves are more or less close to val_loss and val_accuray curve, so it can be inferrred that the model has not overfitted the training data"
   ]
  },
  {
   "cell_type": "code",
   "execution_count": 67,
   "id": "11a544e7",
   "metadata": {},
   "outputs": [
    {
     "data": {
      "text/html": [
       "<div>\n",
       "<style scoped>\n",
       "    .dataframe tbody tr th:only-of-type {\n",
       "        vertical-align: middle;\n",
       "    }\n",
       "\n",
       "    .dataframe tbody tr th {\n",
       "        vertical-align: top;\n",
       "    }\n",
       "\n",
       "    .dataframe thead th {\n",
       "        text-align: right;\n",
       "    }\n",
       "</style>\n",
       "<table border=\"1\" class=\"dataframe\">\n",
       "  <thead>\n",
       "    <tr style=\"text-align: right;\">\n",
       "      <th></th>\n",
       "      <th>CreditScore</th>\n",
       "      <th>Geography</th>\n",
       "      <th>Gender</th>\n",
       "      <th>Age</th>\n",
       "      <th>Tenure</th>\n",
       "      <th>Balance</th>\n",
       "      <th>NumOfProducts</th>\n",
       "      <th>HasCrCard</th>\n",
       "      <th>IsActiveMember</th>\n",
       "      <th>EstimatedSalary</th>\n",
       "    </tr>\n",
       "  </thead>\n",
       "  <tbody>\n",
       "    <tr>\n",
       "      <th>0</th>\n",
       "      <td>619</td>\n",
       "      <td>0</td>\n",
       "      <td>0</td>\n",
       "      <td>42</td>\n",
       "      <td>2</td>\n",
       "      <td>0.00</td>\n",
       "      <td>1</td>\n",
       "      <td>1</td>\n",
       "      <td>1</td>\n",
       "      <td>101348.88</td>\n",
       "    </tr>\n",
       "    <tr>\n",
       "      <th>1</th>\n",
       "      <td>608</td>\n",
       "      <td>1</td>\n",
       "      <td>0</td>\n",
       "      <td>41</td>\n",
       "      <td>1</td>\n",
       "      <td>83807.86</td>\n",
       "      <td>1</td>\n",
       "      <td>0</td>\n",
       "      <td>1</td>\n",
       "      <td>112542.58</td>\n",
       "    </tr>\n",
       "    <tr>\n",
       "      <th>2</th>\n",
       "      <td>502</td>\n",
       "      <td>0</td>\n",
       "      <td>0</td>\n",
       "      <td>42</td>\n",
       "      <td>8</td>\n",
       "      <td>159660.80</td>\n",
       "      <td>3</td>\n",
       "      <td>1</td>\n",
       "      <td>0</td>\n",
       "      <td>113931.57</td>\n",
       "    </tr>\n",
       "    <tr>\n",
       "      <th>3</th>\n",
       "      <td>699</td>\n",
       "      <td>0</td>\n",
       "      <td>0</td>\n",
       "      <td>39</td>\n",
       "      <td>1</td>\n",
       "      <td>0.00</td>\n",
       "      <td>2</td>\n",
       "      <td>0</td>\n",
       "      <td>0</td>\n",
       "      <td>93826.63</td>\n",
       "    </tr>\n",
       "    <tr>\n",
       "      <th>4</th>\n",
       "      <td>850</td>\n",
       "      <td>1</td>\n",
       "      <td>0</td>\n",
       "      <td>43</td>\n",
       "      <td>2</td>\n",
       "      <td>125510.82</td>\n",
       "      <td>1</td>\n",
       "      <td>1</td>\n",
       "      <td>1</td>\n",
       "      <td>79084.10</td>\n",
       "    </tr>\n",
       "    <tr>\n",
       "      <th>...</th>\n",
       "      <td>...</td>\n",
       "      <td>...</td>\n",
       "      <td>...</td>\n",
       "      <td>...</td>\n",
       "      <td>...</td>\n",
       "      <td>...</td>\n",
       "      <td>...</td>\n",
       "      <td>...</td>\n",
       "      <td>...</td>\n",
       "      <td>...</td>\n",
       "    </tr>\n",
       "    <tr>\n",
       "      <th>9995</th>\n",
       "      <td>771</td>\n",
       "      <td>0</td>\n",
       "      <td>1</td>\n",
       "      <td>39</td>\n",
       "      <td>5</td>\n",
       "      <td>0.00</td>\n",
       "      <td>2</td>\n",
       "      <td>1</td>\n",
       "      <td>0</td>\n",
       "      <td>96270.64</td>\n",
       "    </tr>\n",
       "    <tr>\n",
       "      <th>9996</th>\n",
       "      <td>516</td>\n",
       "      <td>0</td>\n",
       "      <td>1</td>\n",
       "      <td>35</td>\n",
       "      <td>10</td>\n",
       "      <td>57369.61</td>\n",
       "      <td>1</td>\n",
       "      <td>1</td>\n",
       "      <td>1</td>\n",
       "      <td>101699.77</td>\n",
       "    </tr>\n",
       "    <tr>\n",
       "      <th>9997</th>\n",
       "      <td>709</td>\n",
       "      <td>0</td>\n",
       "      <td>0</td>\n",
       "      <td>36</td>\n",
       "      <td>7</td>\n",
       "      <td>0.00</td>\n",
       "      <td>1</td>\n",
       "      <td>0</td>\n",
       "      <td>1</td>\n",
       "      <td>42085.58</td>\n",
       "    </tr>\n",
       "    <tr>\n",
       "      <th>9998</th>\n",
       "      <td>772</td>\n",
       "      <td>2</td>\n",
       "      <td>1</td>\n",
       "      <td>42</td>\n",
       "      <td>3</td>\n",
       "      <td>75075.31</td>\n",
       "      <td>2</td>\n",
       "      <td>1</td>\n",
       "      <td>0</td>\n",
       "      <td>92888.52</td>\n",
       "    </tr>\n",
       "    <tr>\n",
       "      <th>9999</th>\n",
       "      <td>792</td>\n",
       "      <td>0</td>\n",
       "      <td>0</td>\n",
       "      <td>28</td>\n",
       "      <td>4</td>\n",
       "      <td>130142.79</td>\n",
       "      <td>1</td>\n",
       "      <td>1</td>\n",
       "      <td>0</td>\n",
       "      <td>38190.78</td>\n",
       "    </tr>\n",
       "  </tbody>\n",
       "</table>\n",
       "<p>10000 rows × 10 columns</p>\n",
       "</div>"
      ],
      "text/plain": [
       "      CreditScore  Geography  Gender  Age  Tenure    Balance  NumOfProducts  \\\n",
       "0             619          0       0   42       2       0.00              1   \n",
       "1             608          1       0   41       1   83807.86              1   \n",
       "2             502          0       0   42       8  159660.80              3   \n",
       "3             699          0       0   39       1       0.00              2   \n",
       "4             850          1       0   43       2  125510.82              1   \n",
       "...           ...        ...     ...  ...     ...        ...            ...   \n",
       "9995          771          0       1   39       5       0.00              2   \n",
       "9996          516          0       1   35      10   57369.61              1   \n",
       "9997          709          0       0   36       7       0.00              1   \n",
       "9998          772          2       1   42       3   75075.31              2   \n",
       "9999          792          0       0   28       4  130142.79              1   \n",
       "\n",
       "      HasCrCard  IsActiveMember  EstimatedSalary  \n",
       "0             1               1        101348.88  \n",
       "1             0               1        112542.58  \n",
       "2             1               0        113931.57  \n",
       "3             0               0         93826.63  \n",
       "4             1               1         79084.10  \n",
       "...         ...             ...              ...  \n",
       "9995          1               0         96270.64  \n",
       "9996          1               1        101699.77  \n",
       "9997          0               1         42085.58  \n",
       "9998          1               0         92888.52  \n",
       "9999          1               0         38190.78  \n",
       "\n",
       "[10000 rows x 10 columns]"
      ]
     },
     "execution_count": 67,
     "metadata": {},
     "output_type": "execute_result"
    }
   ],
   "source": [
    "# Predicting on new data\n",
    "X                       \n",
    "\n",
    "# Geography: 0-France, 1-Spain, 2-Germany\n",
    "# Gender: 0-Female, 1-Male"
   ]
  },
  {
   "cell_type": "code",
   "execution_count": 70,
   "id": "d0195c6a",
   "metadata": {},
   "outputs": [
    {
     "name": "stdout",
     "output_type": "stream",
     "text": [
      "1/1 [==============================] - 0s 72ms/step\n",
      "[[1.]]\n"
     ]
    }
   ],
   "source": [
    "input_data=(650,1,0,50,2,55000,1,1,0,100000)\n",
    "\n",
    "# changing input data to numpy array\n",
    "input_data_as_numpy_array=np.asarray(input_data)\n",
    "\n",
    "# Reshaping the array\n",
    "input_data_reshaped= input_data_as_numpy_array.reshape(1,-1)\n",
    "\n",
    "prediction=model.predict(input_data_reshaped)\n",
    "print(prediction)"
   ]
  },
  {
   "cell_type": "code",
   "execution_count": 73,
   "id": "d87c14d7",
   "metadata": {},
   "outputs": [
    {
     "name": "stdout",
     "output_type": "stream",
     "text": [
      "1/1 [==============================] - 0s 32ms/step\n",
      "[[0.]]\n"
     ]
    }
   ],
   "source": [
    "input_data=(500,1,1,30,2,500,1,1,0,50000)\n",
    "\n",
    "# changing input data to numpy array\n",
    "input_data_as_numpy_array=np.asarray(input_data)\n",
    "\n",
    "# Reshaping the array\n",
    "input_data_reshaped= input_data_as_numpy_array.reshape(1,-1)\n",
    "\n",
    "prediction=model.predict(input_data_reshaped)\n",
    "print(prediction)"
   ]
  },
  {
   "cell_type": "code",
   "execution_count": null,
   "id": "c7f17afc",
   "metadata": {},
   "outputs": [],
   "source": []
  }
 ],
 "metadata": {
  "kernelspec": {
   "display_name": "Python 3 (ipykernel)",
   "language": "python",
   "name": "python3"
  },
  "language_info": {
   "codemirror_mode": {
    "name": "ipython",
    "version": 3
   },
   "file_extension": ".py",
   "mimetype": "text/x-python",
   "name": "python",
   "nbconvert_exporter": "python",
   "pygments_lexer": "ipython3",
   "version": "3.10.0"
  }
 },
 "nbformat": 4,
 "nbformat_minor": 5
}
