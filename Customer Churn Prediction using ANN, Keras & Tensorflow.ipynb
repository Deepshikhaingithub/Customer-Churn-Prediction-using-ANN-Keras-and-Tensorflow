{
 "cells": [
  {
   "cell_type": "markdown",
   "id": "3bc56165",
   "metadata": {},
   "source": [
    "### Customer Churn Prediction"
   ]
  },
  {
   "cell_type": "markdown",
   "id": "5b0feb56",
   "metadata": {},
   "source": [
    "### Project Overview:\n",
    "This project aims to develop a predictive model that can effectively identify customers who are likely to exit a multinational bank operating in France, Spain, and Germany. Customer churn, the act of customers leaving the bank, is a critical concern for financial institutions. Understanding and predicting churn can help the bank take proactive measures to retain valuable customers, thereby reducing revenue loss and maintaining a competitive edge in the market."
   ]
  },
  {
   "cell_type": "markdown",
   "id": "74e2c190",
   "metadata": {},
   "source": [
    "##### Data Description:\n",
    "The dataset contains the following columns:\n",
    "\n",
    "RowNumber: A unique identifier for each row.\n",
    "\n",
    "CustomerId: A unique identifier for each customer.\n",
    "\n",
    "Surname: The surname of the customer.\n",
    "\n",
    "CreditScore: The credit score of the customer.\n",
    "\n",
    "Geography: The country in which the customer resides (France, Spain, or Germany).\n",
    "\n",
    "Gender: The gender of the customer (Male or Female).\n",
    "\n",
    "Age: The age of the customer.\n",
    "\n",
    "Tenure: The number of years the customer has been with the bank.\n",
    "\n",
    "Balance: The account balance of the customer.\n",
    "\n",
    "NumOfProducts: The number of bank products the customer uses.\n",
    "\n",
    "HasCrCard: Whether the customer has a credit card (1 for yes, 0 for no).\n",
    "\n",
    "IsActiveMember: Whether the customer is an active member (1 for yes, 0 for no).\n",
    "\n",
    "EstimatedSalary: The estimated salary of the customer.\n",
    "\n",
    "Exited: The target variable, indicating whether the customer has exited the bank (1 for yes, 0 for no).mm"
   ]
  },
  {
   "cell_type": "code",
   "execution_count": 1,
   "id": "432da320",
   "metadata": {},
   "outputs": [],
   "source": [
    "import pandas as pd\n",
    "import numpy as np\n",
    "import matplotlib.pyplot as plt\n",
    "%matplotlib inline\n",
    "import seaborn as sns"
   ]
  },
  {
   "cell_type": "code",
   "execution_count": 2,
   "id": "0813a3e3",
   "metadata": {},
   "outputs": [],
   "source": [
    "# Importing the dataset\n",
    "\n",
    "df=pd.read_csv(\"Churn_Modelling.csv\")"
   ]
  },
  {
   "cell_type": "code",
   "execution_count": 3,
   "id": "05706bfc",
   "metadata": {},
   "outputs": [
    {
     "data": {
      "text/html": [
       "<div>\n",
       "<style scoped>\n",
       "    .dataframe tbody tr th:only-of-type {\n",
       "        vertical-align: middle;\n",
       "    }\n",
       "\n",
       "    .dataframe tbody tr th {\n",
       "        vertical-align: top;\n",
       "    }\n",
       "\n",
       "    .dataframe thead th {\n",
       "        text-align: right;\n",
       "    }\n",
       "</style>\n",
       "<table border=\"1\" class=\"dataframe\">\n",
       "  <thead>\n",
       "    <tr style=\"text-align: right;\">\n",
       "      <th></th>\n",
       "      <th>RowNumber</th>\n",
       "      <th>CustomerId</th>\n",
       "      <th>Surname</th>\n",
       "      <th>CreditScore</th>\n",
       "      <th>Geography</th>\n",
       "      <th>Gender</th>\n",
       "      <th>Age</th>\n",
       "      <th>Tenure</th>\n",
       "      <th>Balance</th>\n",
       "      <th>NumOfProducts</th>\n",
       "      <th>HasCrCard</th>\n",
       "      <th>IsActiveMember</th>\n",
       "      <th>EstimatedSalary</th>\n",
       "      <th>Exited</th>\n",
       "    </tr>\n",
       "  </thead>\n",
       "  <tbody>\n",
       "    <tr>\n",
       "      <th>0</th>\n",
       "      <td>1</td>\n",
       "      <td>15634602</td>\n",
       "      <td>Hargrave</td>\n",
       "      <td>619</td>\n",
       "      <td>France</td>\n",
       "      <td>Female</td>\n",
       "      <td>42</td>\n",
       "      <td>2</td>\n",
       "      <td>0.00</td>\n",
       "      <td>1</td>\n",
       "      <td>1</td>\n",
       "      <td>1</td>\n",
       "      <td>101348.88</td>\n",
       "      <td>1</td>\n",
       "    </tr>\n",
       "    <tr>\n",
       "      <th>1</th>\n",
       "      <td>2</td>\n",
       "      <td>15647311</td>\n",
       "      <td>Hill</td>\n",
       "      <td>608</td>\n",
       "      <td>Spain</td>\n",
       "      <td>Female</td>\n",
       "      <td>41</td>\n",
       "      <td>1</td>\n",
       "      <td>83807.86</td>\n",
       "      <td>1</td>\n",
       "      <td>0</td>\n",
       "      <td>1</td>\n",
       "      <td>112542.58</td>\n",
       "      <td>0</td>\n",
       "    </tr>\n",
       "    <tr>\n",
       "      <th>2</th>\n",
       "      <td>3</td>\n",
       "      <td>15619304</td>\n",
       "      <td>Onio</td>\n",
       "      <td>502</td>\n",
       "      <td>France</td>\n",
       "      <td>Female</td>\n",
       "      <td>42</td>\n",
       "      <td>8</td>\n",
       "      <td>159660.80</td>\n",
       "      <td>3</td>\n",
       "      <td>1</td>\n",
       "      <td>0</td>\n",
       "      <td>113931.57</td>\n",
       "      <td>1</td>\n",
       "    </tr>\n",
       "    <tr>\n",
       "      <th>3</th>\n",
       "      <td>4</td>\n",
       "      <td>15701354</td>\n",
       "      <td>Boni</td>\n",
       "      <td>699</td>\n",
       "      <td>France</td>\n",
       "      <td>Female</td>\n",
       "      <td>39</td>\n",
       "      <td>1</td>\n",
       "      <td>0.00</td>\n",
       "      <td>2</td>\n",
       "      <td>0</td>\n",
       "      <td>0</td>\n",
       "      <td>93826.63</td>\n",
       "      <td>0</td>\n",
       "    </tr>\n",
       "    <tr>\n",
       "      <th>4</th>\n",
       "      <td>5</td>\n",
       "      <td>15737888</td>\n",
       "      <td>Mitchell</td>\n",
       "      <td>850</td>\n",
       "      <td>Spain</td>\n",
       "      <td>Female</td>\n",
       "      <td>43</td>\n",
       "      <td>2</td>\n",
       "      <td>125510.82</td>\n",
       "      <td>1</td>\n",
       "      <td>1</td>\n",
       "      <td>1</td>\n",
       "      <td>79084.10</td>\n",
       "      <td>0</td>\n",
       "    </tr>\n",
       "  </tbody>\n",
       "</table>\n",
       "</div>"
      ],
      "text/plain": [
       "   RowNumber  CustomerId   Surname  CreditScore Geography  Gender  Age  \\\n",
       "0          1    15634602  Hargrave          619    France  Female   42   \n",
       "1          2    15647311      Hill          608     Spain  Female   41   \n",
       "2          3    15619304      Onio          502    France  Female   42   \n",
       "3          4    15701354      Boni          699    France  Female   39   \n",
       "4          5    15737888  Mitchell          850     Spain  Female   43   \n",
       "\n",
       "   Tenure    Balance  NumOfProducts  HasCrCard  IsActiveMember  \\\n",
       "0       2       0.00              1          1               1   \n",
       "1       1   83807.86              1          0               1   \n",
       "2       8  159660.80              3          1               0   \n",
       "3       1       0.00              2          0               0   \n",
       "4       2  125510.82              1          1               1   \n",
       "\n",
       "   EstimatedSalary  Exited  \n",
       "0        101348.88       1  \n",
       "1        112542.58       0  \n",
       "2        113931.57       1  \n",
       "3         93826.63       0  \n",
       "4         79084.10       0  "
      ]
     },
     "execution_count": 3,
     "metadata": {},
     "output_type": "execute_result"
    }
   ],
   "source": [
    "df.head()"
   ]
  },
  {
   "cell_type": "code",
   "execution_count": 4,
   "id": "26f813cd",
   "metadata": {},
   "outputs": [
    {
     "data": {
      "text/plain": [
       "(10000, 14)"
      ]
     },
     "execution_count": 4,
     "metadata": {},
     "output_type": "execute_result"
    }
   ],
   "source": [
    "df.shape"
   ]
  },
  {
   "cell_type": "code",
   "execution_count": 5,
   "id": "a66b879f",
   "metadata": {},
   "outputs": [
    {
     "name": "stdout",
     "output_type": "stream",
     "text": [
      "<class 'pandas.core.frame.DataFrame'>\n",
      "RangeIndex: 10000 entries, 0 to 9999\n",
      "Data columns (total 14 columns):\n",
      " #   Column           Non-Null Count  Dtype  \n",
      "---  ------           --------------  -----  \n",
      " 0   RowNumber        10000 non-null  int64  \n",
      " 1   CustomerId       10000 non-null  int64  \n",
      " 2   Surname          10000 non-null  object \n",
      " 3   CreditScore      10000 non-null  int64  \n",
      " 4   Geography        10000 non-null  object \n",
      " 5   Gender           10000 non-null  object \n",
      " 6   Age              10000 non-null  int64  \n",
      " 7   Tenure           10000 non-null  int64  \n",
      " 8   Balance          10000 non-null  float64\n",
      " 9   NumOfProducts    10000 non-null  int64  \n",
      " 10  HasCrCard        10000 non-null  int64  \n",
      " 11  IsActiveMember   10000 non-null  int64  \n",
      " 12  EstimatedSalary  10000 non-null  float64\n",
      " 13  Exited           10000 non-null  int64  \n",
      "dtypes: float64(2), int64(9), object(3)\n",
      "memory usage: 1.1+ MB\n"
     ]
    }
   ],
   "source": [
    "df.info()"
   ]
  },
  {
   "cell_type": "code",
   "execution_count": 6,
   "id": "afdbacb3",
   "metadata": {},
   "outputs": [],
   "source": [
    "# From above, it can be seen tat there are no missing value in the dataset"
   ]
  },
  {
   "cell_type": "code",
   "execution_count": 7,
   "id": "ac06def9",
   "metadata": {},
   "outputs": [
    {
     "data": {
      "text/html": [
       "<div>\n",
       "<style scoped>\n",
       "    .dataframe tbody tr th:only-of-type {\n",
       "        vertical-align: middle;\n",
       "    }\n",
       "\n",
       "    .dataframe tbody tr th {\n",
       "        vertical-align: top;\n",
       "    }\n",
       "\n",
       "    .dataframe thead th {\n",
       "        text-align: right;\n",
       "    }\n",
       "</style>\n",
       "<table border=\"1\" class=\"dataframe\">\n",
       "  <thead>\n",
       "    <tr style=\"text-align: right;\">\n",
       "      <th></th>\n",
       "      <th>RowNumber</th>\n",
       "      <th>CustomerId</th>\n",
       "      <th>CreditScore</th>\n",
       "      <th>Age</th>\n",
       "      <th>Tenure</th>\n",
       "      <th>Balance</th>\n",
       "      <th>NumOfProducts</th>\n",
       "      <th>HasCrCard</th>\n",
       "      <th>IsActiveMember</th>\n",
       "      <th>EstimatedSalary</th>\n",
       "      <th>Exited</th>\n",
       "    </tr>\n",
       "  </thead>\n",
       "  <tbody>\n",
       "    <tr>\n",
       "      <th>count</th>\n",
       "      <td>10000.00000</td>\n",
       "      <td>1.000000e+04</td>\n",
       "      <td>10000.000000</td>\n",
       "      <td>10000.000000</td>\n",
       "      <td>10000.000000</td>\n",
       "      <td>10000.000000</td>\n",
       "      <td>10000.000000</td>\n",
       "      <td>10000.00000</td>\n",
       "      <td>10000.000000</td>\n",
       "      <td>10000.000000</td>\n",
       "      <td>10000.000000</td>\n",
       "    </tr>\n",
       "    <tr>\n",
       "      <th>mean</th>\n",
       "      <td>5000.50000</td>\n",
       "      <td>1.569094e+07</td>\n",
       "      <td>650.528800</td>\n",
       "      <td>38.921800</td>\n",
       "      <td>5.012800</td>\n",
       "      <td>76485.889288</td>\n",
       "      <td>1.530200</td>\n",
       "      <td>0.70550</td>\n",
       "      <td>0.515100</td>\n",
       "      <td>100090.239881</td>\n",
       "      <td>0.203700</td>\n",
       "    </tr>\n",
       "    <tr>\n",
       "      <th>std</th>\n",
       "      <td>2886.89568</td>\n",
       "      <td>7.193619e+04</td>\n",
       "      <td>96.653299</td>\n",
       "      <td>10.487806</td>\n",
       "      <td>2.892174</td>\n",
       "      <td>62397.405202</td>\n",
       "      <td>0.581654</td>\n",
       "      <td>0.45584</td>\n",
       "      <td>0.499797</td>\n",
       "      <td>57510.492818</td>\n",
       "      <td>0.402769</td>\n",
       "    </tr>\n",
       "    <tr>\n",
       "      <th>min</th>\n",
       "      <td>1.00000</td>\n",
       "      <td>1.556570e+07</td>\n",
       "      <td>350.000000</td>\n",
       "      <td>18.000000</td>\n",
       "      <td>0.000000</td>\n",
       "      <td>0.000000</td>\n",
       "      <td>1.000000</td>\n",
       "      <td>0.00000</td>\n",
       "      <td>0.000000</td>\n",
       "      <td>11.580000</td>\n",
       "      <td>0.000000</td>\n",
       "    </tr>\n",
       "    <tr>\n",
       "      <th>25%</th>\n",
       "      <td>2500.75000</td>\n",
       "      <td>1.562853e+07</td>\n",
       "      <td>584.000000</td>\n",
       "      <td>32.000000</td>\n",
       "      <td>3.000000</td>\n",
       "      <td>0.000000</td>\n",
       "      <td>1.000000</td>\n",
       "      <td>0.00000</td>\n",
       "      <td>0.000000</td>\n",
       "      <td>51002.110000</td>\n",
       "      <td>0.000000</td>\n",
       "    </tr>\n",
       "    <tr>\n",
       "      <th>50%</th>\n",
       "      <td>5000.50000</td>\n",
       "      <td>1.569074e+07</td>\n",
       "      <td>652.000000</td>\n",
       "      <td>37.000000</td>\n",
       "      <td>5.000000</td>\n",
       "      <td>97198.540000</td>\n",
       "      <td>1.000000</td>\n",
       "      <td>1.00000</td>\n",
       "      <td>1.000000</td>\n",
       "      <td>100193.915000</td>\n",
       "      <td>0.000000</td>\n",
       "    </tr>\n",
       "    <tr>\n",
       "      <th>75%</th>\n",
       "      <td>7500.25000</td>\n",
       "      <td>1.575323e+07</td>\n",
       "      <td>718.000000</td>\n",
       "      <td>44.000000</td>\n",
       "      <td>7.000000</td>\n",
       "      <td>127644.240000</td>\n",
       "      <td>2.000000</td>\n",
       "      <td>1.00000</td>\n",
       "      <td>1.000000</td>\n",
       "      <td>149388.247500</td>\n",
       "      <td>0.000000</td>\n",
       "    </tr>\n",
       "    <tr>\n",
       "      <th>max</th>\n",
       "      <td>10000.00000</td>\n",
       "      <td>1.581569e+07</td>\n",
       "      <td>850.000000</td>\n",
       "      <td>92.000000</td>\n",
       "      <td>10.000000</td>\n",
       "      <td>250898.090000</td>\n",
       "      <td>4.000000</td>\n",
       "      <td>1.00000</td>\n",
       "      <td>1.000000</td>\n",
       "      <td>199992.480000</td>\n",
       "      <td>1.000000</td>\n",
       "    </tr>\n",
       "  </tbody>\n",
       "</table>\n",
       "</div>"
      ],
      "text/plain": [
       "         RowNumber    CustomerId   CreditScore           Age        Tenure  \\\n",
       "count  10000.00000  1.000000e+04  10000.000000  10000.000000  10000.000000   \n",
       "mean    5000.50000  1.569094e+07    650.528800     38.921800      5.012800   \n",
       "std     2886.89568  7.193619e+04     96.653299     10.487806      2.892174   \n",
       "min        1.00000  1.556570e+07    350.000000     18.000000      0.000000   \n",
       "25%     2500.75000  1.562853e+07    584.000000     32.000000      3.000000   \n",
       "50%     5000.50000  1.569074e+07    652.000000     37.000000      5.000000   \n",
       "75%     7500.25000  1.575323e+07    718.000000     44.000000      7.000000   \n",
       "max    10000.00000  1.581569e+07    850.000000     92.000000     10.000000   \n",
       "\n",
       "             Balance  NumOfProducts    HasCrCard  IsActiveMember  \\\n",
       "count   10000.000000   10000.000000  10000.00000    10000.000000   \n",
       "mean    76485.889288       1.530200      0.70550        0.515100   \n",
       "std     62397.405202       0.581654      0.45584        0.499797   \n",
       "min         0.000000       1.000000      0.00000        0.000000   \n",
       "25%         0.000000       1.000000      0.00000        0.000000   \n",
       "50%     97198.540000       1.000000      1.00000        1.000000   \n",
       "75%    127644.240000       2.000000      1.00000        1.000000   \n",
       "max    250898.090000       4.000000      1.00000        1.000000   \n",
       "\n",
       "       EstimatedSalary        Exited  \n",
       "count     10000.000000  10000.000000  \n",
       "mean     100090.239881      0.203700  \n",
       "std       57510.492818      0.402769  \n",
       "min          11.580000      0.000000  \n",
       "25%       51002.110000      0.000000  \n",
       "50%      100193.915000      0.000000  \n",
       "75%      149388.247500      0.000000  \n",
       "max      199992.480000      1.000000  "
      ]
     },
     "execution_count": 7,
     "metadata": {},
     "output_type": "execute_result"
    }
   ],
   "source": [
    "df.describe()"
   ]
  },
  {
   "cell_type": "code",
   "execution_count": 8,
   "id": "143cd835",
   "metadata": {},
   "outputs": [
    {
     "data": {
      "text/plain": [
       "0"
      ]
     },
     "execution_count": 8,
     "metadata": {},
     "output_type": "execute_result"
    }
   ],
   "source": [
    "# Lets check if there is any duplicated row\n",
    "\n",
    "df.duplicated().sum()"
   ]
  },
  {
   "cell_type": "code",
   "execution_count": 9,
   "id": "84202c7b",
   "metadata": {},
   "outputs": [],
   "source": [
    "# from above, it can be seen that there are no duplicate rows"
   ]
  },
  {
   "cell_type": "code",
   "execution_count": 10,
   "id": "e57ea534",
   "metadata": {},
   "outputs": [],
   "source": [
    "# lets check the distribution of the output column. i.e how many customers has exited the bank and how many are still continuing their services with the bank"
   ]
  },
  {
   "cell_type": "code",
   "execution_count": 11,
   "id": "c34514a4",
   "metadata": {},
   "outputs": [
    {
     "data": {
      "text/plain": [
       "Exited\n",
       "0    7963\n",
       "1    2037\n",
       "Name: count, dtype: int64"
      ]
     },
     "execution_count": 11,
     "metadata": {},
     "output_type": "execute_result"
    }
   ],
   "source": [
    "df['Exited'].value_counts()"
   ]
  },
  {
   "cell_type": "code",
   "execution_count": 12,
   "id": "515eef43",
   "metadata": {},
   "outputs": [
    {
     "data": {
      "text/plain": [
       "<Axes: xlabel='Exited'>"
      ]
     },
     "execution_count": 12,
     "metadata": {},
     "output_type": "execute_result"
    },
    {
     "data": {
      "image/png": "[encoded data removed]",
      "text/plain": [
       "<Figure size 640x480 with 1 Axes>"
      ]
     },
     "metadata": {},
     "output_type": "display_data"
    }
   ],
   "source": [
    "# lets plot it \n",
    "df['Exited'].value_counts().plot(kind='bar')"
   ]
  },
  {
   "cell_type": "code",
   "execution_count": 13,
   "id": "e07ce0fa",
   "metadata": {},
   "outputs": [],
   "source": [
    "# From the above, it can be clearly seen that this dataset is highly imbalanced. So, lets balance it using SMOTE.\n",
    "# I shall do it in later stage"
   ]
  },
  {
   "cell_type": "code",
   "execution_count": 14,
   "id": "ec06d2ee",
   "metadata": {},
   "outputs": [
    {
     "data": {
      "text/plain": [
       "Geography\n",
       "France     5014\n",
       "Germany    2509\n",
       "Spain      2477\n",
       "Name: count, dtype: int64"
      ]
     },
     "execution_count": 14,
     "metadata": {},
     "output_type": "execute_result"
    }
   ],
   "source": [
    "# Lets check the distribution of Geography and Gender also\n",
    "\n",
    "df['Geography'].value_counts()"
   ]
  },
  {
   "cell_type": "code",
   "execution_count": 15,
   "id": "5f4e2d6e",
   "metadata": {},
   "outputs": [
    {
     "data": {
      "text/plain": [
       "<Axes: xlabel='Geography'>"
      ]
     },
     "execution_count": 15,
     "metadata": {},
     "output_type": "execute_result"
    },
    {
     "data": {
      "image/png": "[encoded data removed]",
      "text/plain": [
       "<Figure size 640x480 with 1 Axes>"
      ]
     },
     "metadata": {},
     "output_type": "display_data"
    }
   ],
   "source": [
    "df['Geography'].value_counts().plot(kind='bar')"
   ]
  },
  {
   "cell_type": "code",
   "execution_count": 16,
   "id": "3b786555",
   "metadata": {},
   "outputs": [
    {
     "data": {
      "text/plain": [
       "Gender\n",
       "Male      5457\n",
       "Female    4543\n",
       "Name: count, dtype: int64"
      ]
     },
     "execution_count": 16,
     "metadata": {},
     "output_type": "execute_result"
    }
   ],
   "source": [
    "df['Gender'].value_counts()"
   ]
  },
  {
   "cell_type": "code",
   "execution_count": 17,
   "id": "1272cf49",
   "metadata": {},
   "outputs": [
    {
     "data": {
      "text/plain": [
       "<Axes: xlabel='Gender'>"
      ]
     },
     "execution_count": 17,
     "metadata": {},
     "output_type": "execute_result"
    },
    {
     "data": {
      "image/png": "[encoded data removed]",
      "text/plain": [
       "<Figure size 640x480 with 1 Axes>"
      ]
     },
     "metadata": {},
     "output_type": "display_data"
    }
   ],
   "source": [
    "df['Gender'].value_counts().plot(kind='bar')"
   ]
  },
  {
   "cell_type": "code",
   "execution_count": 18,
   "id": "69c80154",
   "metadata": {},
   "outputs": [],
   "source": [
    "# Gender distribution is more or less equal"
   ]
  },
  {
   "cell_type": "code",
   "execution_count": 19,
   "id": "508a0fc1",
   "metadata": {},
   "outputs": [],
   "source": [
    "# now lets take only the required column \n",
    "\n",
    "df.drop(columns=['RowNumber','CustomerId','Surname'],inplace=True)"
   ]
  },
  {
   "cell_type": "code",
   "execution_count": 20,
   "id": "a3756a24",
   "metadata": {},
   "outputs": [
    {
     "data": {
      "text/html": [
       "<div>\n",
       "<style scoped>\n",
       "    .dataframe tbody tr th:only-of-type {\n",
       "        vertical-align: middle;\n",
       "    }\n",
       "\n",
       "    .dataframe tbody tr th {\n",
       "        vertical-align: top;\n",
       "    }\n",
       "\n",
       "    .dataframe thead th {\n",
       "        text-align: right;\n",
       "    }\n",
       "</style>\n",
       "<table border=\"1\" class=\"dataframe\">\n",
       "  <thead>\n",
       "    <tr style=\"text-align: right;\">\n",
       "      <th></th>\n",
       "      <th>CreditScore</th>\n",
       "      <th>Geography</th>\n",
       "      <th>Gender</th>\n",
       "      <th>Age</th>\n",
       "      <th>Tenure</th>\n",
       "      <th>Balance</th>\n",
       "      <th>NumOfProducts</th>\n",
       "      <th>HasCrCard</th>\n",
       "      <th>IsActiveMember</th>\n",
       "      <th>EstimatedSalary</th>\n",
       "      <th>Exited</th>\n",
       "    </tr>\n",
       "  </thead>\n",
       "  <tbody>\n",
       "    <tr>\n",
       "      <th>0</th>\n",
       "      <td>619</td>\n",
       "      <td>France</td>\n",
       "      <td>Female</td>\n",
       "      <td>42</td>\n",
       "      <td>2</td>\n",
       "      <td>0.00</td>\n",
       "      <td>1</td>\n",
       "      <td>1</td>\n",
       "      <td>1</td>\n",
       "      <td>101348.88</td>\n",
       "      <td>1</td>\n",
       "    </tr>\n",
       "    <tr>\n",
       "      <th>1</th>\n",
       "      <td>608</td>\n",
       "      <td>Spain</td>\n",
       "      <td>Female</td>\n",
       "      <td>41</td>\n",
       "      <td>1</td>\n",
       "      <td>83807.86</td>\n",
       "      <td>1</td>\n",
       "      <td>0</td>\n",
       "      <td>1</td>\n",
       "      <td>112542.58</td>\n",
       "      <td>0</td>\n",
       "    </tr>\n",
       "    <tr>\n",
       "      <th>2</th>\n",
       "      <td>502</td>\n",
       "      <td>France</td>\n",
       "      <td>Female</td>\n",
       "      <td>42</td>\n",
       "      <td>8</td>\n",
       "      <td>159660.80</td>\n",
       "      <td>3</td>\n",
       "      <td>1</td>\n",
       "      <td>0</td>\n",
       "      <td>113931.57</td>\n",
       "      <td>1</td>\n",
       "    </tr>\n",
       "    <tr>\n",
       "      <th>3</th>\n",
       "      <td>699</td>\n",
       "      <td>France</td>\n",
       "      <td>Female</td>\n",
       "      <td>39</td>\n",
       "      <td>1</td>\n",
       "      <td>0.00</td>\n",
       "      <td>2</td>\n",
       "      <td>0</td>\n",
       "      <td>0</td>\n",
       "      <td>93826.63</td>\n",
       "      <td>0</td>\n",
       "    </tr>\n",
       "    <tr>\n",
       "      <th>4</th>\n",
       "      <td>850</td>\n",
       "      <td>Spain</td>\n",
       "      <td>Female</td>\n",
       "      <td>43</td>\n",
       "      <td>2</td>\n",
       "      <td>125510.82</td>\n",
       "      <td>1</td>\n",
       "      <td>1</td>\n",
       "      <td>1</td>\n",
       "      <td>79084.10</td>\n",
       "      <td>0</td>\n",
       "    </tr>\n",
       "  </tbody>\n",
       "</table>\n",
       "</div>"
      ],
      "text/plain": [
       "   CreditScore Geography  Gender  Age  Tenure    Balance  NumOfProducts  \\\n",
       "0          619    France  Female   42       2       0.00              1   \n",
       "1          608     Spain  Female   41       1   83807.86              1   \n",
       "2          502    France  Female   42       8  159660.80              3   \n",
       "3          699    France  Female   39       1       0.00              2   \n",
       "4          850     Spain  Female   43       2  125510.82              1   \n",
       "\n",
       "   HasCrCard  IsActiveMember  EstimatedSalary  Exited  \n",
       "0          1               1        101348.88       1  \n",
       "1          0               1        112542.58       0  \n",
       "2          1               0        113931.57       1  \n",
       "3          0               0         93826.63       0  \n",
       "4          1               1         79084.10       0  "
      ]
     },
     "execution_count": 20,
     "metadata": {},
     "output_type": "execute_result"
    }
   ],
   "source": [
    "df.head()"
   ]
  },
  {
   "cell_type": "code",
   "execution_count": 21,
   "id": "1eeba303",
   "metadata": {},
   "outputs": [],
   "source": [
    "# Lets convert the categorical column to numerical\n",
    "\n",
    "df['Geography']=pd.factorize(df['Geography'])[0]"
   ]
  },
  {
   "cell_type": "code",
   "execution_count": 22,
   "id": "6bf57ad8",
   "metadata": {},
   "outputs": [],
   "source": [
    "df['Gender']=pd.factorize(df['Gender'])[0]"
   ]
  },
  {
   "cell_type": "code",
   "execution_count": 23,
   "id": "0e6e9d9c",
   "metadata": {},
   "outputs": [
    {
     "name": "stdout",
     "output_type": "stream",
     "text": [
      "<class 'pandas.core.frame.DataFrame'>\n",
      "RangeIndex: 10000 entries, 0 to 9999\n",
      "Data columns (total 11 columns):\n",
      " #   Column           Non-Null Count  Dtype  \n",
      "---  ------           --------------  -----  \n",
      " 0   CreditScore      10000 non-null  int64  \n",
      " 1   Geography        10000 non-null  int64  \n",
      " 2   Gender           10000 non-null  int64  \n",
      " 3   Age              10000 non-null  int64  \n",
      " 4   Tenure           10000 non-null  int64  \n",
      " 5   Balance          10000 non-null  float64\n",
      " 6   NumOfProducts    10000 non-null  int64  \n",
      " 7   HasCrCard        10000 non-null  int64  \n",
      " 8   IsActiveMember   10000 non-null  int64  \n",
      " 9   EstimatedSalary  10000 non-null  float64\n",
      " 10  Exited           10000 non-null  int64  \n",
      "dtypes: float64(2), int64(9)\n",
      "memory usage: 859.5 KB\n"
     ]
    }
   ],
   "source": [
    "df.info()"
   ]
  },
  {
   "cell_type": "code",
   "execution_count": 24,
   "id": "eea0d12b",
   "metadata": {},
   "outputs": [
    {
     "data": {
      "text/plain": [
       "(10000, 11)"
      ]
     },
     "execution_count": 24,
     "metadata": {},
     "output_type": "execute_result"
    }
   ],
   "source": [
    "df.shape"
   ]
  },
  {
   "cell_type": "code",
   "execution_count": 25,
   "id": "25c3ecd5",
   "metadata": {},
   "outputs": [],
   "source": [
    "X=df.iloc[:, 0:-1]\n",
    "y=df.iloc[:, -1]"
   ]
  },
  {
   "cell_type": "code",
   "execution_count": 26,
   "id": "ba7a6356",
   "metadata": {},
   "outputs": [
    {
     "data": {
      "text/html": [
       "<div>\n",
       "<style scoped>\n",
       "    .dataframe tbody tr th:only-of-type {\n",
       "        vertical-align: middle;\n",
       "    }\n",
       "\n",
       "    .dataframe tbody tr th {\n",
       "        vertical-align: top;\n",
       "    }\n",
       "\n",
       "    .dataframe thead th {\n",
       "        text-align: right;\n",
       "    }\n",
       "</style>\n",
       "<table border=\"1\" class=\"dataframe\">\n",
       "  <thead>\n",
       "    <tr style=\"text-align: right;\">\n",
       "      <th></th>\n",
       "      <th>CreditScore</th>\n",
       "      <th>Geography</th>\n",
       "      <th>Gender</th>\n",
       "      <th>Age</th>\n",
       "      <th>Tenure</th>\n",
       "      <th>Balance</th>\n",
       "      <th>NumOfProducts</th>\n",
       "      <th>HasCrCard</th>\n",
       "      <th>IsActiveMember</th>\n",
       "      <th>EstimatedSalary</th>\n",
       "    </tr>\n",
       "  </thead>\n",
       "  <tbody>\n",
       "    <tr>\n",
       "      <th>0</th>\n",
       "      <td>619</td>\n",
       "      <td>0</td>\n",
       "      <td>0</td>\n",
       "      <td>42</td>\n",
       "      <td>2</td>\n",
       "      <td>0.00</td>\n",
       "      <td>1</td>\n",
       "      <td>1</td>\n",
       "      <td>1</td>\n",
       "      <td>101348.88</td>\n",
       "    </tr>\n",
       "    <tr>\n",
       "      <th>1</th>\n",
       "      <td>608</td>\n",
       "      <td>1</td>\n",
       "      <td>0</td>\n",
       "      <td>41</td>\n",
       "      <td>1</td>\n",
       "      <td>83807.86</td>\n",
       "      <td>1</td>\n",
       "      <td>0</td>\n",
       "      <td>1</td>\n",
       "      <td>112542.58</td>\n",
       "    </tr>\n",
       "    <tr>\n",
       "      <th>2</th>\n",
       "      <td>502</td>\n",
       "      <td>0</td>\n",
       "      <td>0</td>\n",
       "      <td>42</td>\n",
       "      <td>8</td>\n",
       "      <td>159660.80</td>\n",
       "      <td>3</td>\n",
       "      <td>1</td>\n",
       "      <td>0</td>\n",
       "      <td>113931.57</td>\n",
       "    </tr>\n",
       "    <tr>\n",
       "      <th>3</th>\n",
       "      <td>699</td>\n",
       "      <td>0</td>\n",
       "      <td>0</td>\n",
       "      <td>39</td>\n",
       "      <td>1</td>\n",
       "      <td>0.00</td>\n",
       "      <td>2</td>\n",
       "      <td>0</td>\n",
       "      <td>0</td>\n",
       "      <td>93826.63</td>\n",
       "    </tr>\n",
       "    <tr>\n",
       "      <th>4</th>\n",
       "      <td>850</td>\n",
       "      <td>1</td>\n",
       "      <td>0</td>\n",
       "      <td>43</td>\n",
       "      <td>2</td>\n",
       "      <td>125510.82</td>\n",
       "      <td>1</td>\n",
       "      <td>1</td>\n",
       "      <td>1</td>\n",
       "      <td>79084.10</td>\n",
       "    </tr>\n",
       "    <tr>\n",
       "      <th>...</th>\n",
       "      <td>...</td>\n",
       "      <td>...</td>\n",
       "      <td>...</td>\n",
       "      <td>...</td>\n",
       "      <td>...</td>\n",
       "      <td>...</td>\n",
       "      <td>...</td>\n",
       "      <td>...</td>\n",
       "      <td>...</td>\n",
       "      <td>...</td>\n",
       "    </tr>\n",
       "    <tr>\n",
       "      <th>9995</th>\n",
       "      <td>771</td>\n",
       "      <td>0</td>\n",
       "      <td>1</td>\n",
       "      <td>39</td>\n",
       "      <td>5</td>\n",
       "      <td>0.00</td>\n",
       "      <td>2</td>\n",
       "      <td>1</td>\n",
       "      <td>0</td>\n",
       "      <td>96270.64</td>\n",
       "    </tr>\n",
       "    <tr>\n",
       "      <th>9996</th>\n",
       "      <td>516</td>\n",
       "      <td>0</td>\n",
       "      <td>1</td>\n",
       "      <td>35</td>\n",
       "      <td>10</td>\n",
       "      <td>57369.61</td>\n",
       "      <td>1</td>\n",
       "      <td>1</td>\n",
       "      <td>1</td>\n",
       "      <td>101699.77</td>\n",
       "    </tr>\n",
       "    <tr>\n",
       "      <th>9997</th>\n",
       "      <td>709</td>\n",
       "      <td>0</td>\n",
       "      <td>0</td>\n",
       "      <td>36</td>\n",
       "      <td>7</td>\n",
       "      <td>0.00</td>\n",
       "      <td>1</td>\n",
       "      <td>0</td>\n",
       "      <td>1</td>\n",
       "      <td>42085.58</td>\n",
       "    </tr>\n",
       "    <tr>\n",
       "      <th>9998</th>\n",
       "      <td>772</td>\n",
       "      <td>2</td>\n",
       "      <td>1</td>\n",
       "      <td>42</td>\n",
       "      <td>3</td>\n",
       "      <td>75075.31</td>\n",
       "      <td>2</td>\n",
       "      <td>1</td>\n",
       "      <td>0</td>\n",
       "      <td>92888.52</td>\n",
       "    </tr>\n",
       "    <tr>\n",
       "      <th>9999</th>\n",
       "      <td>792</td>\n",
       "      <td>0</td>\n",
       "      <td>0</td>\n",
       "      <td>28</td>\n",
       "      <td>4</td>\n",
       "      <td>130142.79</td>\n",
       "      <td>1</td>\n",
       "      <td>1</td>\n",
       "      <td>0</td>\n",
       "      <td>38190.78</td>\n",
       "    </tr>\n",
       "  </tbody>\n",
       "</table>\n",
       "<p>10000 rows × 10 columns</p>\n",
       "</div>"
      ],
      "text/plain": [
       "      CreditScore  Geography  Gender  Age  Tenure    Balance  NumOfProducts  \\\n",
       "0             619          0       0   42       2       0.00              1   \n",
       "1             608          1       0   41       1   83807.86              1   \n",
       "2             502          0       0   42       8  159660.80              3   \n",
       "3             699          0       0   39       1       0.00              2   \n",
       "4             850          1       0   43       2  125510.82              1   \n",
       "...           ...        ...     ...  ...     ...        ...            ...   \n",
       "9995          771          0       1   39       5       0.00              2   \n",
       "9996          516          0       1   35      10   57369.61              1   \n",
       "9997          709          0       0   36       7       0.00              1   \n",
       "9998          772          2       1   42       3   75075.31              2   \n",
       "9999          792          0       0   28       4  130142.79              1   \n",
       "\n",
       "      HasCrCard  IsActiveMember  EstimatedSalary  \n",
       "0             1               1        101348.88  \n",
       "1             0               1        112542.58  \n",
       "2             1               0        113931.57  \n",
       "3             0               0         93826.63  \n",
       "4             1               1         79084.10  \n",
       "...         ...             ...              ...  \n",
       "9995          1               0         96270.64  \n",
       "9996          1               1        101699.77  \n",
       "9997          0               1         42085.58  \n",
       "9998          1               0         92888.52  \n",
       "9999          1               0         38190.78  \n",
       "\n",
       "[10000 rows x 10 columns]"
      ]
     },
     "execution_count": 26,
     "metadata": {},
     "output_type": "execute_result"
    }
   ],
   "source": [
    "X"
   ]
  },
  {
   "cell_type": "code",
   "execution_count": 27,
   "id": "7b08d41a",
   "metadata": {},
   "outputs": [
    {
     "data": {
      "text/plain": [
       "0       1\n",
       "1       0\n",
       "2       1\n",
       "3       0\n",
       "4       0\n",
       "       ..\n",
       "9995    0\n",
       "9996    0\n",
       "9997    1\n",
       "9998    1\n",
       "9999    0\n",
       "Name: Exited, Length: 10000, dtype: int64"
      ]
     },
     "execution_count": 27,
     "metadata": {},
     "output_type": "execute_result"
    }
   ],
   "source": [
    "y"
   ]
  },
  {
   "cell_type": "code",
   "execution_count": 28,
   "id": "19b8c33a",
   "metadata": {},
   "outputs": [],
   "source": [
    "# Now lets balance the dataset using SMOTE"
   ]
  },
  {
   "cell_type": "code",
   "execution_count": 29,
   "id": "206f9c17",
   "metadata": {},
   "outputs": [
    {
     "name": "stdout",
     "output_type": "stream",
     "text": [
      "Requirement already satisfied: imbalanced-learn in c:\\users\\lenovo\\anaconda3\\lib\\site-packages (0.11.0)\n",
      "Requirement already satisfied: numpy>=1.17.3 in c:\\users\\lenovo\\anaconda3\\lib\\site-packages (from imbalanced-learn) (1.24.3)\n",
      "Requirement already satisfied: scipy>=1.5.0 in c:\\users\\lenovo\\anaconda3\\lib\\site-packages (from imbalanced-learn) (1.11.1)\n",
      "Requirement already satisfied: scikit-learn>=1.0.2 in c:\\users\\lenovo\\anaconda3\\lib\\site-packages (from imbalanced-learn) (1.3.0)\n",
      "Requirement already satisfied: joblib>=1.1.1 in c:\\users\\lenovo\\anaconda3\\lib\\site-packages (from imbalanced-learn) (1.2.0)\n",
      "Requirement already satisfied: threadpoolctl>=2.0.0 in c:\\users\\lenovo\\anaconda3\\lib\\site-packages (from imbalanced-learn) (2.2.0)\n",
      "Note: you may need to restart the kernel to use updated packages.\n"
     ]
    }
   ],
   "source": [
    "pip install -U imbalanced-learn"
   ]
  },
  {
   "cell_type": "code",
   "execution_count": 30,
   "id": "d5b5b3a9",
   "metadata": {},
   "outputs": [],
   "source": [
    "from imblearn.over_sampling import SMOTE"
   ]
  },
  {
   "cell_type": "code",
   "execution_count": 31,
   "id": "d975fbd1",
   "metadata": {},
   "outputs": [],
   "source": [
    "smote=SMOTE()"
   ]
  },
  {
   "cell_type": "code",
   "execution_count": 32,
   "id": "c18730a4",
   "metadata": {},
   "outputs": [],
   "source": [
    "X_resampled,y_resampled=smote.fit_resample(X,y)"
   ]
  },
  {
   "cell_type": "code",
   "execution_count": 33,
   "id": "70002fb2",
   "metadata": {},
   "outputs": [
    {
     "data": {
      "text/plain": [
       "<Axes: xlabel='Exited'>"
      ]
     },
     "execution_count": 33,
     "metadata": {},
     "output_type": "execute_result"
    },
    {
     "data": {
      "image/png": "[encoded data removed]",
      "text/plain": [
       "<Figure size 640x480 with 1 Axes>"
      ]
     },
     "metadata": {},
     "output_type": "display_data"
    }
   ],
   "source": [
    "y_resampled.value_counts().plot(kind='bar')"
   ]
  },
  {
   "cell_type": "code",
   "execution_count": 34,
   "id": "6b5c061b",
   "metadata": {},
   "outputs": [],
   "source": [
    "# I have resamled and balanced the dataset."
   ]
  },
  {
   "cell_type": "code",
   "execution_count": 35,
   "id": "ad4b9174",
   "metadata": {},
   "outputs": [],
   "source": [
    "# Lets split the data for training and building model using ANN"
   ]
  },
  {
   "cell_type": "code",
   "execution_count": 36,
   "id": "449b44aa",
   "metadata": {},
   "outputs": [],
   "source": [
    "from sklearn.model_selection import train_test_split"
   ]
  },
  {
   "cell_type": "code",
   "execution_count": 37,
   "id": "cda3fa4b",
   "metadata": {},
   "outputs": [],
   "source": [
    "X_resampled_train,X_resampled_test,y_resampled_train,y_resampled_test=train_test_split(X_resampled,y_resampled,test_size=0.2,random_state=1)"
   ]
  },
  {
   "cell_type": "code",
   "execution_count": 38,
   "id": "a15bf18e",
   "metadata": {},
   "outputs": [
    {
     "name": "stdout",
     "output_type": "stream",
     "text": [
      "(12740, 10) (12740,)\n",
      "(3186, 10) (3186,)\n"
     ]
    }
   ],
   "source": [
    "print(X_resampled_train.shape, y_resampled_train.shape)\n",
    "print(X_resampled_test.shape, y_resampled_test.shape)"
   ]
  },
  {
   "cell_type": "code",
   "execution_count": 39,
   "id": "90cff0b7",
   "metadata": {},
   "outputs": [],
   "source": [
    "# Since it is recommended to scale the values before building model using ANN (since if values are very far apart, the weights will not get converged easily)"
   ]
  },
  {
   "cell_type": "code",
   "execution_count": 40,
   "id": "6a0f9eb3",
   "metadata": {},
   "outputs": [],
   "source": [
    "from sklearn.preprocessing import StandardScaler"
   ]
  },
  {
   "cell_type": "code",
   "execution_count": 41,
   "id": "aa407aa7",
   "metadata": {},
   "outputs": [],
   "source": [
    "scaler=StandardScaler()"
   ]
  },
  {
   "cell_type": "code",
   "execution_count": 42,
   "id": "c0f6999e",
   "metadata": {},
   "outputs": [],
   "source": [
    "X_resampled_train_scaled=scaler.fit_transform(X_resampled_train)"
   ]
  },
  {
   "cell_type": "code",
   "execution_count": 43,
   "id": "b295d9ab",
   "metadata": {},
   "outputs": [],
   "source": [
    "X_resampled_test_scaled=scaler.fit_transform(X_resampled_test)"
   ]
  },
  {
   "cell_type": "code",
   "execution_count": 44,
   "id": "ec9b80ae",
   "metadata": {},
   "outputs": [
    {
     "data": {
      "text/plain": [
       "array([[ 0.42634373,  0.29910675,  1.18213397, ...,  0.77531022,\n",
       "         1.29131878, -0.43543378],\n",
       "       [-1.90653899,  1.50309413, -0.84592781, ...,  0.77531022,\n",
       "         1.29131878, -0.48985641],\n",
       "       [ 0.76587126,  0.29910675,  1.18213397, ..., -1.28980628,\n",
       "        -0.77440212,  1.2810106 ],\n",
       "       ...,\n",
       "       [-0.9427189 ,  0.29910675, -0.84592781, ...,  0.77531022,\n",
       "        -0.77440212, -1.69883633],\n",
       "       [ 1.26968631,  1.50309413,  1.18213397, ...,  0.77531022,\n",
       "        -0.77440212, -1.17654606],\n",
       "       [-2.20225652, -0.90488062, -0.84592781, ..., -1.28980628,\n",
       "        -0.77440212, -0.59508289]])"
      ]
     },
     "execution_count": 44,
     "metadata": {},
     "output_type": "execute_result"
    }
   ],
   "source": [
    "X_resampled_train_scaled"
   ]
  },
  {
   "cell_type": "code",
   "execution_count": 45,
   "id": "1985342c",
   "metadata": {},
   "outputs": [],
   "source": [
    "# pip install tensorflow"
   ]
  },
  {
   "cell_type": "code",
   "execution_count": 46,
   "id": "4d329f40",
   "metadata": {},
   "outputs": [
    {
     "name": "stdout",
     "output_type": "stream",
     "text": [
      "WARNING:tensorflow:From C:\\Users\\Lenovo\\anaconda3\\Lib\\site-packages\\keras\\src\\losses.py:2976: The name tf.losses.sparse_softmax_cross_entropy is deprecated. Please use tf.compat.v1.losses.sparse_softmax_cross_entropy instead.\n",
      "\n"
     ]
    }
   ],
   "source": [
    "import tensorflow"
   ]
  },
  {
   "cell_type": "code",
   "execution_count": 47,
   "id": "a8755c40",
   "metadata": {},
   "outputs": [],
   "source": [
    "from tensorflow import keras\n",
    "from tensorflow.keras import Sequential\n",
    "from tensorflow.keras.layers import Dense"
   ]
  },
  {
   "cell_type": "code",
   "execution_count": 48,
   "id": "d1ace696",
   "metadata": {},
   "outputs": [
    {
     "name": "stdout",
     "output_type": "stream",
     "text": [
      "WARNING:tensorflow:From C:\\Users\\Lenovo\\anaconda3\\Lib\\site-packages\\keras\\src\\backend.py:873: The name tf.get_default_graph is deprecated. Please use tf.compat.v1.get_default_graph instead.\n",
      "\n"
     ]
    }
   ],
   "source": [
    "model=Sequential()\n",
    "\n",
    "model.add(Dense(12,input_dim=10,activation='relu'))      # 1st Hidden layer    \n",
    "model.add(Dense(10,activation='relu'))                    # 2nd Hidden layer\n",
    "model.add(Dense(1, activation='sigmoid'))                  # Output layer"
   ]
  },
  {
   "cell_type": "code",
   "execution_count": 49,
   "id": "f3537d3e",
   "metadata": {},
   "outputs": [
    {
     "name": "stdout",
     "output_type": "stream",
     "text": [
      "Model: \"sequential\"\n",
      "_________________________________________________________________\n",
      " Layer (type)                Output Shape              Param #   \n",
      "=================================================================\n",
      " dense (Dense)               (None, 12)                132       \n",
      "                                                                 \n",
      " dense_1 (Dense)             (None, 10)                130       \n",
      "                                                                 \n",
      " dense_2 (Dense)             (None, 1)                 11        \n",
      "                                                                 \n",
      "=================================================================\n",
      "Total params: 273 (1.07 KB)\n",
      "Trainable params: 273 (1.07 KB)\n",
      "Non-trainable params: 0 (0.00 Byte)\n",
      "_________________________________________________________________\n"
     ]
    }
   ],
   "source": [
    "model.summary()"
   ]
  },
  {
   "cell_type": "code",
   "execution_count": 50,
   "id": "390b5b6b",
   "metadata": {},
   "outputs": [],
   "source": [
    "# From above it can be seen that there are total 273 parameters which consist of weights and biases.\n",
    "# So, when the Neural network model is trained, it will find the values of all 273 parameters for further prediction."
   ]
  },
  {
   "cell_type": "code",
   "execution_count": 51,
   "id": "b06f862f",
   "metadata": {},
   "outputs": [
    {
     "name": "stdout",
     "output_type": "stream",
     "text": [
      "WARNING:tensorflow:From C:\\Users\\Lenovo\\anaconda3\\Lib\\site-packages\\keras\\src\\optimizers\\__init__.py:309: The name tf.train.Optimizer is deprecated. Please use tf.compat.v1.train.Optimizer instead.\n",
      "\n"
     ]
    }
   ],
   "source": [
    "# Now lets compile the model\n",
    "\n",
    "model.compile(loss=\"binary_crossentropy\", optimizer='adam', metrics=['accuracy'])"
   ]
  },
  {
   "cell_type": "code",
   "execution_count": 52,
   "id": "ec25df32",
   "metadata": {},
   "outputs": [
    {
     "name": "stdout",
     "output_type": "stream",
     "text": [
      "Epoch 1/150\n",
      "WARNING:tensorflow:From C:\\Users\\Lenovo\\anaconda3\\Lib\\site-packages\\keras\\src\\utils\\tf_utils.py:492: The name tf.ragged.RaggedTensorValue is deprecated. Please use tf.compat.v1.ragged.RaggedTensorValue instead.\n",
      "\n",
      "WARNING:tensorflow:From C:\\Users\\Lenovo\\anaconda3\\Lib\\site-packages\\keras\\src\\engine\\base_layer_utils.py:384: The name tf.executing_eagerly_outside_functions is deprecated. Please use tf.compat.v1.executing_eagerly_outside_functions instead.\n",
      "\n",
      "319/319 [==============================] - 1s 1ms/step - loss: 0.5912 - accuracy: 0.6912 - val_loss: 0.5052 - val_accuracy: 0.7543\n",
      "Epoch 2/150\n",
      "319/319 [==============================] - 0s 929us/step - loss: 0.4759 - accuracy: 0.7699 - val_loss: 0.4695 - val_accuracy: 0.7798\n",
      "Epoch 3/150\n",
      "319/319 [==============================] - 0s 913us/step - loss: 0.4504 - accuracy: 0.7870 - val_loss: 0.4470 - val_accuracy: 0.7889\n",
      "Epoch 4/150\n",
      "319/319 [==============================] - 0s 941us/step - loss: 0.4361 - accuracy: 0.7956 - val_loss: 0.4346 - val_accuracy: 0.7979\n",
      "Epoch 5/150\n",
      "319/319 [==============================] - 0s 935us/step - loss: 0.4270 - accuracy: 0.8009 - val_loss: 0.4257 - val_accuracy: 0.8006\n",
      "Epoch 6/150\n",
      "319/319 [==============================] - 0s 896us/step - loss: 0.4192 - accuracy: 0.8061 - val_loss: 0.4159 - val_accuracy: 0.8034\n",
      "Epoch 7/150\n",
      "319/319 [==============================] - 0s 895us/step - loss: 0.4129 - accuracy: 0.8082 - val_loss: 0.4128 - val_accuracy: 0.8049\n",
      "Epoch 8/150\n",
      "319/319 [==============================] - 0s 897us/step - loss: 0.4071 - accuracy: 0.8116 - val_loss: 0.4049 - val_accuracy: 0.8151\n",
      "Epoch 9/150\n",
      "319/319 [==============================] - 0s 872us/step - loss: 0.4025 - accuracy: 0.8136 - val_loss: 0.4010 - val_accuracy: 0.8148\n",
      "Epoch 10/150\n",
      "319/319 [==============================] - 0s 894us/step - loss: 0.3984 - accuracy: 0.8156 - val_loss: 0.3978 - val_accuracy: 0.8171\n",
      "Epoch 11/150\n",
      "319/319 [==============================] - 0s 968us/step - loss: 0.3956 - accuracy: 0.8179 - val_loss: 0.3954 - val_accuracy: 0.8155\n",
      "Epoch 12/150\n",
      "319/319 [==============================] - 0s 907us/step - loss: 0.3927 - accuracy: 0.8173 - val_loss: 0.3932 - val_accuracy: 0.8206\n",
      "Epoch 13/150\n",
      "319/319 [==============================] - 0s 919us/step - loss: 0.3913 - accuracy: 0.8181 - val_loss: 0.3927 - val_accuracy: 0.8226\n",
      "Epoch 14/150\n",
      "319/319 [==============================] - 0s 921us/step - loss: 0.3893 - accuracy: 0.8215 - val_loss: 0.3909 - val_accuracy: 0.8257\n",
      "Epoch 15/150\n",
      "319/319 [==============================] - 0s 890us/step - loss: 0.3879 - accuracy: 0.8212 - val_loss: 0.3907 - val_accuracy: 0.8222\n",
      "Epoch 16/150\n",
      "319/319 [==============================] - 0s 907us/step - loss: 0.3866 - accuracy: 0.8240 - val_loss: 0.3884 - val_accuracy: 0.8261\n",
      "Epoch 17/150\n",
      "319/319 [==============================] - 0s 888us/step - loss: 0.3852 - accuracy: 0.8246 - val_loss: 0.3873 - val_accuracy: 0.8242\n",
      "Epoch 18/150\n",
      "319/319 [==============================] - 0s 917us/step - loss: 0.3845 - accuracy: 0.8257 - val_loss: 0.3870 - val_accuracy: 0.8265\n",
      "Epoch 19/150\n",
      "319/319 [==============================] - 0s 873us/step - loss: 0.3829 - accuracy: 0.8255 - val_loss: 0.3888 - val_accuracy: 0.8242\n",
      "Epoch 20/150\n",
      "319/319 [==============================] - 0s 883us/step - loss: 0.3820 - accuracy: 0.8269 - val_loss: 0.3865 - val_accuracy: 0.8293\n",
      "Epoch 21/150\n",
      "319/319 [==============================] - 0s 870us/step - loss: 0.3811 - accuracy: 0.8263 - val_loss: 0.3863 - val_accuracy: 0.8254\n",
      "Epoch 22/150\n",
      "319/319 [==============================] - 0s 904us/step - loss: 0.3801 - accuracy: 0.8276 - val_loss: 0.3846 - val_accuracy: 0.8261\n",
      "Epoch 23/150\n",
      "319/319 [==============================] - 0s 1ms/step - loss: 0.3797 - accuracy: 0.8280 - val_loss: 0.3848 - val_accuracy: 0.8246\n",
      "Epoch 24/150\n",
      "319/319 [==============================] - 0s 909us/step - loss: 0.3781 - accuracy: 0.8292 - val_loss: 0.3843 - val_accuracy: 0.8265\n",
      "Epoch 25/150\n",
      "319/319 [==============================] - 0s 919us/step - loss: 0.3777 - accuracy: 0.8289 - val_loss: 0.3841 - val_accuracy: 0.8261\n",
      "Epoch 26/150\n",
      "319/319 [==============================] - 0s 919us/step - loss: 0.3767 - accuracy: 0.8275 - val_loss: 0.3837 - val_accuracy: 0.8273\n",
      "Epoch 27/150\n",
      "319/319 [==============================] - 0s 920us/step - loss: 0.3758 - accuracy: 0.8295 - val_loss: 0.3847 - val_accuracy: 0.8261\n",
      "Epoch 28/150\n",
      "319/319 [==============================] - 0s 891us/step - loss: 0.3753 - accuracy: 0.8317 - val_loss: 0.3840 - val_accuracy: 0.8293\n",
      "Epoch 29/150\n",
      "319/319 [==============================] - 0s 1ms/step - loss: 0.3751 - accuracy: 0.8310 - val_loss: 0.3841 - val_accuracy: 0.8277\n",
      "Epoch 30/150\n",
      "319/319 [==============================] - 0s 907us/step - loss: 0.3743 - accuracy: 0.8317 - val_loss: 0.3835 - val_accuracy: 0.8246\n",
      "Epoch 31/150\n",
      "319/319 [==============================] - 0s 931us/step - loss: 0.3742 - accuracy: 0.8295 - val_loss: 0.3831 - val_accuracy: 0.8281\n",
      "Epoch 32/150\n",
      "319/319 [==============================] - 0s 1ms/step - loss: 0.3739 - accuracy: 0.8305 - val_loss: 0.3846 - val_accuracy: 0.8261\n",
      "Epoch 33/150\n",
      "319/319 [==============================] - 0s 936us/step - loss: 0.3733 - accuracy: 0.8300 - val_loss: 0.3838 - val_accuracy: 0.8265\n",
      "Epoch 34/150\n",
      "319/319 [==============================] - 0s 931us/step - loss: 0.3724 - accuracy: 0.8325 - val_loss: 0.3839 - val_accuracy: 0.8238\n",
      "Epoch 35/150\n",
      "319/319 [==============================] - 0s 894us/step - loss: 0.3723 - accuracy: 0.8323 - val_loss: 0.3859 - val_accuracy: 0.8238\n",
      "Epoch 36/150\n",
      "319/319 [==============================] - 0s 1ms/step - loss: 0.3718 - accuracy: 0.8331 - val_loss: 0.3832 - val_accuracy: 0.8273\n",
      "Epoch 37/150\n",
      "319/319 [==============================] - 0s 880us/step - loss: 0.3713 - accuracy: 0.8339 - val_loss: 0.3848 - val_accuracy: 0.8261\n",
      "Epoch 38/150\n",
      "319/319 [==============================] - 0s 889us/step - loss: 0.3715 - accuracy: 0.8314 - val_loss: 0.3840 - val_accuracy: 0.8250\n",
      "Epoch 39/150\n",
      "319/319 [==============================] - 0s 907us/step - loss: 0.3703 - accuracy: 0.8327 - val_loss: 0.3861 - val_accuracy: 0.8238\n",
      "Epoch 40/150\n",
      "319/319 [==============================] - 0s 976us/step - loss: 0.3704 - accuracy: 0.8333 - val_loss: 0.3851 - val_accuracy: 0.8246\n",
      "Epoch 41/150\n",
      "319/319 [==============================] - 0s 862us/step - loss: 0.3702 - accuracy: 0.8328 - val_loss: 0.3854 - val_accuracy: 0.8242\n",
      "Epoch 42/150\n",
      "319/319 [==============================] - 0s 860us/step - loss: 0.3700 - accuracy: 0.8331 - val_loss: 0.3834 - val_accuracy: 0.8273\n",
      "Epoch 43/150\n",
      "319/319 [==============================] - 0s 865us/step - loss: 0.3692 - accuracy: 0.8322 - val_loss: 0.3825 - val_accuracy: 0.8261\n",
      "Epoch 44/150\n",
      "319/319 [==============================] - 0s 879us/step - loss: 0.3703 - accuracy: 0.8318 - val_loss: 0.3825 - val_accuracy: 0.8281\n",
      "Epoch 45/150\n",
      "319/319 [==============================] - 0s 884us/step - loss: 0.3688 - accuracy: 0.8350 - val_loss: 0.3821 - val_accuracy: 0.8285\n",
      "Epoch 46/150\n",
      "319/319 [==============================] - 0s 982us/step - loss: 0.3684 - accuracy: 0.8348 - val_loss: 0.3837 - val_accuracy: 0.8281\n",
      "Epoch 47/150\n",
      "319/319 [==============================] - 0s 944us/step - loss: 0.3686 - accuracy: 0.8363 - val_loss: 0.3839 - val_accuracy: 0.8261\n",
      "Epoch 48/150\n",
      "319/319 [==============================] - 0s 1ms/step - loss: 0.3684 - accuracy: 0.8355 - val_loss: 0.3821 - val_accuracy: 0.8257\n",
      "Epoch 49/150\n",
      "319/319 [==============================] - 0s 1ms/step - loss: 0.3685 - accuracy: 0.8356 - val_loss: 0.3839 - val_accuracy: 0.8261\n",
      "Epoch 50/150\n",
      "319/319 [==============================] - 0s 874us/step - loss: 0.3682 - accuracy: 0.8349 - val_loss: 0.3831 - val_accuracy: 0.8277\n",
      "Epoch 51/150\n",
      "319/319 [==============================] - 0s 926us/step - loss: 0.3679 - accuracy: 0.8350 - val_loss: 0.3820 - val_accuracy: 0.8238\n",
      "Epoch 52/150\n",
      "319/319 [==============================] - 0s 868us/step - loss: 0.3672 - accuracy: 0.8346 - val_loss: 0.3826 - val_accuracy: 0.8289\n",
      "Epoch 53/150\n",
      "319/319 [==============================] - 0s 859us/step - loss: 0.3673 - accuracy: 0.8381 - val_loss: 0.3851 - val_accuracy: 0.8265\n",
      "Epoch 54/150\n"
     ]
    },
    {
     "name": "stdout",
     "output_type": "stream",
     "text": [
      "319/319 [==============================] - 0s 946us/step - loss: 0.3673 - accuracy: 0.8354 - val_loss: 0.3835 - val_accuracy: 0.8246\n",
      "Epoch 55/150\n",
      "319/319 [==============================] - 0s 875us/step - loss: 0.3674 - accuracy: 0.8359 - val_loss: 0.3829 - val_accuracy: 0.8269\n",
      "Epoch 56/150\n",
      "319/319 [==============================] - 0s 882us/step - loss: 0.3667 - accuracy: 0.8372 - val_loss: 0.3862 - val_accuracy: 0.8242\n",
      "Epoch 57/150\n",
      "319/319 [==============================] - 0s 872us/step - loss: 0.3667 - accuracy: 0.8367 - val_loss: 0.3827 - val_accuracy: 0.8254\n",
      "Epoch 58/150\n",
      "319/319 [==============================] - 0s 868us/step - loss: 0.3665 - accuracy: 0.8377 - val_loss: 0.3827 - val_accuracy: 0.8269\n",
      "Epoch 59/150\n",
      "319/319 [==============================] - 0s 864us/step - loss: 0.3669 - accuracy: 0.8352 - val_loss: 0.3824 - val_accuracy: 0.8254\n",
      "Epoch 60/150\n",
      "319/319 [==============================] - 0s 875us/step - loss: 0.3664 - accuracy: 0.8363 - val_loss: 0.3816 - val_accuracy: 0.8265\n",
      "Epoch 61/150\n",
      "319/319 [==============================] - 0s 866us/step - loss: 0.3661 - accuracy: 0.8366 - val_loss: 0.3822 - val_accuracy: 0.8222\n",
      "Epoch 62/150\n",
      "319/319 [==============================] - 0s 857us/step - loss: 0.3659 - accuracy: 0.8381 - val_loss: 0.3841 - val_accuracy: 0.8254\n",
      "Epoch 63/150\n",
      "319/319 [==============================] - 0s 872us/step - loss: 0.3659 - accuracy: 0.8384 - val_loss: 0.3834 - val_accuracy: 0.8265\n",
      "Epoch 64/150\n",
      "319/319 [==============================] - 0s 999us/step - loss: 0.3663 - accuracy: 0.8372 - val_loss: 0.3817 - val_accuracy: 0.8261\n",
      "Epoch 65/150\n",
      "319/319 [==============================] - 0s 1ms/step - loss: 0.3665 - accuracy: 0.8359 - val_loss: 0.3828 - val_accuracy: 0.8265\n",
      "Epoch 66/150\n",
      "319/319 [==============================] - 0s 1ms/step - loss: 0.3658 - accuracy: 0.8376 - val_loss: 0.3839 - val_accuracy: 0.8246\n",
      "Epoch 67/150\n",
      "319/319 [==============================] - 0s 1ms/step - loss: 0.3652 - accuracy: 0.8376 - val_loss: 0.3825 - val_accuracy: 0.8261\n",
      "Epoch 68/150\n",
      "319/319 [==============================] - 0s 1ms/step - loss: 0.3652 - accuracy: 0.8368 - val_loss: 0.3862 - val_accuracy: 0.8246\n",
      "Epoch 69/150\n",
      "319/319 [==============================] - 0s 1ms/step - loss: 0.3654 - accuracy: 0.8382 - val_loss: 0.3829 - val_accuracy: 0.8246\n",
      "Epoch 70/150\n",
      "319/319 [==============================] - 0s 1ms/step - loss: 0.3655 - accuracy: 0.8371 - val_loss: 0.3835 - val_accuracy: 0.8234\n",
      "Epoch 71/150\n",
      "319/319 [==============================] - 0s 1ms/step - loss: 0.3649 - accuracy: 0.8366 - val_loss: 0.3834 - val_accuracy: 0.8242\n",
      "Epoch 72/150\n",
      "319/319 [==============================] - 1s 2ms/step - loss: 0.3648 - accuracy: 0.8371 - val_loss: 0.3847 - val_accuracy: 0.8257\n",
      "Epoch 73/150\n",
      "319/319 [==============================] - 1s 2ms/step - loss: 0.3650 - accuracy: 0.8385 - val_loss: 0.3821 - val_accuracy: 0.8257\n",
      "Epoch 74/150\n",
      "319/319 [==============================] - 0s 979us/step - loss: 0.3650 - accuracy: 0.8394 - val_loss: 0.3830 - val_accuracy: 0.8238\n",
      "Epoch 75/150\n",
      "319/319 [==============================] - 0s 927us/step - loss: 0.3648 - accuracy: 0.8372 - val_loss: 0.3844 - val_accuracy: 0.8269\n",
      "Epoch 76/150\n",
      "319/319 [==============================] - 0s 1ms/step - loss: 0.3649 - accuracy: 0.8382 - val_loss: 0.3836 - val_accuracy: 0.8246\n",
      "Epoch 77/150\n",
      "319/319 [==============================] - 1s 2ms/step - loss: 0.3648 - accuracy: 0.8386 - val_loss: 0.3821 - val_accuracy: 0.8238\n",
      "Epoch 78/150\n",
      "319/319 [==============================] - 1s 2ms/step - loss: 0.3644 - accuracy: 0.8380 - val_loss: 0.3827 - val_accuracy: 0.8222\n",
      "Epoch 79/150\n",
      "319/319 [==============================] - 1s 2ms/step - loss: 0.3644 - accuracy: 0.8375 - val_loss: 0.3829 - val_accuracy: 0.8234\n",
      "Epoch 80/150\n",
      "319/319 [==============================] - 1s 2ms/step - loss: 0.3647 - accuracy: 0.8377 - val_loss: 0.3826 - val_accuracy: 0.8254\n",
      "Epoch 81/150\n",
      "319/319 [==============================] - 1s 2ms/step - loss: 0.3643 - accuracy: 0.8399 - val_loss: 0.3836 - val_accuracy: 0.8222\n",
      "Epoch 82/150\n",
      "319/319 [==============================] - 1s 2ms/step - loss: 0.3640 - accuracy: 0.8383 - val_loss: 0.3848 - val_accuracy: 0.8281\n",
      "Epoch 83/150\n",
      "319/319 [==============================] - 1s 2ms/step - loss: 0.3638 - accuracy: 0.8389 - val_loss: 0.3834 - val_accuracy: 0.8230\n",
      "Epoch 84/150\n",
      "319/319 [==============================] - 1s 2ms/step - loss: 0.3640 - accuracy: 0.8382 - val_loss: 0.3822 - val_accuracy: 0.8238\n",
      "Epoch 85/150\n",
      "319/319 [==============================] - 1s 2ms/step - loss: 0.3640 - accuracy: 0.8386 - val_loss: 0.3825 - val_accuracy: 0.8230\n",
      "Epoch 86/150\n",
      "319/319 [==============================] - 1s 2ms/step - loss: 0.3635 - accuracy: 0.8375 - val_loss: 0.3829 - val_accuracy: 0.8222\n",
      "Epoch 87/150\n",
      "319/319 [==============================] - 0s 1ms/step - loss: 0.3639 - accuracy: 0.8374 - val_loss: 0.3829 - val_accuracy: 0.8254\n",
      "Epoch 88/150\n",
      "319/319 [==============================] - 0s 1ms/step - loss: 0.3642 - accuracy: 0.8357 - val_loss: 0.3830 - val_accuracy: 0.8254\n",
      "Epoch 89/150\n",
      "319/319 [==============================] - 0s 956us/step - loss: 0.3632 - accuracy: 0.8379 - val_loss: 0.3826 - val_accuracy: 0.8242\n",
      "Epoch 90/150\n",
      "319/319 [==============================] - 1s 2ms/step - loss: 0.3636 - accuracy: 0.8372 - val_loss: 0.3818 - val_accuracy: 0.8254\n",
      "Epoch 91/150\n",
      "319/319 [==============================] - 1s 2ms/step - loss: 0.3634 - accuracy: 0.8409 - val_loss: 0.3828 - val_accuracy: 0.8238\n",
      "Epoch 92/150\n",
      "319/319 [==============================] - 0s 1ms/step - loss: 0.3632 - accuracy: 0.8407 - val_loss: 0.3822 - val_accuracy: 0.8265\n",
      "Epoch 93/150\n",
      "319/319 [==============================] - 1s 2ms/step - loss: 0.3633 - accuracy: 0.8373 - val_loss: 0.3850 - val_accuracy: 0.8242\n",
      "Epoch 94/150\n",
      "319/319 [==============================] - 1s 2ms/step - loss: 0.3631 - accuracy: 0.8387 - val_loss: 0.3836 - val_accuracy: 0.8257\n",
      "Epoch 95/150\n",
      "319/319 [==============================] - 1s 2ms/step - loss: 0.3632 - accuracy: 0.8376 - val_loss: 0.3818 - val_accuracy: 0.8230\n",
      "Epoch 96/150\n",
      "319/319 [==============================] - 1s 2ms/step - loss: 0.3631 - accuracy: 0.8382 - val_loss: 0.3827 - val_accuracy: 0.8246\n",
      "Epoch 97/150\n",
      "319/319 [==============================] - 0s 1ms/step - loss: 0.3622 - accuracy: 0.8372 - val_loss: 0.3852 - val_accuracy: 0.8234\n",
      "Epoch 98/150\n",
      "319/319 [==============================] - 1s 2ms/step - loss: 0.3627 - accuracy: 0.8367 - val_loss: 0.3826 - val_accuracy: 0.8238\n",
      "Epoch 99/150\n",
      "319/319 [==============================] - 1s 2ms/step - loss: 0.3622 - accuracy: 0.8397 - val_loss: 0.3835 - val_accuracy: 0.8242\n",
      "Epoch 100/150\n",
      "319/319 [==============================] - 1s 2ms/step - loss: 0.3630 - accuracy: 0.8382 - val_loss: 0.3825 - val_accuracy: 0.8254\n",
      "Epoch 101/150\n",
      "319/319 [==============================] - 1s 2ms/step - loss: 0.3622 - accuracy: 0.8371 - val_loss: 0.3834 - val_accuracy: 0.8254\n",
      "Epoch 102/150\n",
      "319/319 [==============================] - 1s 2ms/step - loss: 0.3623 - accuracy: 0.8390 - val_loss: 0.3835 - val_accuracy: 0.8218\n",
      "Epoch 103/150\n",
      "319/319 [==============================] - 1s 2ms/step - loss: 0.3624 - accuracy: 0.8364 - val_loss: 0.3843 - val_accuracy: 0.8246\n",
      "Epoch 104/150\n",
      "319/319 [==============================] - 1s 2ms/step - loss: 0.3620 - accuracy: 0.8387 - val_loss: 0.3836 - val_accuracy: 0.8230\n",
      "Epoch 105/150\n",
      "319/319 [==============================] - 1s 2ms/step - loss: 0.3623 - accuracy: 0.8389 - val_loss: 0.3828 - val_accuracy: 0.8250\n",
      "Epoch 106/150\n",
      "319/319 [==============================] - 0s 2ms/step - loss: 0.3621 - accuracy: 0.8391 - val_loss: 0.3837 - val_accuracy: 0.8234\n",
      "Epoch 107/150\n",
      "319/319 [==============================] - 1s 2ms/step - loss: 0.3621 - accuracy: 0.8400 - val_loss: 0.3818 - val_accuracy: 0.8246\n",
      "Epoch 108/150\n",
      "319/319 [==============================] - 0s 1ms/step - loss: 0.3622 - accuracy: 0.8386 - val_loss: 0.3844 - val_accuracy: 0.8261\n",
      "Epoch 109/150\n",
      "319/319 [==============================] - 1s 2ms/step - loss: 0.3622 - accuracy: 0.8380 - val_loss: 0.3835 - val_accuracy: 0.8254\n",
      "Epoch 110/150\n",
      "319/319 [==============================] - 0s 1ms/step - loss: 0.3619 - accuracy: 0.8372 - val_loss: 0.3837 - val_accuracy: 0.8222\n"
     ]
    },
    {
     "name": "stdout",
     "output_type": "stream",
     "text": [
      "Epoch 111/150\n",
      "319/319 [==============================] - 0s 1ms/step - loss: 0.3621 - accuracy: 0.8368 - val_loss: 0.3821 - val_accuracy: 0.8238\n",
      "Epoch 112/150\n",
      "319/319 [==============================] - 0s 1ms/step - loss: 0.3615 - accuracy: 0.8387 - val_loss: 0.3839 - val_accuracy: 0.8218\n",
      "Epoch 113/150\n",
      "319/319 [==============================] - 0s 954us/step - loss: 0.3612 - accuracy: 0.8401 - val_loss: 0.3826 - val_accuracy: 0.8226\n",
      "Epoch 114/150\n",
      "319/319 [==============================] - 0s 924us/step - loss: 0.3621 - accuracy: 0.8369 - val_loss: 0.3845 - val_accuracy: 0.8250\n",
      "Epoch 115/150\n",
      "319/319 [==============================] - 0s 895us/step - loss: 0.3612 - accuracy: 0.8384 - val_loss: 0.3835 - val_accuracy: 0.8218\n",
      "Epoch 116/150\n",
      "319/319 [==============================] - 0s 918us/step - loss: 0.3615 - accuracy: 0.8390 - val_loss: 0.3827 - val_accuracy: 0.8226\n",
      "Epoch 117/150\n",
      "319/319 [==============================] - 0s 928us/step - loss: 0.3620 - accuracy: 0.8380 - val_loss: 0.3839 - val_accuracy: 0.8250\n",
      "Epoch 118/150\n",
      "319/319 [==============================] - 0s 893us/step - loss: 0.3611 - accuracy: 0.8395 - val_loss: 0.3854 - val_accuracy: 0.8250\n",
      "Epoch 119/150\n",
      "319/319 [==============================] - 0s 969us/step - loss: 0.3613 - accuracy: 0.8382 - val_loss: 0.3830 - val_accuracy: 0.8277\n",
      "Epoch 120/150\n",
      "319/319 [==============================] - 0s 982us/step - loss: 0.3616 - accuracy: 0.8360 - val_loss: 0.3837 - val_accuracy: 0.8222\n",
      "Epoch 121/150\n",
      "319/319 [==============================] - 0s 867us/step - loss: 0.3614 - accuracy: 0.8384 - val_loss: 0.3850 - val_accuracy: 0.8261\n",
      "Epoch 122/150\n",
      "319/319 [==============================] - 0s 887us/step - loss: 0.3612 - accuracy: 0.8376 - val_loss: 0.3816 - val_accuracy: 0.8242\n",
      "Epoch 123/150\n",
      "319/319 [==============================] - 0s 884us/step - loss: 0.3613 - accuracy: 0.8398 - val_loss: 0.3831 - val_accuracy: 0.8230\n",
      "Epoch 124/150\n",
      "319/319 [==============================] - 0s 883us/step - loss: 0.3608 - accuracy: 0.8380 - val_loss: 0.3827 - val_accuracy: 0.8238\n",
      "Epoch 125/150\n",
      "319/319 [==============================] - 0s 915us/step - loss: 0.3612 - accuracy: 0.8388 - val_loss: 0.3832 - val_accuracy: 0.8250\n",
      "Epoch 126/150\n",
      "319/319 [==============================] - 0s 946us/step - loss: 0.3611 - accuracy: 0.8393 - val_loss: 0.3841 - val_accuracy: 0.8234\n",
      "Epoch 127/150\n",
      "319/319 [==============================] - 0s 1ms/step - loss: 0.3608 - accuracy: 0.8402 - val_loss: 0.3846 - val_accuracy: 0.8222\n",
      "Epoch 128/150\n",
      "319/319 [==============================] - 0s 909us/step - loss: 0.3609 - accuracy: 0.8401 - val_loss: 0.3833 - val_accuracy: 0.8242\n",
      "Epoch 129/150\n",
      "319/319 [==============================] - 0s 953us/step - loss: 0.3612 - accuracy: 0.8386 - val_loss: 0.3847 - val_accuracy: 0.8254\n",
      "Epoch 130/150\n",
      "319/319 [==============================] - 0s 949us/step - loss: 0.3603 - accuracy: 0.8390 - val_loss: 0.3879 - val_accuracy: 0.8242\n",
      "Epoch 131/150\n",
      "319/319 [==============================] - 0s 916us/step - loss: 0.3609 - accuracy: 0.8378 - val_loss: 0.3832 - val_accuracy: 0.8199\n",
      "Epoch 132/150\n",
      "319/319 [==============================] - 0s 977us/step - loss: 0.3606 - accuracy: 0.8386 - val_loss: 0.3843 - val_accuracy: 0.8261\n",
      "Epoch 133/150\n",
      "319/319 [==============================] - 0s 938us/step - loss: 0.3604 - accuracy: 0.8373 - val_loss: 0.3825 - val_accuracy: 0.8226\n",
      "Epoch 134/150\n",
      "319/319 [==============================] - 0s 947us/step - loss: 0.3605 - accuracy: 0.8390 - val_loss: 0.3862 - val_accuracy: 0.8206\n",
      "Epoch 135/150\n",
      "319/319 [==============================] - 0s 968us/step - loss: 0.3608 - accuracy: 0.8386 - val_loss: 0.3840 - val_accuracy: 0.8242\n",
      "Epoch 136/150\n",
      "319/319 [==============================] - 0s 862us/step - loss: 0.3603 - accuracy: 0.8384 - val_loss: 0.3834 - val_accuracy: 0.8230\n",
      "Epoch 137/150\n",
      "319/319 [==============================] - 0s 896us/step - loss: 0.3604 - accuracy: 0.8380 - val_loss: 0.3857 - val_accuracy: 0.8234\n",
      "Epoch 138/150\n",
      "319/319 [==============================] - 0s 904us/step - loss: 0.3600 - accuracy: 0.8390 - val_loss: 0.3844 - val_accuracy: 0.8250\n",
      "Epoch 139/150\n",
      "319/319 [==============================] - 0s 862us/step - loss: 0.3602 - accuracy: 0.8392 - val_loss: 0.3834 - val_accuracy: 0.8238\n",
      "Epoch 140/150\n",
      "319/319 [==============================] - 0s 1ms/step - loss: 0.3603 - accuracy: 0.8399 - val_loss: 0.3846 - val_accuracy: 0.8254\n",
      "Epoch 141/150\n",
      "319/319 [==============================] - 0s 1ms/step - loss: 0.3600 - accuracy: 0.8397 - val_loss: 0.3839 - val_accuracy: 0.8226\n",
      "Epoch 142/150\n",
      "319/319 [==============================] - 0s 879us/step - loss: 0.3597 - accuracy: 0.8401 - val_loss: 0.3827 - val_accuracy: 0.8226\n",
      "Epoch 143/150\n",
      "319/319 [==============================] - 0s 919us/step - loss: 0.3605 - accuracy: 0.8390 - val_loss: 0.3825 - val_accuracy: 0.8250\n",
      "Epoch 144/150\n",
      "319/319 [==============================] - 0s 878us/step - loss: 0.3600 - accuracy: 0.8383 - val_loss: 0.3851 - val_accuracy: 0.8261\n",
      "Epoch 145/150\n",
      "319/319 [==============================] - 0s 908us/step - loss: 0.3600 - accuracy: 0.8386 - val_loss: 0.3837 - val_accuracy: 0.8230\n",
      "Epoch 146/150\n",
      "319/319 [==============================] - 0s 900us/step - loss: 0.3604 - accuracy: 0.8389 - val_loss: 0.3828 - val_accuracy: 0.8242\n",
      "Epoch 147/150\n",
      "319/319 [==============================] - 0s 893us/step - loss: 0.3602 - accuracy: 0.8394 - val_loss: 0.3844 - val_accuracy: 0.8257\n",
      "Epoch 148/150\n",
      "319/319 [==============================] - 0s 898us/step - loss: 0.3602 - accuracy: 0.8403 - val_loss: 0.3834 - val_accuracy: 0.8230\n",
      "Epoch 149/150\n",
      "319/319 [==============================] - 0s 883us/step - loss: 0.3598 - accuracy: 0.8377 - val_loss: 0.3840 - val_accuracy: 0.8214\n",
      "Epoch 150/150\n",
      "319/319 [==============================] - 0s 892us/step - loss: 0.3598 - accuracy: 0.8400 - val_loss: 0.3835 - val_accuracy: 0.8250\n"
     ]
    }
   ],
   "source": [
    "history=model.fit(X_resampled_train_scaled,y_resampled_train,epochs=150, validation_split=0.2)    \n",
    "# The validation_split=0.2 splitted the data where 80% is the training data and 20% is the testing data. Here the model will train and give accuracy on test data simultaneously.\n",
    "# This is the stage where my neural network is getting trained\n",
    "# I have stored this entire data in a dictionary named \"history\". Now I can plot a graph at any stage I want."
   ]
  },
  {
   "cell_type": "code",
   "execution_count": 53,
   "id": "6b406933",
   "metadata": {},
   "outputs": [],
   "source": [
    "# Now the model has been trained and the model has calculated all the weights and biases.\n",
    "# Lets check the weights assigned to the inputs\n",
    "\n",
    "weights=model.layers[0].get_weights()  # This will show all the 120 weights and 12 biases"
   ]
  },
  {
   "cell_type": "code",
   "execution_count": 54,
   "id": "a458a3ab",
   "metadata": {},
   "outputs": [
    {
     "data": {
      "text/plain": [
       "[array([[ 0.08024152,  0.49455115,  0.4761723 , -0.39552483,  0.32363397,\n",
       "         -0.22575088,  0.7067389 , -0.14569339,  0.18204093,  0.259223  ],\n",
       "        [-0.23446292,  0.38861704,  0.7486749 ,  0.04477453, -0.08799285,\n",
       "         -0.30785888, -0.06701332, -0.7378529 ,  0.34224373, -0.025589  ],\n",
       "        [-0.17549808,  0.11509491,  0.12317255, -0.15489155,  0.5866182 ,\n",
       "          0.35012004, -0.10069875,  0.7672664 ,  0.7430648 , -0.23917206],\n",
       "        [ 0.72607917, -0.14268897,  0.3626821 ,  0.2136246 , -0.02801708,\n",
       "          0.4787131 , -0.19759889,  0.02804545,  0.4155495 ,  0.13052389],\n",
       "        [-0.4730712 ,  0.9137532 , -1.0493113 ,  0.1653496 , -1.0677656 ,\n",
       "          0.8807102 ,  0.32579827, -2.816435  , -1.0659124 ,  0.27728468],\n",
       "        [ 0.751313  ,  0.15330441,  0.17210616, -0.49836174,  0.33542657,\n",
       "         -0.41202325,  0.21590936, -1.7432821 ,  0.2607797 , -1.2283581 ],\n",
       "        [ 0.920128  ,  0.15440935, -0.70965004, -0.672412  , -1.2638798 ,\n",
       "         -0.19977903,  0.47404617,  0.3099142 , -1.8198202 , -0.29023919],\n",
       "        [-0.8624721 ,  0.6064586 , -0.33685797,  0.48302773,  0.06217443,\n",
       "         -0.02512588, -0.15740845,  0.21740356, -0.38502875,  0.16311637],\n",
       "        [-0.57527936, -0.05296129, -0.12244885,  0.38724765, -0.01624273,\n",
       "          0.13848343, -0.37911257, -0.05163097, -0.28974578,  0.4119549 ],\n",
       "        [ 0.831961  , -0.79004943,  0.482695  ,  0.10479057,  0.12716736,\n",
       "         -0.12947346, -0.2911761 ,  0.6073237 , -0.10543001, -0.92526937],\n",
       "        [-0.41656694,  0.9235545 , -0.43801242,  0.4674543 , -0.7168246 ,\n",
       "         -0.9394143 , -1.0356913 , -0.5151935 , -0.04749588, -0.11452397],\n",
       "        [-0.45823824,  0.02618926,  0.43661806,  0.05089155, -0.35286295,\n",
       "          0.16137315,  0.21735318, -0.10052737, -0.4372732 ,  0.7359732 ]],\n",
       "       dtype=float32),\n",
       " array([-0.1581824 , -0.13226561,  0.19441673,  0.48406452,  0.11432116,\n",
       "         0.29195255,  0.17050709, -0.23130459,  0.28299823,  0.3965666 ],\n",
       "       dtype=float32)]"
      ]
     },
     "execution_count": 54,
     "metadata": {},
     "output_type": "execute_result"
    }
   ],
   "source": [
    "# Similarly lets check the weights for next layer\n",
    "\n",
    "model.layers[1].get_weights()"
   ]
  },
  {
   "cell_type": "code",
   "execution_count": 55,
   "id": "c8ddde73",
   "metadata": {},
   "outputs": [
    {
     "name": "stdout",
     "output_type": "stream",
     "text": [
      "100/100 [==============================] - 0s 595us/step\n"
     ]
    },
    {
     "data": {
      "text/plain": [
       "array([[0.19250011],\n",
       "       [0.4433936 ],\n",
       "       [0.85882103],\n",
       "       ...,\n",
       "       [0.9692943 ],\n",
       "       [0.13356255],\n",
       "       [0.3872059 ]], dtype=float32)"
      ]
     },
     "execution_count": 55,
     "metadata": {},
     "output_type": "execute_result"
    }
   ],
   "source": [
    "y_log=model.predict(X_resampled_test_scaled)\n",
    "y_log"
   ]
  },
  {
   "cell_type": "code",
   "execution_count": 56,
   "id": "b66c9654",
   "metadata": {},
   "outputs": [],
   "source": [
    "# Since the output is not in the form of 0 & 1. so lets convert it using a threshold of 0.5"
   ]
  },
  {
   "cell_type": "code",
   "execution_count": 57,
   "id": "b49041eb",
   "metadata": {},
   "outputs": [
    {
     "data": {
      "text/plain": [
       "array([[0],\n",
       "       [0],\n",
       "       [1],\n",
       "       ...,\n",
       "       [1],\n",
       "       [0],\n",
       "       [0]])"
      ]
     },
     "execution_count": 57,
     "metadata": {},
     "output_type": "execute_result"
    }
   ],
   "source": [
    "y_pred=np.where(y_log>0.5,1,0)\n",
    "y_pred"
   ]
  },
  {
   "cell_type": "code",
   "execution_count": 58,
   "id": "658a1d79",
   "metadata": {},
   "outputs": [],
   "source": [
    "from sklearn.metrics import accuracy_score"
   ]
  },
  {
   "cell_type": "code",
   "execution_count": 59,
   "id": "e7a5a40f",
   "metadata": {},
   "outputs": [
    {
     "name": "stdout",
     "output_type": "stream",
     "text": [
      "Accuracy of the model is :  0.8298807281858129\n"
     ]
    }
   ],
   "source": [
    "print(\"Accuracy of the model is : \", accuracy_score(y_resampled_test,y_pred))"
   ]
  },
  {
   "cell_type": "code",
   "execution_count": 60,
   "id": "3b4bb6d5",
   "metadata": {},
   "outputs": [
    {
     "data": {
      "text/plain": [
       "[<matplotlib.lines.Line2D at 0x251a329fc90>]"
      ]
     },
     "execution_count": 60,
     "metadata": {},
     "output_type": "execute_result"
    },
    {
     "data": {
      "image/png": "[encoded data removed]",
      "text/plain": [
       "<Figure size 640x480 with 1 Axes>"
      ]
     },
     "metadata": {},
     "output_type": "display_data"
    }
   ],
   "source": [
    "plt.plot(history.history['loss'])    # History is a dictionary that stores loss, accuracy, validation_loss, validation_accuracy in key value pair\n",
    "plt.plot(history.history['val_loss'])"
   ]
  },
  {
   "cell_type": "code",
   "execution_count": 61,
   "id": "b50f10f5",
   "metadata": {},
   "outputs": [
    {
     "data": {
      "text/plain": [
       "[<matplotlib.lines.Line2D at 0x251a4e60e50>]"
      ]
     },
     "execution_count": 61,
     "metadata": {},
     "output_type": "execute_result"
    },
    {
     "data": {
      "image/png": "[encoded data removed]",
      "text/plain": [
       "<Figure size 640x480 with 1 Axes>"
      ]
     },
     "metadata": {},
     "output_type": "display_data"
    }
   ],
   "source": [
    "plt.plot(history.history['accuracy'])    \n",
    "plt.plot(history.history['val_accuracy'])"
   ]
  },
  {
   "cell_type": "code",
   "execution_count": 62,
   "id": "06b2ce8d",
   "metadata": {},
   "outputs": [],
   "source": [
    "#Since the loss and accuracy curves are more or less close to val_loss and val_accuray curve, so it can be inferrred that the model has not overfitted the training data"
   ]
  },
  {
   "cell_type": "code",
   "execution_count": 63,
   "id": "11a544e7",
   "metadata": {},
   "outputs": [
    {
     "data": {
      "text/html": [
       "<div>\n",
       "<style scoped>\n",
       "    .dataframe tbody tr th:only-of-type {\n",
       "        vertical-align: middle;\n",
       "    }\n",
       "\n",
       "    .dataframe tbody tr th {\n",
       "        vertical-align: top;\n",
       "    }\n",
       "\n",
       "    .dataframe thead th {\n",
       "        text-align: right;\n",
       "    }\n",
       "</style>\n",
       "<table border=\"1\" class=\"dataframe\">\n",
       "  <thead>\n",
       "    <tr style=\"text-align: right;\">\n",
       "      <th></th>\n",
       "      <th>CreditScore</th>\n",
       "      <th>Geography</th>\n",
       "      <th>Gender</th>\n",
       "      <th>Age</th>\n",
       "      <th>Tenure</th>\n",
       "      <th>Balance</th>\n",
       "      <th>NumOfProducts</th>\n",
       "      <th>HasCrCard</th>\n",
       "      <th>IsActiveMember</th>\n",
       "      <th>EstimatedSalary</th>\n",
       "    </tr>\n",
       "  </thead>\n",
       "  <tbody>\n",
       "    <tr>\n",
       "      <th>0</th>\n",
       "      <td>619</td>\n",
       "      <td>0</td>\n",
       "      <td>0</td>\n",
       "      <td>42</td>\n",
       "      <td>2</td>\n",
       "      <td>0.00</td>\n",
       "      <td>1</td>\n",
       "      <td>1</td>\n",
       "      <td>1</td>\n",
       "      <td>101348.88</td>\n",
       "    </tr>\n",
       "    <tr>\n",
       "      <th>1</th>\n",
       "      <td>608</td>\n",
       "      <td>1</td>\n",
       "      <td>0</td>\n",
       "      <td>41</td>\n",
       "      <td>1</td>\n",
       "      <td>83807.86</td>\n",
       "      <td>1</td>\n",
       "      <td>0</td>\n",
       "      <td>1</td>\n",
       "      <td>112542.58</td>\n",
       "    </tr>\n",
       "    <tr>\n",
       "      <th>2</th>\n",
       "      <td>502</td>\n",
       "      <td>0</td>\n",
       "      <td>0</td>\n",
       "      <td>42</td>\n",
       "      <td>8</td>\n",
       "      <td>159660.80</td>\n",
       "      <td>3</td>\n",
       "      <td>1</td>\n",
       "      <td>0</td>\n",
       "      <td>113931.57</td>\n",
       "    </tr>\n",
       "    <tr>\n",
       "      <th>3</th>\n",
       "      <td>699</td>\n",
       "      <td>0</td>\n",
       "      <td>0</td>\n",
       "      <td>39</td>\n",
       "      <td>1</td>\n",
       "      <td>0.00</td>\n",
       "      <td>2</td>\n",
       "      <td>0</td>\n",
       "      <td>0</td>\n",
       "      <td>93826.63</td>\n",
       "    </tr>\n",
       "    <tr>\n",
       "      <th>4</th>\n",
       "      <td>850</td>\n",
       "      <td>1</td>\n",
       "      <td>0</td>\n",
       "      <td>43</td>\n",
       "      <td>2</td>\n",
       "      <td>125510.82</td>\n",
       "      <td>1</td>\n",
       "      <td>1</td>\n",
       "      <td>1</td>\n",
       "      <td>79084.10</td>\n",
       "    </tr>\n",
       "    <tr>\n",
       "      <th>...</th>\n",
       "      <td>...</td>\n",
       "      <td>...</td>\n",
       "      <td>...</td>\n",
       "      <td>...</td>\n",
       "      <td>...</td>\n",
       "      <td>...</td>\n",
       "      <td>...</td>\n",
       "      <td>...</td>\n",
       "      <td>...</td>\n",
       "      <td>...</td>\n",
       "    </tr>\n",
       "    <tr>\n",
       "      <th>9995</th>\n",
       "      <td>771</td>\n",
       "      <td>0</td>\n",
       "      <td>1</td>\n",
       "      <td>39</td>\n",
       "      <td>5</td>\n",
       "      <td>0.00</td>\n",
       "      <td>2</td>\n",
       "      <td>1</td>\n",
       "      <td>0</td>\n",
       "      <td>96270.64</td>\n",
       "    </tr>\n",
       "    <tr>\n",
       "      <th>9996</th>\n",
       "      <td>516</td>\n",
       "      <td>0</td>\n",
       "      <td>1</td>\n",
       "      <td>35</td>\n",
       "      <td>10</td>\n",
       "      <td>57369.61</td>\n",
       "      <td>1</td>\n",
       "      <td>1</td>\n",
       "      <td>1</td>\n",
       "      <td>101699.77</td>\n",
       "    </tr>\n",
       "    <tr>\n",
       "      <th>9997</th>\n",
       "      <td>709</td>\n",
       "      <td>0</td>\n",
       "      <td>0</td>\n",
       "      <td>36</td>\n",
       "      <td>7</td>\n",
       "      <td>0.00</td>\n",
       "      <td>1</td>\n",
       "      <td>0</td>\n",
       "      <td>1</td>\n",
       "      <td>42085.58</td>\n",
       "    </tr>\n",
       "    <tr>\n",
       "      <th>9998</th>\n",
       "      <td>772</td>\n",
       "      <td>2</td>\n",
       "      <td>1</td>\n",
       "      <td>42</td>\n",
       "      <td>3</td>\n",
       "      <td>75075.31</td>\n",
       "      <td>2</td>\n",
       "      <td>1</td>\n",
       "      <td>0</td>\n",
       "      <td>92888.52</td>\n",
       "    </tr>\n",
       "    <tr>\n",
       "      <th>9999</th>\n",
       "      <td>792</td>\n",
       "      <td>0</td>\n",
       "      <td>0</td>\n",
       "      <td>28</td>\n",
       "      <td>4</td>\n",
       "      <td>130142.79</td>\n",
       "      <td>1</td>\n",
       "      <td>1</td>\n",
       "      <td>0</td>\n",
       "      <td>38190.78</td>\n",
       "    </tr>\n",
       "  </tbody>\n",
       "</table>\n",
       "<p>10000 rows × 10 columns</p>\n",
       "</div>"
      ],
      "text/plain": [
       "      CreditScore  Geography  Gender  Age  Tenure    Balance  NumOfProducts  \\\n",
       "0             619          0       0   42       2       0.00              1   \n",
       "1             608          1       0   41       1   83807.86              1   \n",
       "2             502          0       0   42       8  159660.80              3   \n",
       "3             699          0       0   39       1       0.00              2   \n",
       "4             850          1       0   43       2  125510.82              1   \n",
       "...           ...        ...     ...  ...     ...        ...            ...   \n",
       "9995          771          0       1   39       5       0.00              2   \n",
       "9996          516          0       1   35      10   57369.61              1   \n",
       "9997          709          0       0   36       7       0.00              1   \n",
       "9998          772          2       1   42       3   75075.31              2   \n",
       "9999          792          0       0   28       4  130142.79              1   \n",
       "\n",
       "      HasCrCard  IsActiveMember  EstimatedSalary  \n",
       "0             1               1        101348.88  \n",
       "1             0               1        112542.58  \n",
       "2             1               0        113931.57  \n",
       "3             0               0         93826.63  \n",
       "4             1               1         79084.10  \n",
       "...         ...             ...              ...  \n",
       "9995          1               0         96270.64  \n",
       "9996          1               1        101699.77  \n",
       "9997          0               1         42085.58  \n",
       "9998          1               0         92888.52  \n",
       "9999          1               0         38190.78  \n",
       "\n",
       "[10000 rows x 10 columns]"
      ]
     },
     "execution_count": 63,
     "metadata": {},
     "output_type": "execute_result"
    }
   ],
   "source": [
    "# Predicting on new data\n",
    "X                       \n",
    "\n",
    "# Geography: 0-France, 1-Spain, 2-Germany\n",
    "# Gender: 0-Female, 1-Male"
   ]
  },
  {
   "cell_type": "code",
   "execution_count": 64,
   "id": "d0195c6a",
   "metadata": {},
   "outputs": [
    {
     "name": "stdout",
     "output_type": "stream",
     "text": [
      "1/1 [==============================] - 0s 39ms/step\n",
      "[[0.]]\n"
     ]
    }
   ],
   "source": [
    "input_data=(650,1,0,50,2,55000,1,1,0,100000)\n",
    "\n",
    "# changing input data to numpy array\n",
    "input_data_as_numpy_array=np.asarray(input_data)\n",
    "\n",
    "# Reshaping the array\n",
    "input_data_reshaped= input_data_as_numpy_array.reshape(1,-1)\n",
    "\n",
    "prediction=model.predict(input_data_reshaped)\n",
    "print(prediction)"
   ]
  },
  {
   "cell_type": "code",
   "execution_count": 65,
   "id": "d87c14d7",
   "metadata": {},
   "outputs": [
    {
     "name": "stdout",
     "output_type": "stream",
     "text": [
      "1/1 [==============================] - 0s 4ms/step\n",
      "[[0.]]\n"
     ]
    }
   ],
   "source": [
    "input_data=(500,1,1,30,2,500,1,1,0,50000)\n",
    "\n",
    "# changing input data to numpy array\n",
    "input_data_as_numpy_array=np.asarray(input_data)\n",
    "\n",
    "# Reshaping the array\n",
    "input_data_reshaped= input_data_as_numpy_array.reshape(1,-1)\n",
    "\n",
    "prediction=model.predict(input_data_reshaped)\n",
    "print(prediction)"
   ]
  },
  {
   "cell_type": "code",
   "execution_count": 66,
   "id": "c7f17afc",
   "metadata": {},
   "outputs": [
    {
     "name": "stderr",
     "output_type": "stream",
     "text": [
      "C:\\Users\\Lenovo\\anaconda3\\Lib\\site-packages\\keras\\src\\engine\\training.py:3103: UserWarning: You are saving your model as an HDF5 file via `model.save()`. This file format is considered legacy. We recommend using instead the native Keras format, e.g. `model.save('my_model.keras')`.\n",
      "  saving_api.save_model(\n"
     ]
    }
   ],
   "source": [
    "# Lets save the model\n",
    "model.save(\"churn_prediction_model.h5\")"
   ]
  },
  {
   "cell_type": "code",
   "execution_count": null,
   "id": "055750b0",
   "metadata": {},
   "outputs": [],
   "source": []
  }
 ],
 "metadata": {
  "kernelspec": {
   "display_name": "Python 3 (ipykernel)",
   "language": "python",
   "name": "python3"
  },
  "language_info": {
   "codemirror_mode": {
    "name": "ipython",
    "version": 3
   },
   "file_extension": ".py",
   "mimetype": "text/x-python",
   "name": "python",
   "nbconvert_exporter": "python",
   "pygments_lexer": "ipython3",
   "version": "3.11.5"
  }
 },
 "nbformat": 4,
 "nbformat_minor": 5
}
